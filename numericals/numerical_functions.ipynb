{
 "cells": [
  {
   "cell_type": "markdown",
   "id": "508d5316",
   "metadata": {},
   "source": [
    "'''\n",
    "https://www.youtube.com/watch?v=wiGkV37Kbxk\n",
    "\n",
    "math.factorial(), math.comb(), math.perm()  \n",
    "np.sum(), math.fsum()  \n",
    "mean(), stdev(), pstdev(). variance(). pvariance, in statistics  \n",
    "math.hypot()  \n",
    "'''"
   ]
  },
  {
   "cell_type": "code",
   "execution_count": 2,
   "id": "16b47088",
   "metadata": {},
   "outputs": [
    {
     "name": "stdout",
     "output_type": "stream",
     "text": [
      "Python 3.10.11\r\n"
     ]
    }
   ],
   "source": [
    "!python -V"
   ]
  },
  {
   "cell_type": "code",
   "execution_count": 1,
   "id": "0c0a1d18",
   "metadata": {},
   "outputs": [],
   "source": [
    "import math \n",
    "import numpy as np"
   ]
  },
  {
   "cell_type": "markdown",
   "id": "bb22d075",
   "metadata": {},
   "source": [
    "#### Factorial goes faster"
   ]
  },
  {
   "cell_type": "code",
   "execution_count": 39,
   "id": "59c2bee4",
   "metadata": {},
   "outputs": [
    {
     "name": "stdout",
     "output_type": "stream",
     "text": [
      "10.6 µs ± 32.3 ns per loop (mean ± std. dev. of 7 runs, 100,000 loops each)\n"
     ]
    }
   ],
   "source": [
    "# basic factorial \n",
    "%timeit math.prod(range(1, 150))"
   ]
  },
  {
   "cell_type": "code",
   "execution_count": 33,
   "id": "6ed08670",
   "metadata": {},
   "outputs": [
    {
     "data": {
      "text/plain": [
       "120"
      ]
     },
     "execution_count": 33,
     "metadata": {},
     "output_type": "execute_result"
    }
   ],
   "source": [
    "math.prod(range(1,6))"
   ]
  },
  {
   "cell_type": "code",
   "execution_count": 34,
   "id": "3de3477a",
   "metadata": {},
   "outputs": [],
   "source": [
    "def f(x):\n",
    "    return x * f(x-1) if x > 1 else 1"
   ]
  },
  {
   "cell_type": "code",
   "execution_count": 28,
   "id": "50d23564",
   "metadata": {},
   "outputs": [
    {
     "data": {
      "text/plain": [
       "120"
      ]
     },
     "execution_count": 28,
     "metadata": {},
     "output_type": "execute_result"
    }
   ],
   "source": [
    "f(5)"
   ]
  },
  {
   "cell_type": "code",
   "execution_count": 40,
   "id": "0a39e369",
   "metadata": {},
   "outputs": [
    {
     "name": "stdout",
     "output_type": "stream",
     "text": [
      "1.8 µs ± 3.93 ns per loop (mean ± std. dev. of 7 runs, 1,000,000 loops each)\n"
     ]
    }
   ],
   "source": [
    "%timeit math.factorial(150)"
   ]
  },
  {
   "cell_type": "code",
   "execution_count": 44,
   "id": "76a5a46f",
   "metadata": {},
   "outputs": [
    {
     "data": {
      "text/plain": [
       "0.169811320754717"
      ]
     },
     "execution_count": 44,
     "metadata": {},
     "output_type": "execute_result"
    }
   ],
   "source": [
    "(1.8/10.6)"
   ]
  },
  {
   "cell_type": "markdown",
   "id": "39c22c93",
   "metadata": {},
   "source": [
    "#### compute factorials like a boss  \n",
    "\n",
    "Winning ideas:  \n",
    "Left shift is cheaper than multiplying by two   \n",
    "Pulling out events leaves recurring odd factories  \n",
    "Dynamic programming reuses previously computed odd factorials  "
   ]
  },
  {
   "cell_type": "code",
   "execution_count": 75,
   "id": "f99c70e9",
   "metadata": {},
   "outputs": [
    {
     "name": "stdout",
     "output_type": "stream",
     "text": [
      "1*2*3*4*5*6*7*8*9*10*11*12*13*14*15*16*17*18*19* 1*3*5*7*9*11*13*15*17*19* 2*4*6*8*10*12*14*16*18*\n"
     ]
    }
   ],
   "source": [
    "s = \"\"\n",
    "so = \"\"\n",
    "se = \"\"\n",
    "for i in range(1,20):\n",
    "    s += str(i) + '*'\n",
    "    if i%2 == 0:\n",
    "        se += str(i) + '*'\n",
    "    else: \n",
    "        so += str(i) + '*'\n",
    "print(s, so, se)"
   ]
  },
  {
   "cell_type": "code",
   "execution_count": 71,
   "id": "948f5d5a",
   "metadata": {
    "scrolled": true
   },
   "outputs": [
    {
     "data": {
      "text/plain": [
       "121645100408832000"
      ]
     },
     "execution_count": 71,
     "metadata": {},
     "output_type": "execute_result"
    }
   ],
   "source": [
    "1*2*3*4*5*6*7*8*9*10*11*12*13*14*15*16*17*18*19"
   ]
  },
  {
   "cell_type": "code",
   "execution_count": 79,
   "id": "9ead8e2d",
   "metadata": {},
   "outputs": [
    {
     "data": {
      "text/plain": [
       "121645100408832000"
      ]
     },
     "execution_count": 79,
     "metadata": {},
     "output_type": "execute_result"
    }
   ],
   "source": [
    "# collect even terms, next divide each even by 2\n",
    "1*3*5*7*9*11*13*15*17*19 *2*4*6*8*10*12*14*16*18"
   ]
  },
  {
   "cell_type": "code",
   "execution_count": 81,
   "id": "9aebc219",
   "metadata": {},
   "outputs": [
    {
     "data": {
      "text/plain": [
       "121645100408832000"
      ]
     },
     "execution_count": 81,
     "metadata": {},
     "output_type": "execute_result"
    }
   ],
   "source": [
    "# divide terms by two and replace with left shift\n",
    "1*3*5*7*9*11*13*15*17*19 *1*2*3*4*5*6*7*8*9 << 9"
   ]
  },
  {
   "cell_type": "code",
   "execution_count": 84,
   "id": "78c2a9e3",
   "metadata": {},
   "outputs": [
    {
     "data": {
      "text/plain": [
       "121645100408832000"
      ]
     },
     "execution_count": 84,
     "metadata": {},
     "output_type": "execute_result"
    }
   ],
   "source": [
    "1*3*5*7*9*11*13*15*17*19 *1*3*5*7*9 * 1*2*3*4 <<13"
   ]
  },
  {
   "cell_type": "code",
   "execution_count": 86,
   "id": "111ef8ce",
   "metadata": {
    "scrolled": true
   },
   "outputs": [
    {
     "data": {
      "text/plain": [
       "121645100408832000"
      ]
     },
     "execution_count": 86,
     "metadata": {},
     "output_type": "execute_result"
    }
   ],
   "source": [
    "1*3*5*7*9*11*13*15*17*19 *1*3*5*7*9 * 1*3 *1*2 <<15"
   ]
  },
  {
   "cell_type": "code",
   "execution_count": 88,
   "id": "2d857275",
   "metadata": {
    "scrolled": true
   },
   "outputs": [
    {
     "data": {
      "text/plain": [
       "121645100408832000"
      ]
     },
     "execution_count": 88,
     "metadata": {},
     "output_type": "execute_result"
    }
   ],
   "source": [
    "# replace even term with left shift\n",
    "1*3*5*7*9*11*13*15*17*19 *1*3*5*7*9 * 1*3 <<16"
   ]
  },
  {
   "cell_type": "code",
   "execution_count": 93,
   "id": "119e75a0",
   "metadata": {},
   "outputs": [
    {
     "data": {
      "text/plain": [
       "121645100408832000"
      ]
     },
     "execution_count": 93,
     "metadata": {},
     "output_type": "execute_result"
    }
   ],
   "source": [
    "# factor-out common subsequences and replace with powers \n",
    "(1*3)**3 *(5*7*9)**2 *(11*13*15*17*19)**1 <<16"
   ]
  },
  {
   "cell_type": "markdown",
   "id": "714f6e08",
   "metadata": {},
   "source": [
    "#### combinations got faster"
   ]
  },
  {
   "cell_type": "code",
   "execution_count": 52,
   "id": "88324a0e",
   "metadata": {},
   "outputs": [
    {
     "name": "stdout",
     "output_type": "stream",
     "text": [
      "1.69 µs ± 6 ns per loop (mean ± std. dev. of 7 runs, 1,000,000 loops each)\n"
     ]
    }
   ],
   "source": [
    "# combinations of 52 items, taking out 31 at a time \n",
    "%timeit  math.factorial(52) / (math.factorial(31) * math.factorial(21))"
   ]
  },
  {
   "cell_type": "code",
   "execution_count": 53,
   "id": "dc786c75",
   "metadata": {},
   "outputs": [
    {
     "name": "stdout",
     "output_type": "stream",
     "text": [
      "2.26 µs ± 1.73 ns per loop (mean ± std. dev. of 7 runs, 100,000 loops each)\n"
     ]
    }
   ],
   "source": [
    "%timeit math.comb(52, 31)"
   ]
  },
  {
   "cell_type": "markdown",
   "id": "1673a32c",
   "metadata": {},
   "source": [
    "#### summation became accurate"
   ]
  },
  {
   "cell_type": "code",
   "execution_count": 54,
   "id": "6a4f4c50",
   "metadata": {},
   "outputs": [],
   "source": [
    "data  = [0.1] * 10"
   ]
  },
  {
   "cell_type": "code",
   "execution_count": 56,
   "id": "ecb3dc59",
   "metadata": {},
   "outputs": [
    {
     "data": {
      "text/plain": [
       "0.9999999999999999"
      ]
     },
     "execution_count": 56,
     "metadata": {},
     "output_type": "execute_result"
    }
   ],
   "source": [
    "# result is wrong\n",
    "sum(data)"
   ]
  },
  {
   "cell_type": "code",
   "execution_count": 59,
   "id": "9f28c8d3",
   "metadata": {},
   "outputs": [
    {
     "data": {
      "text/plain": [
       "1.0"
      ]
     },
     "execution_count": 59,
     "metadata": {},
     "output_type": "execute_result"
    }
   ],
   "source": [
    "# result is correct\n",
    "np.sum(data)"
   ]
  },
  {
   "cell_type": "code",
   "execution_count": 60,
   "id": "61bf04ef",
   "metadata": {},
   "outputs": [
    {
     "data": {
      "text/plain": [
       "1.0"
      ]
     },
     "execution_count": 60,
     "metadata": {},
     "output_type": "execute_result"
    }
   ],
   "source": [
    "# result is correct, accurate floating point sum \n",
    "math.fsum(data)"
   ]
  },
  {
   "cell_type": "markdown",
   "id": "0a137973",
   "metadata": {},
   "source": [
    "####  Hypot became multi-dimensional and  accurate"
   ]
  },
  {
   "cell_type": "code",
   "execution_count": 61,
   "id": "1edb4344",
   "metadata": {},
   "outputs": [
    {
     "data": {
      "text/plain": [
       "6.197944056661425e+181"
      ]
     },
     "execution_count": 61,
     "metadata": {},
     "output_type": "execute_result"
    }
   ],
   "source": [
    "math.hypot(3.64142839394477e+179,\n",
    "          -6.10824106882006e+181,\n",
    "          1.050035987292735e+181)"
   ]
  },
  {
   "cell_type": "code",
   "execution_count": 96,
   "id": "fbcb5ff7",
   "metadata": {},
   "outputs": [],
   "source": [
    "from math import prod\n",
    "\n",
    "def py_fact(n):\n",
    "    m = 1 \n",
    "    odd_fact = 1\n",
    "    result = 1 \n",
    "    for s in reversed(range(n.bit_length() - 1)):\n",
    "        new_m = (ec := n >> s) - (~ec & 1)\n",
    "        odd_fact *= prod(range(m + 2, new_m + 2, 2))\n",
    "        result *= odd_fact\n",
    "        m = new_m\n",
    "    shift = sum(n >> i for i in range(1, n.bit_length()))\n",
    "    return result << shift "
   ]
  },
  {
   "cell_type": "code",
   "execution_count": 97,
   "id": "43f64d32",
   "metadata": {},
   "outputs": [
    {
     "data": {
      "text/plain": [
       "121645100408832000"
      ]
     },
     "execution_count": 97,
     "metadata": {},
     "output_type": "execute_result"
    }
   ],
   "source": [
    "py_fact(19)"
   ]
  },
  {
   "cell_type": "code",
   "execution_count": 98,
   "id": "a4717fd2",
   "metadata": {},
   "outputs": [
    {
     "data": {
      "text/plain": [
       "121645100408832000"
      ]
     },
     "execution_count": 98,
     "metadata": {},
     "output_type": "execute_result"
    }
   ],
   "source": [
    "from math import factorial\n",
    "factorial(19)"
   ]
  },
  {
   "cell_type": "markdown",
   "id": "ece26f48",
   "metadata": {},
   "source": [
    "#### Compute combinations like a champ"
   ]
  },
  {
   "cell_type": "code",
   "execution_count": 99,
   "id": "35cd5a16",
   "metadata": {},
   "outputs": [],
   "source": [
    "from math import comb, factorial, log, exp, lgamma"
   ]
  },
  {
   "cell_type": "code",
   "execution_count": 100,
   "id": "06f128cb",
   "metadata": {},
   "outputs": [
    {
     "data": {
      "text/plain": [
       "191991813933920"
      ]
     },
     "execution_count": 100,
     "metadata": {},
     "output_type": "execute_result"
    }
   ],
   "source": [
    "n = 52\n",
    "k = 31\n",
    "comb(n, k)"
   ]
  },
  {
   "cell_type": "markdown",
   "id": "4cda335b",
   "metadata": {},
   "source": [
    "#### The traditional approach  \n",
    "This works just fine. However the intermediate values are huge."
   ]
  },
  {
   "cell_type": "code",
   "execution_count": 103,
   "id": "6bca4cc9",
   "metadata": {},
   "outputs": [],
   "source": [
    "def baseline(n, k):\n",
    "    return factorial(n) // (factorial(k) * factorial(n-k))"
   ]
  },
  {
   "cell_type": "code",
   "execution_count": 104,
   "id": "46a1216c",
   "metadata": {},
   "outputs": [
    {
     "data": {
      "text/plain": [
       "191991813933920"
      ]
     },
     "execution_count": 104,
     "metadata": {},
     "output_type": "execute_result"
    }
   ],
   "source": [
    "baseline(n, k)"
   ]
  },
  {
   "cell_type": "code",
   "execution_count": 105,
   "id": "f57926bd",
   "metadata": {},
   "outputs": [],
   "source": [
    "# Intermediate values are large numbers "
   ]
  },
  {
   "cell_type": "code",
   "execution_count": 108,
   "id": "4dbbd07e",
   "metadata": {},
   "outputs": [],
   "source": [
    "# the implementation hides intermedite values, very huge numbers\n",
    "def baseline(n, k):\n",
    "    return factorial(n) // (factorial(k) * factorial(n-k))"
   ]
  },
  {
   "cell_type": "code",
   "execution_count": 109,
   "id": "f5cbce3d",
   "metadata": {},
   "outputs": [
    {
     "data": {
      "text/plain": [
       "191991813933920"
      ]
     },
     "execution_count": 109,
     "metadata": {},
     "output_type": "execute_result"
    }
   ],
   "source": [
    "baseline(n, k)"
   ]
  },
  {
   "cell_type": "code",
   "execution_count": 113,
   "id": "9c8f9fb3",
   "metadata": {},
   "outputs": [],
   "source": [
    "# Intermediate values are large numbers printed below\n",
    "# big numbers mean slow"
   ]
  },
  {
   "cell_type": "code",
   "execution_count": 114,
   "id": "1613871e",
   "metadata": {},
   "outputs": [
    {
     "name": "stdout",
     "output_type": "stream",
     "text": [
      "factorial(n) =80,658,175,170,943,878,571,660,636,856,403,766,975,289,505,440,883,277,824,000,000,000,000\n",
      "factorial(k) =8,222,838,654,177,922,817,725,562,880,000,000\n",
      "factorial(n-k) =51,090,942,171,709,440,000\n",
      "factorial(n) =80,658,175,170,943,878,571,660,636,856,403,766,975,289,505,440,883,277,824,000,000,000,000\n",
      "factorial(k) * factorial(n-k) = 420112574167901332880138092414311435809587200000000000\n"
     ]
    }
   ],
   "source": [
    "print(f'{factorial(n) =:,}')\n",
    "print(f'{factorial(k) =:,}')\n",
    "print(f'{factorial(n-k) =:,}')\n",
    "print(f'{factorial(n) =:,}')\n",
    "print(f'{factorial(k) * factorial(n-k) =: }')"
   ]
  },
  {
   "cell_type": "markdown",
   "id": "5d974ce3",
   "metadata": {},
   "source": [
    "#### Log gamma approach  \n",
    "Logarithms tame the large values, but the Lanczos formula still takes a lot of steps"
   ]
  },
  {
   "cell_type": "code",
   "execution_count": 117,
   "id": "a01b7b56",
   "metadata": {},
   "outputs": [],
   "source": [
    "def lg_comb(n, k):\n",
    "    return round(exp(lgamma(n+1) - (lgamma(k+1) + lgamma(n-k+1))))"
   ]
  },
  {
   "cell_type": "code",
   "execution_count": 118,
   "id": "9cd339df",
   "metadata": {},
   "outputs": [
    {
     "data": {
      "text/plain": [
       "191991813933925"
      ]
     },
     "execution_count": 118,
     "metadata": {},
     "output_type": "execute_result"
    }
   ],
   "source": [
    "lg_comb(n, k)"
   ]
  },
  {
   "cell_type": "code",
   "execution_count": 119,
   "id": "908c1676",
   "metadata": {},
   "outputs": [
    {
     "name": "stdout",
     "output_type": "stream",
     "text": [
      "156.3608363030788\n",
      "78.0922235533153\n",
      "45.38013889847691\n"
     ]
    }
   ],
   "source": [
    "print(lgamma(n+1))\n",
    "print(lgamma(k+1))\n",
    "print(lgamma(n-k+1))"
   ]
  },
  {
   "cell_type": "markdown",
   "id": "7df5ad31",
   "metadata": {},
   "source": [
    "#### Log factorial table  \n",
    "This is fast and compact, but the accuracy falters at around n = 53  "
   ]
  },
  {
   "cell_type": "code",
   "execution_count": 140,
   "id": "887b9ade",
   "metadata": {},
   "outputs": [],
   "source": [
    "# Precomputation  , lookup can be several times faster\n",
    "log_fact = {n : log(factorial(n)) for n in range(54)}"
   ]
  },
  {
   "cell_type": "code",
   "execution_count": 141,
   "id": "2628f5d9",
   "metadata": {},
   "outputs": [],
   "source": [
    "def lf_comb(n, k):\n",
    "    return round(exp(log_fact[n] - (log_fact[k] + log_fact[n-k])))"
   ]
  },
  {
   "cell_type": "code",
   "execution_count": 142,
   "id": "48e68461",
   "metadata": {},
   "outputs": [
    {
     "data": {
      "text/plain": [
       "191991813933925"
      ]
     },
     "execution_count": 142,
     "metadata": {},
     "output_type": "execute_result"
    }
   ],
   "source": [
    "lf_comb(n, k)"
   ]
  },
  {
   "cell_type": "code",
   "execution_count": 143,
   "id": "5edcefd3",
   "metadata": {},
   "outputs": [
    {
     "name": "stdout",
     "output_type": "stream",
     "text": [
      "156.3608363030788\n",
      "78.0922235533153\n",
      "45.38013889847691\n"
     ]
    }
   ],
   "source": [
    "print(log_fact[n])\n",
    "print(log_fact[k])\n",
    "print(log_fact[n-k])\n",
    "\n"
   ]
  },
  {
   "cell_type": "code",
   "execution_count": 144,
   "id": "f88afd15",
   "metadata": {},
   "outputs": [],
   "source": [
    "# group theory"
   ]
  },
  {
   "cell_type": "code",
   "execution_count": 145,
   "id": "9d134bba",
   "metadata": {},
   "outputs": [],
   "source": [
    "# precomputation of the lookup table\n",
    "odd_fact = []\n",
    "shift_fact = []\n",
    "inv_odd_fact = []\n",
    "\n",
    "for nn in range(128):\n",
    "    fact = factorial(nn)\n",
    "    \n",
    "    shift  = (fact & -fact).bit_length() - 1\n",
    "    odd = fact >> shift\n",
    "    inv = pow(odd, -1, 2**64)\n",
    "    \n",
    "    odd_fact.append(odd % 2**64)\n",
    "    shift_fact.append(shift)\n",
    "    inv_odd_fact.append(inv)"
   ]
  },
  {
   "cell_type": "code",
   "execution_count": 153,
   "id": "e670f2fb",
   "metadata": {},
   "outputs": [],
   "source": [
    "# one of the fastest thing in python \n",
    "# total 6 operations, nano seconds , factor of 15 improvement \n",
    "def fast_comb(n, k):\n",
    "    odd = odd_fact[n] * inv_odd_fact[k] * inv_odd_fact[n-k] % 2**64\n",
    "    shift = shift_fact[n] - shift_fact[k] - shift_fact[n-k]\n",
    "    return odd << shift"
   ]
  },
  {
   "cell_type": "code",
   "execution_count": 154,
   "id": "421a852b",
   "metadata": {},
   "outputs": [
    {
     "name": "stdout",
     "output_type": "stream",
     "text": [
      "809 ns ± 26.2 ns per loop (mean ± std. dev. of 7 runs, 1,000,000 loops each)\n"
     ]
    }
   ],
   "source": [
    "%timeit fast_comb(n, k)"
   ]
  },
  {
   "cell_type": "code",
   "execution_count": 155,
   "id": "be5d6013",
   "metadata": {},
   "outputs": [
    {
     "name": "stdout",
     "output_type": "stream",
     "text": [
      "80658175170943878571660636856403766975289505440883277824000000000000\n",
      "8222838654177922817725562880000000\n",
      "51090942171709440000\n"
     ]
    }
   ],
   "source": [
    "print(factorial(n))\n",
    "print(factorial(k))\n",
    "print(factorial(n-k))"
   ]
  },
  {
   "cell_type": "code",
   "execution_count": 156,
   "id": "41839e34",
   "metadata": {},
   "outputs": [
    {
     "name": "stdout",
     "output_type": "stream",
     "text": [
      "16558329919276434777\n",
      "1594080273878023779\n",
      "4287997350378269393\n"
     ]
    }
   ],
   "source": [
    "print(odd_fact[n])\n",
    "print(inv_odd_fact[k])\n",
    "print(inv_odd_fact[n-k])"
   ]
  },
  {
   "cell_type": "code",
   "execution_count": 157,
   "id": "36ab0a07",
   "metadata": {},
   "outputs": [],
   "source": [
    "def big_comb(n, k):\n",
    "    if k == 0:\n",
    "        return 1\n",
    "    if k == 1:\n",
    "        return n\n",
    "    if n <=67:\n",
    "        return fast_comb(n, k)\n",
    "    j = k // 2\n",
    "    return big_comb(n, j) * big_comb(n-j,k-j) // big_comb(k, j)"
   ]
  },
  {
   "cell_type": "code",
   "execution_count": 158,
   "id": "f21fafa8",
   "metadata": {},
   "outputs": [
    {
     "data": {
      "text/plain": [
       "713329781083668697436467130320371383828565538699572818948873472006630273863867326544975139763804851249232258863022323651287391333212191519801473487538142922543743781969447992148066066292868270307638459872816543654297060122680568457501326587479365018024349380635646362000"
      ]
     },
     "execution_count": 158,
     "metadata": {},
     "output_type": "execute_result"
    }
   ],
   "source": [
    "# easy to compute large number quickly\n",
    "big_comb(1001, 317)"
   ]
  },
  {
   "cell_type": "code",
   "execution_count": 159,
   "id": "7d54d3cf",
   "metadata": {},
   "outputs": [],
   "source": [
    "# sum, round accuracy\n",
    "# "
   ]
  },
  {
   "cell_type": "code",
   "execution_count": 161,
   "id": "c00620da",
   "metadata": {},
   "outputs": [],
   "source": [
    "# add consecutive adds, rms error adds up \n",
    "def regular_sum(data):\n",
    "    total = 0.0\n",
    "    for x in data:\n",
    "        total += x\n",
    "    return total"
   ]
  },
  {
   "cell_type": "code",
   "execution_count": 162,
   "id": "934dc843",
   "metadata": {},
   "outputs": [],
   "source": [
    "# sorted addition\n",
    "def sorted_sum(data):\n",
    "    return regular_sum(sorted(data, key=abs))"
   ]
  },
  {
   "cell_type": "code",
   "execution_count": 183,
   "id": "e5430def",
   "metadata": {},
   "outputs": [],
   "source": [
    "# pairwise addition, get rid of most of errors\n",
    "def pairwise(data):\n",
    "    n = len(data)\n",
    "    if n <= 2:\n",
    "        return regular_sum(data)\n",
    "    m = n // 2 \n",
    "    return pairwise(data[:m]) + pairwise(data[m:])"
   ]
  },
  {
   "cell_type": "code",
   "execution_count": 178,
   "id": "b2400f82",
   "metadata": {},
   "outputs": [],
   "source": [
    "# kahan compensated addition\n",
    "def kahan(data):\n",
    "    total = 0.0\n",
    "    c = 0.0\n",
    "    for x in data:\n",
    "        y = x - c \n",
    "        t = total + y\n",
    "        c = (t - total) - y\n",
    "        total = t\n",
    "    return total"
   ]
  },
  {
   "cell_type": "code",
   "execution_count": 192,
   "id": "0c706eec",
   "metadata": {},
   "outputs": [],
   "source": [
    "# neumaier variant\n",
    "def neumaier(data):\n",
    "    total = 0.0\n",
    "    c = 0.0\n",
    "    for x in data:\n",
    "        t = total + x\n",
    "        if abs(total) >= abs(x):\n",
    "            c += (total - t) + x\n",
    "        else:\n",
    "            c += (x - t) + total\n",
    "        total = t\n",
    "    return total + c"
   ]
  },
  {
   "cell_type": "code",
   "execution_count": 190,
   "id": "b1b339c5",
   "metadata": {},
   "outputs": [],
   "source": [
    "# multiple paritals\n",
    "# this algorithm appears in the standard library as math.fsum()\n",
    "def fsum(iterable):\n",
    "    partials = []\n",
    "    for x in iterable:\n",
    "        i = 0\n",
    "        for y in partials:\n",
    "            if abs(x) < abs(y):\n",
    "                x, y = y, x\n",
    "            hi = x + y\n",
    "            lo = y - (hi - x)\n",
    "            if lo:\n",
    "                partials[i] = lo\n",
    "                i += 1 \n",
    "            x = hi\n",
    "        partials[i:] = [x]\n",
    "    return regular_sum(partials)"
   ]
  },
  {
   "cell_type": "code",
   "execution_count": 194,
   "id": "ce6bb5b2",
   "metadata": {},
   "outputs": [],
   "source": [
    "from fractions import Fraction\n",
    "\n",
    "def fr_sum(data):\n",
    "    return sum(map(Fraction, data))"
   ]
  },
  {
   "cell_type": "code",
   "execution_count": 197,
   "id": "d5032934",
   "metadata": {
    "scrolled": true
   },
   "outputs": [
    {
     "name": "stdout",
     "output_type": "stream",
     "text": [
      "8.109049114001557 regular_sum\n",
      "8.109049114001557 sorted_sum\n",
      "8.109049114001555 pairwise\n",
      "8.109049114001557 kahan\n",
      "8.109049114001557 neumaier\n",
      "8.109049114001557 fsum\n",
      "<class 'list'> type\n"
     ]
    }
   ],
   "source": [
    "from random import expovariate, random\n",
    "\n",
    "data = [expovariate(1.0) - random() / 2.0 for i in range(8)]\n",
    "for method in regular_sum, sorted_sum, pairwise, kahan, neumaier, fsum, type:\n",
    "    print(method(data), method.__name__)"
   ]
  },
  {
   "cell_type": "code",
   "execution_count": null,
   "id": "5461f858",
   "metadata": {},
   "outputs": [],
   "source": []
  }
 ],
 "metadata": {
  "kernelspec": {
   "display_name": "Python 3 (ipykernel)",
   "language": "python",
   "name": "python3"
  },
  "language_info": {
   "codemirror_mode": {
    "name": "ipython",
    "version": 3
   },
   "file_extension": ".py",
   "mimetype": "text/x-python",
   "name": "python",
   "nbconvert_exporter": "python",
   "pygments_lexer": "ipython3",
   "version": "3.10.11"
  }
 },
 "nbformat": 4,
 "nbformat_minor": 5
}
