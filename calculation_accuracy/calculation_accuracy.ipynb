{
 "cells": [
  {
   "cell_type": "markdown",
   "id": "a944f551",
   "metadata": {},
   "source": [
    "#### Hypot is in math.dist()  \n",
    "Euclidean distance is frequently used in machine learnng algorithms:  \n",
    "\n",
    "k-means \n",
    "support vector machines  \n",
    "k-nearest-neighbors  \n",
    "\n",
    "In these contexts, an accurate dist makes all the difference between inclusion and exclusion of a point.  \n"
   ]
  },
  {
   "cell_type": "markdown",
   "id": "73a19e97",
   "metadata": {},
   "source": [
    "https://www.digitalocean.com/community/tutorials/python-decimal-division-round-precision"
   ]
  },
  {
   "cell_type": "code",
   "execution_count": 112,
   "id": "d69b2aa7",
   "metadata": {},
   "outputs": [],
   "source": [
    "from math import dist \n",
    "from functools import partial \n",
    "from heapq import nsmallest \n",
    "from statistics import mode \n",
    "\n",
    "def predict(unlabeled_point: tuple[float, ...],\n",
    "           known_points: list[tuple[float, ...]],\n",
    "           labels: list[str],\n",
    "           *,\n",
    "           k: int = 5,\n",
    "           ) -> str:\n",
    "    # https://www.unite.ai/what-is-k-nearest-neighbors/\n",
    "    knn = set(nsmallest(3, known_points, key=partial(dist, unlabeled_point)))\n",
    "    lnn = [label for point, label in zip(known_points, labels) if point in knn]\n",
    "    return mode(lnn)"
   ]
  },
  {
   "cell_type": "code",
   "execution_count": 113,
   "id": "8818b763",
   "metadata": {},
   "outputs": [
    {
     "ename": "TypeError",
     "evalue": "unhashable type: 'list'",
     "output_type": "error",
     "traceback": [
      "\u001b[0;31m---------------------------------------------------------------------------\u001b[0m",
      "\u001b[0;31mTypeError\u001b[0m                                 Traceback (most recent call last)",
      "Input \u001b[0;32mIn [113]\u001b[0m, in \u001b[0;36m<cell line: 4>\u001b[0;34m()\u001b[0m\n\u001b[1;32m      2\u001b[0m known_pts \u001b[38;5;241m=\u001b[39m [([\u001b[38;5;241m1\u001b[39m])]\n\u001b[1;32m      3\u001b[0m labels \u001b[38;5;241m=\u001b[39m [\u001b[38;5;124m'\u001b[39m\u001b[38;5;124ma\u001b[39m\u001b[38;5;124m'\u001b[39m]\n\u001b[0;32m----> 4\u001b[0m \u001b[43mpredict\u001b[49m\u001b[43m(\u001b[49m\u001b[43munlabeled\u001b[49m\u001b[43m,\u001b[49m\u001b[43m \u001b[49m\u001b[43mknown_pts\u001b[49m\u001b[43m,\u001b[49m\u001b[43m \u001b[49m\u001b[43mlabels\u001b[49m\u001b[43m)\u001b[49m\n",
      "Input \u001b[0;32mIn [112]\u001b[0m, in \u001b[0;36mpredict\u001b[0;34m(unlabeled_point, known_points, labels, k)\u001b[0m\n\u001b[1;32m      6\u001b[0m \u001b[38;5;28;01mdef\u001b[39;00m \u001b[38;5;21mpredict\u001b[39m(unlabeled_point: \u001b[38;5;28mtuple\u001b[39m[\u001b[38;5;28mfloat\u001b[39m, \u001b[38;5;241m.\u001b[39m\u001b[38;5;241m.\u001b[39m\u001b[38;5;241m.\u001b[39m],\n\u001b[1;32m      7\u001b[0m            known_points: \u001b[38;5;28mlist\u001b[39m[\u001b[38;5;28mtuple\u001b[39m[\u001b[38;5;28mfloat\u001b[39m, \u001b[38;5;241m.\u001b[39m\u001b[38;5;241m.\u001b[39m\u001b[38;5;241m.\u001b[39m]],\n\u001b[1;32m      8\u001b[0m            labels: \u001b[38;5;28mlist\u001b[39m[\u001b[38;5;28mstr\u001b[39m],\n\u001b[0;32m   (...)\u001b[0m\n\u001b[1;32m     11\u001b[0m            ) \u001b[38;5;241m-\u001b[39m\u001b[38;5;241m>\u001b[39m \u001b[38;5;28mstr\u001b[39m:\n\u001b[1;32m     12\u001b[0m     \u001b[38;5;66;03m# https://www.unite.ai/what-is-k-nearest-neighbors/\u001b[39;00m\n\u001b[0;32m---> 13\u001b[0m     knn \u001b[38;5;241m=\u001b[39m \u001b[38;5;28;43mset\u001b[39;49m\u001b[43m(\u001b[49m\u001b[43mnsmallest\u001b[49m\u001b[43m(\u001b[49m\u001b[38;5;241;43m3\u001b[39;49m\u001b[43m,\u001b[49m\u001b[43m \u001b[49m\u001b[43mknown_points\u001b[49m\u001b[43m,\u001b[49m\u001b[43m \u001b[49m\u001b[43mkey\u001b[49m\u001b[38;5;241;43m=\u001b[39;49m\u001b[43mpartial\u001b[49m\u001b[43m(\u001b[49m\u001b[43mdist\u001b[49m\u001b[43m,\u001b[49m\u001b[43m \u001b[49m\u001b[43munlabeled_point\u001b[49m\u001b[43m)\u001b[49m\u001b[43m)\u001b[49m\u001b[43m)\u001b[49m\n\u001b[1;32m     14\u001b[0m     lnn \u001b[38;5;241m=\u001b[39m [label \u001b[38;5;28;01mfor\u001b[39;00m point, label \u001b[38;5;129;01min\u001b[39;00m \u001b[38;5;28mzip\u001b[39m(known_points, labels) \u001b[38;5;28;01mif\u001b[39;00m point \u001b[38;5;129;01min\u001b[39;00m knn]\n\u001b[1;32m     15\u001b[0m     \u001b[38;5;28;01mreturn\u001b[39;00m mode(lnn)\n",
      "\u001b[0;31mTypeError\u001b[0m: unhashable type: 'list'"
     ]
    }
   ],
   "source": [
    "unlabeled = ([1])\n",
    "known_pts = [([1])]\n",
    "labels = ['a']\n",
    "predict(unlabeled, known_pts, labels)"
   ]
  },
  {
   "cell_type": "markdown",
   "id": "65b10c19",
   "metadata": {},
   "source": [
    "#### Floating Point Arithmetic: Issues and Limitations¶\n",
    "https://docs.python.org/3/tutorial/floatingpoint.html"
   ]
  },
  {
   "cell_type": "code",
   "execution_count": 2,
   "id": "6ff08b0b",
   "metadata": {},
   "outputs": [
    {
     "data": {
      "text/plain": [
       "0.3333333333333333"
      ]
     },
     "execution_count": 2,
     "metadata": {},
     "output_type": "execute_result"
    }
   ],
   "source": [
    "# the result is approximated, result will never be exact\n",
    "1/3"
   ]
  },
  {
   "cell_type": "code",
   "execution_count": 16,
   "id": "cf8e1ef8",
   "metadata": {},
   "outputs": [
    {
     "data": {
      "text/plain": [
       "0.1"
      ]
     },
     "execution_count": 16,
     "metadata": {},
     "output_type": "execute_result"
    }
   ],
   "source": [
    "1/10"
   ]
  },
  {
   "cell_type": "code",
   "execution_count": 21,
   "id": "adc0a372",
   "metadata": {},
   "outputs": [
    {
     "data": {
      "text/plain": [
       "'3.14159265359'"
      ]
     },
     "execution_count": 21,
     "metadata": {},
     "output_type": "execute_result"
    }
   ],
   "source": [
    "import math\n",
    "format(math.pi, '.12g')"
   ]
  },
  {
   "cell_type": "code",
   "execution_count": 22,
   "id": "7ee9dc9f",
   "metadata": {},
   "outputs": [
    {
     "data": {
      "text/plain": [
       "'3.14'"
      ]
     },
     "execution_count": 22,
     "metadata": {},
     "output_type": "execute_result"
    }
   ],
   "source": [
    "format(math.pi, '.2f')"
   ]
  },
  {
   "cell_type": "code",
   "execution_count": 23,
   "id": "be6f5c96",
   "metadata": {},
   "outputs": [
    {
     "data": {
      "text/plain": [
       "'3.141592653589793'"
      ]
     },
     "execution_count": 23,
     "metadata": {},
     "output_type": "execute_result"
    }
   ],
   "source": [
    "repr(math.pi)"
   ]
  },
  {
   "cell_type": "code",
   "execution_count": 24,
   "id": "20b3924e",
   "metadata": {},
   "outputs": [
    {
     "data": {
      "text/plain": [
       "False"
      ]
     },
     "execution_count": 24,
     "metadata": {},
     "output_type": "execute_result"
    }
   ],
   "source": [
    "# summing three values of 0.1 may not yield exactly 0.3\n",
    ".1 + .1 + .1 == .3"
   ]
  },
  {
   "cell_type": "code",
   "execution_count": 25,
   "id": "c8e08220",
   "metadata": {},
   "outputs": [
    {
     "data": {
      "text/plain": [
       "False"
      ]
     },
     "execution_count": 25,
     "metadata": {},
     "output_type": "execute_result"
    }
   ],
   "source": [
    "round(.1, 1) + round(.1, 1) + round(.1, 1) == round(.3, 1)"
   ]
  },
  {
   "cell_type": "code",
   "execution_count": 27,
   "id": "a26f36ff",
   "metadata": {},
   "outputs": [
    {
     "data": {
      "text/plain": [
       "True"
      ]
     },
     "execution_count": 27,
     "metadata": {},
     "output_type": "execute_result"
    }
   ],
   "source": [
    "# post-rounding so that results with inexact values become comparable to one another\n",
    "round(.1 + .1 + .1, 10) == round(.3, 10)"
   ]
  },
  {
   "cell_type": "code",
   "execution_count": 28,
   "id": "78c90770",
   "metadata": {},
   "outputs": [
    {
     "data": {
      "text/plain": [
       "False"
      ]
     },
     "execution_count": 28,
     "metadata": {},
     "output_type": "execute_result"
    }
   ],
   "source": [
    "# math.fsum(), mitigate loss-of-precision during summation\n",
    "sum([0.1]*10) == 1.0"
   ]
  },
  {
   "cell_type": "code",
   "execution_count": 29,
   "id": "6d2e3f22",
   "metadata": {},
   "outputs": [
    {
     "data": {
      "text/plain": [
       "True"
      ]
     },
     "execution_count": 29,
     "metadata": {},
     "output_type": "execute_result"
    }
   ],
   "source": [
    "math.fsum([0.1] * 10) == 1.0"
   ]
  },
  {
   "cell_type": "code",
   "execution_count": 35,
   "id": "d67aab42",
   "metadata": {},
   "outputs": [],
   "source": [
    "# math functions\n",
    "# floor, ceil, round, trunc, format"
   ]
  },
  {
   "cell_type": "code",
   "execution_count": 36,
   "id": "94a9b65f",
   "metadata": {},
   "outputs": [
    {
     "data": {
      "text/plain": [
       "3.141592653589793"
      ]
     },
     "execution_count": 36,
     "metadata": {},
     "output_type": "execute_result"
    }
   ],
   "source": [
    "import math\n",
    "value = math.pi\n",
    "value"
   ]
  },
  {
   "cell_type": "code",
   "execution_count": 38,
   "id": "f8464e57",
   "metadata": {},
   "outputs": [
    {
     "data": {
      "text/plain": [
       "3"
      ]
     },
     "execution_count": 38,
     "metadata": {},
     "output_type": "execute_result"
    }
   ],
   "source": [
    "math.floor(value)"
   ]
  },
  {
   "cell_type": "code",
   "execution_count": 39,
   "id": "8748de2e",
   "metadata": {},
   "outputs": [
    {
     "data": {
      "text/plain": [
       "-4"
      ]
     },
     "execution_count": 39,
     "metadata": {},
     "output_type": "execute_result"
    }
   ],
   "source": [
    "math.floor(-value)"
   ]
  },
  {
   "cell_type": "code",
   "execution_count": 40,
   "id": "590798c3",
   "metadata": {},
   "outputs": [
    {
     "data": {
      "text/plain": [
       "4"
      ]
     },
     "execution_count": 40,
     "metadata": {},
     "output_type": "execute_result"
    }
   ],
   "source": [
    "math.ceil(value)"
   ]
  },
  {
   "cell_type": "code",
   "execution_count": 41,
   "id": "c4bdd4cb",
   "metadata": {},
   "outputs": [
    {
     "data": {
      "text/plain": [
       "-3"
      ]
     },
     "execution_count": 41,
     "metadata": {},
     "output_type": "execute_result"
    }
   ],
   "source": [
    "math.ceil(-value)"
   ]
  },
  {
   "cell_type": "code",
   "execution_count": 43,
   "id": "a644b3f2",
   "metadata": {},
   "outputs": [
    {
     "data": {
      "text/plain": [
       "3"
      ]
     },
     "execution_count": 43,
     "metadata": {},
     "output_type": "execute_result"
    }
   ],
   "source": [
    "math.trunc(value)"
   ]
  },
  {
   "cell_type": "code",
   "execution_count": 44,
   "id": "00c1b936",
   "metadata": {},
   "outputs": [
    {
     "data": {
      "text/plain": [
       "-3"
      ]
     },
     "execution_count": 44,
     "metadata": {},
     "output_type": "execute_result"
    }
   ],
   "source": [
    "math.trunc(-value)"
   ]
  },
  {
   "cell_type": "code",
   "execution_count": 45,
   "id": "95213a1d",
   "metadata": {},
   "outputs": [
    {
     "data": {
      "text/plain": [
       "(3.14, 3.142, 3.1416)"
      ]
     },
     "execution_count": 45,
     "metadata": {},
     "output_type": "execute_result"
    }
   ],
   "source": [
    "round(value, 2), round(value, 3), round(value, 4)"
   ]
  },
  {
   "cell_type": "code",
   "execution_count": 47,
   "id": "d8c6ff0a",
   "metadata": {},
   "outputs": [
    {
     "name": "stdout",
     "output_type": "stream",
     "text": [
      "3.0\n",
      "3.1\n",
      "3.14\n",
      "3.142\n",
      "3.1416\n",
      "3.14159\n",
      "3.141593\n",
      "3.1415927\n",
      "3.14159265\n",
      "3.141592654\n"
     ]
    }
   ],
   "source": [
    "for i in range(10):\n",
    "    print(round(value, i))"
   ]
  },
  {
   "cell_type": "code",
   "execution_count": 64,
   "id": "b4aac36b",
   "metadata": {},
   "outputs": [
    {
     "name": "stdout",
     "output_type": "stream",
     "text": [
      "3.14\n",
      "3.142\n",
      "3.1416\n"
     ]
    }
   ],
   "source": [
    "# format f-string\n",
    "print(f'{value:.2f}')\n",
    "print(f'{value:.3f}')\n",
    "print(f'{value:.4f}')"
   ]
  },
  {
   "cell_type": "code",
   "execution_count": 65,
   "id": "60d676f8",
   "metadata": {},
   "outputs": [
    {
     "name": "stdout",
     "output_type": "stream",
     "text": [
      "3.14\n"
     ]
    }
   ],
   "source": [
    "# format string\n",
    "print('{0:.2f}'.format(value))"
   ]
  },
  {
   "cell_type": "code",
   "execution_count": 66,
   "id": "2efadd32",
   "metadata": {},
   "outputs": [
    {
     "name": "stdout",
     "output_type": "stream",
     "text": [
      "3.142\n"
     ]
    }
   ],
   "source": [
    "# format operator\n",
    "print('%.3f' % value)"
   ]
  },
  {
   "cell_type": "markdown",
   "id": "52b324b3",
   "metadata": {},
   "source": [
    "#### decimal module"
   ]
  },
  {
   "cell_type": "code",
   "execution_count": 68,
   "id": "a9b7dedc",
   "metadata": {},
   "outputs": [
    {
     "data": {
      "text/plain": [
       "10.285714285714286"
      ]
     },
     "execution_count": 68,
     "metadata": {},
     "output_type": "execute_result"
    }
   ],
   "source": [
    "division = 72 / 7\n",
    "division"
   ]
  },
  {
   "cell_type": "code",
   "execution_count": 69,
   "id": "f83319fb",
   "metadata": {},
   "outputs": [],
   "source": [
    "# use decimal module\n",
    "from decimal import Decimal"
   ]
  },
  {
   "cell_type": "code",
   "execution_count": 72,
   "id": "10b44eaa",
   "metadata": {},
   "outputs": [
    {
     "data": {
      "text/plain": [
       "Decimal('10.28571428571428571428571429')"
      ]
     },
     "execution_count": 72,
     "metadata": {},
     "output_type": "execute_result"
    }
   ],
   "source": [
    "division = Decimal(72) / Decimal(7)\n",
    "division"
   ]
  },
  {
   "cell_type": "code",
   "execution_count": 95,
   "id": "a0fcdff4",
   "metadata": {},
   "outputs": [
    {
     "data": {
      "text/plain": [
       "-2"
      ]
     },
     "execution_count": 95,
     "metadata": {},
     "output_type": "execute_result"
    }
   ],
   "source": [
    "~1"
   ]
  },
  {
   "cell_type": "code",
   "execution_count": 108,
   "id": "68141b92",
   "metadata": {},
   "outputs": [
    {
     "data": {
      "text/plain": [
       "'0b10'"
      ]
     },
     "execution_count": 108,
     "metadata": {},
     "output_type": "execute_result"
    }
   ],
   "source": [
    "bin(int('10', 2))"
   ]
  },
  {
   "cell_type": "code",
   "execution_count": null,
   "id": "02c79b70",
   "metadata": {},
   "outputs": [],
   "source": []
  }
 ],
 "metadata": {
  "kernelspec": {
   "display_name": "Python 3 (ipykernel)",
   "language": "python",
   "name": "python3"
  },
  "language_info": {
   "codemirror_mode": {
    "name": "ipython",
    "version": 3
   },
   "file_extension": ".py",
   "mimetype": "text/x-python",
   "name": "python",
   "nbconvert_exporter": "python",
   "pygments_lexer": "ipython3",
   "version": "3.10.11"
  }
 },
 "nbformat": 4,
 "nbformat_minor": 5
}
