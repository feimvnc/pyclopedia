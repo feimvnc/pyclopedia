{
 "cells": [
  {
   "cell_type": "code",
   "execution_count": 3,
   "id": "b2c10219",
   "metadata": {},
   "outputs": [
    {
     "ename": "NameError",
     "evalue": "name 'List' is not defined",
     "output_type": "error",
     "traceback": [
      "\u001b[0;31m---------------------------------------------------------------------------\u001b[0m",
      "\u001b[0;31mNameError\u001b[0m                                 Traceback (most recent call last)",
      "Cell \u001b[0;32mIn[3], line 1\u001b[0m\n\u001b[0;32m----> 1\u001b[0m \u001b[38;5;28;01mclass\u001b[39;00m \u001b[38;5;21;01mSolution\u001b[39;00m:    \n\u001b[1;32m      2\u001b[0m     \u001b[38;5;28;01mdef\u001b[39;00m \u001b[38;5;21mdestCity\u001b[39m(\u001b[38;5;28mself\u001b[39m, paths: List[List[\u001b[38;5;28mstr\u001b[39m]]) \u001b[38;5;241m-\u001b[39m\u001b[38;5;241m>\u001b[39m \u001b[38;5;28mstr\u001b[39m:\n\u001b[1;32m      3\u001b[0m         A, B \u001b[38;5;241m=\u001b[39m \u001b[38;5;28mmap\u001b[39m(\u001b[38;5;28mset\u001b[39m, \u001b[38;5;28mzip\u001b[39m(\u001b[38;5;241m*\u001b[39mpaths))\n",
      "Cell \u001b[0;32mIn[3], line 2\u001b[0m, in \u001b[0;36mSolution\u001b[0;34m()\u001b[0m\n\u001b[1;32m      1\u001b[0m \u001b[38;5;28;01mclass\u001b[39;00m \u001b[38;5;21;01mSolution\u001b[39;00m:    \n\u001b[0;32m----> 2\u001b[0m     \u001b[38;5;28;01mdef\u001b[39;00m \u001b[38;5;21mdestCity\u001b[39m(\u001b[38;5;28mself\u001b[39m, paths: \u001b[43mList\u001b[49m[List[\u001b[38;5;28mstr\u001b[39m]]) \u001b[38;5;241m-\u001b[39m\u001b[38;5;241m>\u001b[39m \u001b[38;5;28mstr\u001b[39m:\n\u001b[1;32m      3\u001b[0m         A, B \u001b[38;5;241m=\u001b[39m \u001b[38;5;28mmap\u001b[39m(\u001b[38;5;28mset\u001b[39m, \u001b[38;5;28mzip\u001b[39m(\u001b[38;5;241m*\u001b[39mpaths))\n\u001b[1;32m      4\u001b[0m         \u001b[38;5;28;01mreturn\u001b[39;00m (B\u001b[38;5;241m-\u001b[39mA)\u001b[38;5;241m.\u001b[39mpop()\n",
      "\u001b[0;31mNameError\u001b[0m: name 'List' is not defined"
     ]
    }
   ],
   "source": [
    "from typing import List \n",
    "class Solution:    \n",
    "    def destCity(self, paths: List[List[str]]) -> str:\n",
    "        A, B = map(set, zip(*paths))\n",
    "        return (B-A).pop()"
   ]
  },
  {
   "cell_type": "code",
   "execution_count": 5,
   "id": "4f58991b",
   "metadata": {},
   "outputs": [],
   "source": [
    "from typing import List \n",
    "class Solution:\n",
    "    def destCity(self, paths: List[List[str]]) -> str:\n",
    "        A, B = map(set, zip(*path))\n",
    "        return (B - A).pop()"
   ]
  },
  {
   "cell_type": "code",
   "execution_count": 7,
   "id": "dc41bd72",
   "metadata": {},
   "outputs": [],
   "source": [
    "from typing import List \n",
    "class Solution:\n",
    "    def destCity(self, paths: List[List[str]]) -> str:\n",
    "        A, B = map(set, zip(*path))\n",
    "        return (B-A).pop()"
   ]
  },
  {
   "cell_type": "code",
   "execution_count": 13,
   "id": "cb494b7c",
   "metadata": {},
   "outputs": [],
   "source": [
    "def a(v: list[int]) -> float:\n",
    "    return sum(v) / len(v)"
   ]
  },
  {
   "cell_type": "code",
   "execution_count": 14,
   "id": "bf63cbc2",
   "metadata": {},
   "outputs": [
    {
     "data": {
      "text/plain": [
       "2.0"
      ]
     },
     "execution_count": 14,
     "metadata": {},
     "output_type": "execute_result"
    }
   ],
   "source": [
    "a([1,2,3])"
   ]
  },
  {
   "cell_type": "code",
   "execution_count": 16,
   "id": "4d38d9f7",
   "metadata": {},
   "outputs": [
    {
     "ename": "TypeError",
     "evalue": "isinstance() argument 2 cannot be a parameterized generic",
     "output_type": "error",
     "traceback": [
      "\u001b[0;31m---------------------------------------------------------------------------\u001b[0m",
      "\u001b[0;31mTypeError\u001b[0m                                 Traceback (most recent call last)",
      "Cell \u001b[0;32mIn[16], line 1\u001b[0m\n\u001b[0;32m----> 1\u001b[0m \u001b[38;5;28;43misinstance\u001b[39;49m\u001b[43m(\u001b[49m\u001b[43m[\u001b[49m\u001b[38;5;241;43m1\u001b[39;49m\u001b[43m,\u001b[49m\u001b[38;5;241;43m2\u001b[39;49m\u001b[43m]\u001b[49m\u001b[43m,\u001b[49m\u001b[43m \u001b[49m\u001b[38;5;28;43mlist\u001b[39;49m\u001b[43m[\u001b[49m\u001b[38;5;28;43mstr\u001b[39;49m\u001b[43m]\u001b[49m\u001b[43m)\u001b[49m\n",
      "\u001b[0;31mTypeError\u001b[0m: isinstance() argument 2 cannot be a parameterized generic"
     ]
    }
   ],
   "source": [
    "isinstance([1,2], list[str])"
   ]
  },
  {
   "cell_type": "code",
   "execution_count": 18,
   "id": "b477d2e0",
   "metadata": {},
   "outputs": [
    {
     "data": {
      "text/plain": [
       "(types.GenericAlias,\n",
       " ['__add__',\n",
       "  '__args__',\n",
       "  '__class__',\n",
       "  '__class_getitem__',\n",
       "  '__contains__',\n",
       "  '__delattr__',\n",
       "  '__delitem__',\n",
       "  '__dir__',\n",
       "  '__doc__',\n",
       "  '__eq__',\n",
       "  '__format__',\n",
       "  '__ge__',\n",
       "  '__getattribute__',\n",
       "  '__getitem__',\n",
       "  '__gt__',\n",
       "  '__hash__',\n",
       "  '__iadd__',\n",
       "  '__imul__',\n",
       "  '__init__',\n",
       "  '__init_subclass__',\n",
       "  '__iter__',\n",
       "  '__le__',\n",
       "  '__len__',\n",
       "  '__lt__',\n",
       "  '__mro_entries__',\n",
       "  '__mul__',\n",
       "  '__ne__',\n",
       "  '__new__',\n",
       "  '__origin__',\n",
       "  '__parameters__',\n",
       "  '__reduce__',\n",
       "  '__reduce_ex__',\n",
       "  '__repr__',\n",
       "  '__reversed__',\n",
       "  '__rmul__',\n",
       "  '__setattr__',\n",
       "  '__setitem__',\n",
       "  '__sizeof__',\n",
       "  '__str__',\n",
       "  '__subclasshook__',\n",
       "  'append',\n",
       "  'clear',\n",
       "  'copy',\n",
       "  'count',\n",
       "  'extend',\n",
       "  'index',\n",
       "  'insert',\n",
       "  'pop',\n",
       "  'remove',\n",
       "  'reverse',\n",
       "  'sort'])"
      ]
     },
     "execution_count": 18,
     "metadata": {},
     "output_type": "execute_result"
    }
   ],
   "source": [
    "t = list[str]\n",
    "type(t), dir(t)"
   ]
  },
  {
   "cell_type": "code",
   "execution_count": 19,
   "id": "94bc8581",
   "metadata": {},
   "outputs": [
    {
     "data": {
      "text/plain": [
       "types.GenericAlias"
      ]
     },
     "execution_count": 19,
     "metadata": {},
     "output_type": "execute_result"
    }
   ],
   "source": [
    "t = list[str]\n",
    "type(t)"
   ]
  },
  {
   "cell_type": "code",
   "execution_count": 21,
   "id": "f0c1094f",
   "metadata": {},
   "outputs": [
    {
     "data": {
      "text/plain": [
       "list"
      ]
     },
     "execution_count": 21,
     "metadata": {},
     "output_type": "execute_result"
    }
   ],
   "source": [
    "l = t()\n",
    "type(l)"
   ]
  },
  {
   "cell_type": "code",
   "execution_count": 22,
   "id": "099d3a61",
   "metadata": {},
   "outputs": [
    {
     "data": {
      "text/plain": [
       "'list[int]'"
      ]
     },
     "execution_count": 22,
     "metadata": {},
     "output_type": "execute_result"
    }
   ],
   "source": [
    "repr(list[int])"
   ]
  },
  {
   "cell_type": "code",
   "execution_count": 23,
   "id": "1d3f0245",
   "metadata": {},
   "outputs": [
    {
     "data": {
      "text/plain": [
       "'list[int]'"
      ]
     },
     "execution_count": 23,
     "metadata": {},
     "output_type": "execute_result"
    }
   ],
   "source": [
    "str(list[int])"
   ]
  },
  {
   "cell_type": "code",
   "execution_count": 24,
   "id": "9c613ad5",
   "metadata": {},
   "outputs": [
    {
     "data": {
      "text/plain": [
       "dict[str, int]"
      ]
     },
     "execution_count": 24,
     "metadata": {},
     "output_type": "execute_result"
    }
   ],
   "source": [
    "from typing import TypeVar\n",
    "Y = TypeVar('Y')\n",
    "dict[str, Y][int]"
   ]
  },
  {
   "cell_type": "code",
   "execution_count": null,
   "id": "61a13249",
   "metadata": {},
   "outputs": [],
   "source": [
    "def file_handler_v1(command):\n",
    "    match command.split():\n",
    "        case ['show']:\n",
    "            print('sshow')\n",
    "        case ['remove', *files]:\n",
    "            print('removing files: {}'.format)files))\n",
    "        case _:\n",
    "            print('commandd not recognizied')"
   ]
  },
  {
   "cell_type": "code",
   "execution_count": 27,
   "id": "c6aa3a64",
   "metadata": {},
   "outputs": [],
   "source": [
    "class Solution:\n",
    "    def twoSum(self, nums: List[int], target: int) -> List[int]:\n",
    "        for i in range(len(nums)):\n",
    "            for j in range(i+1, len(nums)):\n",
    "                if i != j and nums[i] + nums[j] == target:\n",
    "                    return [i, j]\n",
    "        return []"
   ]
  },
  {
   "cell_type": "code",
   "execution_count": 28,
   "id": "9f739d65",
   "metadata": {},
   "outputs": [
    {
     "data": {
      "text/plain": [
       "[0, 3]"
      ]
     },
     "execution_count": 28,
     "metadata": {},
     "output_type": "execute_result"
    }
   ],
   "source": [
    "Solution().twoSum([1,2,3,4], 5)"
   ]
  },
  {
   "cell_type": "code",
   "execution_count": 35,
   "id": "9df818d2",
   "metadata": {},
   "outputs": [],
   "source": [
    "def twoSum(nums: List[int], target: int) -> List[int]:\n",
    "    numDict = dict()\n",
    "    for i in range(len(nums)):\n",
    "        if target-nums[i] in numDict:\n",
    "            return numDict[target-nums[i]], i\n",
    "        numDict[nums[i]] = i\n",
    "    return [0]"
   ]
  },
  {
   "cell_type": "code",
   "execution_count": 36,
   "id": "be1a687f",
   "metadata": {},
   "outputs": [
    {
     "data": {
      "text/plain": [
       "(1, 2)"
      ]
     },
     "execution_count": 36,
     "metadata": {},
     "output_type": "execute_result"
    }
   ],
   "source": [
    "twoSum([1,2,3,4], 5)"
   ]
  },
  {
   "cell_type": "code",
   "execution_count": null,
   "id": "28f777da",
   "metadata": {},
   "outputs": [],
   "source": [
    "class Solution:\n",
    "    def addTwoNums(self, l1: ListNode, l2: ListNode)->ListNode:\n",
    "        head = curr = ListNode(0)\n",
    "        carry = 0\n",
    "        while l1 or l2 or carry:\n",
    "            if l1: \n",
    "                num1 = l1.val\n",
    "                l1 = l1.next\n",
    "            else:\n",
    "                nums1 = 0\n",
    "            if l2:\n",
    "                nums2 = l2.val\n",
    "                l2 = l2.next \n",
    "            else:\n",
    "                num2 = 0\n",
    "                \n",
    "            sum = num1 + num2 + carry  \n",
    "            carry = sum // 10\n",
    "            curr.next = ListNode(sum %10)\n",
    "            curr = curr.next\n",
    "            \n",
    "        return head.next \n",
    "    \n",
    "    \n",
    "                \n",
    "                "
   ]
  }
 ],
 "metadata": {
  "kernelspec": {
   "display_name": "Python 3 (ipykernel)",
   "language": "python",
   "name": "python3"
  },
  "language_info": {
   "codemirror_mode": {
    "name": "ipython",
    "version": 3
   },
   "file_extension": ".py",
   "mimetype": "text/x-python",
   "name": "python",
   "nbconvert_exporter": "python",
   "pygments_lexer": "ipython3",
   "version": "3.9.7"
  }
 },
 "nbformat": 4,
 "nbformat_minor": 5
}
