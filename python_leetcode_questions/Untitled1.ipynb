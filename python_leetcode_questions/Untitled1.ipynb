{
 "cells": [
  {
   "cell_type": "code",
   "execution_count": 5,
   "id": "b7412d5f",
   "metadata": {},
   "outputs": [],
   "source": [
    "n=0\n",
    "def f():\n",
    "    global n\n",
    "    n+=1\n",
    "    print(n)\n",
    "    # base case \n",
    "    if n==3:\n",
    "        return \n",
    "    else:\n",
    "        f()"
   ]
  },
  {
   "cell_type": "code",
   "execution_count": 6,
   "id": "95803f8e",
   "metadata": {},
   "outputs": [
    {
     "name": "stdout",
     "output_type": "stream",
     "text": [
      "1\n",
      "2\n",
      "3\n"
     ]
    }
   ],
   "source": [
    "f()"
   ]
  },
  {
   "cell_type": "code",
   "execution_count": 40,
   "id": "89645646",
   "metadata": {},
   "outputs": [],
   "source": [
    "def f():\n",
    "    try:\n",
    "        f()\n",
    "    except:\n",
    "        print('it crashed')"
   ]
  },
  {
   "cell_type": "code",
   "execution_count": 41,
   "id": "d2003f79",
   "metadata": {},
   "outputs": [
    {
     "name": "stdout",
     "output_type": "stream",
     "text": [
      "it crashedit crashed\n"
     ]
    }
   ],
   "source": [
    "f()"
   ]
  },
  {
   "cell_type": "code",
   "execution_count": 44,
   "id": "65602528",
   "metadata": {},
   "outputs": [],
   "source": [
    "def f(n):\n",
    "    p=1\n",
    "    for i in range(1, n+1):\n",
    "        p *=i\n",
    "    return p\n",
    "\n",
    "    "
   ]
  },
  {
   "cell_type": "code",
   "execution_count": 45,
   "id": "de3bd32a",
   "metadata": {},
   "outputs": [
    {
     "data": {
      "text/plain": [
       "120"
      ]
     },
     "execution_count": 45,
     "metadata": {},
     "output_type": "execute_result"
    }
   ],
   "source": [
    "f(5)"
   ]
  },
  {
   "cell_type": "code",
   "execution_count": 47,
   "id": "7e8163ae",
   "metadata": {},
   "outputs": [],
   "source": [
    "def f(n):\n",
    "    # base case\n",
    "    if n==1: \n",
    "        return 1 \n",
    "    else:\n",
    "        return 2 * f(1)\n",
    "        "
   ]
  },
  {
   "cell_type": "code",
   "execution_count": 48,
   "id": "9a75a299",
   "metadata": {},
   "outputs": [
    {
     "data": {
      "text/plain": [
       "2"
      ]
     },
     "execution_count": 48,
     "metadata": {},
     "output_type": "execute_result"
    }
   ],
   "source": [
    "f(2)"
   ]
  },
  {
   "cell_type": "code",
   "execution_count": 49,
   "id": "eafb380d",
   "metadata": {},
   "outputs": [],
   "source": [
    "def f(n):\n",
    "    if n==1:\n",
    "        return 1\n",
    "    else:\n",
    "        return n*f(n-1)"
   ]
  },
  {
   "cell_type": "code",
   "execution_count": 50,
   "id": "afff6a99",
   "metadata": {},
   "outputs": [
    {
     "data": {
      "text/plain": [
       "120"
      ]
     },
     "execution_count": 50,
     "metadata": {},
     "output_type": "execute_result"
    }
   ],
   "source": [
    "f(5)"
   ]
  },
  {
   "cell_type": "code",
   "execution_count": 51,
   "id": "b10928dd",
   "metadata": {},
   "outputs": [],
   "source": [
    "def f(n):\n",
    "    if n==1:\n",
    "        return 1\n",
    "    else:\n",
    "        return n*f(n-1)"
   ]
  },
  {
   "cell_type": "code",
   "execution_count": 52,
   "id": "12727f20",
   "metadata": {},
   "outputs": [
    {
     "data": {
      "text/plain": [
       "120"
      ]
     },
     "execution_count": 52,
     "metadata": {},
     "output_type": "execute_result"
    }
   ],
   "source": [
    "f(5)"
   ]
  },
  {
   "cell_type": "code",
   "execution_count": 53,
   "id": "0e35fbcc",
   "metadata": {},
   "outputs": [],
   "source": [
    "def fib(num):\n",
    "    a, b = 1, 1\n",
    "    for i in range(num - 2):\n",
    "        a, b = b, a+b\n",
    "    return b"
   ]
  },
  {
   "cell_type": "code",
   "execution_count": 55,
   "id": "2ddf591d",
   "metadata": {},
   "outputs": [
    {
     "data": {
      "text/plain": [
       "55"
      ]
     },
     "execution_count": 55,
     "metadata": {},
     "output_type": "execute_result"
    }
   ],
   "source": [
    "fib(10)"
   ]
  },
  {
   "cell_type": "code",
   "execution_count": 56,
   "id": "a7d39b5e",
   "metadata": {},
   "outputs": [],
   "source": [
    "def fib(n):\n",
    "    if n==1:\n",
    "        return 1\n",
    "        # base case\n",
    "    elif n==2:\n",
    "        return 1\n",
    "    else:\n",
    "        # rec case \n",
    "        return fib(n-1)+fib(n-2)"
   ]
  },
  {
   "cell_type": "code",
   "execution_count": 84,
   "id": "5f453e58",
   "metadata": {},
   "outputs": [],
   "source": [
    "fib_cache={}\n",
    "def fibx(n):\n",
    "    if n in fib_cache:\n",
    "        return fib_cache[n]\n",
    "    if n==1 or n==2:\n",
    "        fib_cache[n] = 1\n",
    "        return 1 \n",
    "    else:\n",
    "        res = fibx(n-1)\n",
    "        res = res + fibx(n-2)\n",
    "        fib_cache[n] = res \n",
    "        return res "
   ]
  },
  {
   "cell_type": "code",
   "execution_count": 86,
   "id": "e544fb97",
   "metadata": {},
   "outputs": [
    {
     "data": {
      "text/plain": [
       "55"
      ]
     },
     "execution_count": 86,
     "metadata": {},
     "output_type": "execute_result"
    }
   ],
   "source": [
    "fibx(10)"
   ]
  },
  {
   "cell_type": "code",
   "execution_count": 87,
   "id": "2d530ba4",
   "metadata": {},
   "outputs": [],
   "source": [
    "class Node:\n",
    "    def __init__(self, left, right):\n",
    "        self.left = left \n",
    "        self.right = right "
   ]
  },
  {
   "cell_type": "code",
   "execution_count": 88,
   "id": "68557883",
   "metadata": {},
   "outputs": [
    {
     "ename": "TypeError",
     "evalue": "Node.__init__() missing 2 required positional arguments: 'left' and 'right'",
     "output_type": "error",
     "traceback": [
      "\u001b[0;31m---------------------------------------------------------------------------\u001b[0m",
      "\u001b[0;31mTypeError\u001b[0m                                 Traceback (most recent call last)",
      "Cell \u001b[0;32mIn[88], line 1\u001b[0m\n\u001b[0;32m----> 1\u001b[0m a \u001b[38;5;241m=\u001b[39m \u001b[43mNode\u001b[49m\u001b[43m(\u001b[49m\u001b[43m)\u001b[49m\n\u001b[1;32m      2\u001b[0m a\u001b[38;5;241m.\u001b[39mleft \u001b[38;5;241m=\u001b[39m Node()\n\u001b[1;32m      3\u001b[0m a\u001b[38;5;241m.\u001b[39mleft\u001b[38;5;241m.\u001b[39mleft \u001b[38;5;241m=\u001b[39m Node()\n",
      "\u001b[0;31mTypeError\u001b[0m: Node.__init__() missing 2 required positional arguments: 'left' and 'right'"
     ]
    }
   ],
   "source": [
    "a = Node()\n",
    "a.left = Node()\n",
    "a.left.left = Node()\n",
    "a.left.left.left = Node()\n",
    "a.left.left.right = Node()"
   ]
  },
  {
   "cell_type": "code",
   "execution_count": 91,
   "id": "0423a457",
   "metadata": {},
   "outputs": [],
   "source": [
    "import os \n",
    "def contains(folder):\n",
    "    try:\n",
    "        if 'spam.txt' in os.listdir(folder):\n",
    "            return True \n",
    "        else:\n",
    "            for name in os.listddir(folder):\n",
    "                if name == 'spam.txt':\n",
    "                    return True \n",
    "                if os.path.isdir(os.path.join(folder+name)):\n",
    "                    # recur case\n",
    "                    return contains(os.path.join(folder+name))\n",
    "        return False \n",
    "    except:\n",
    "        return False "
   ]
  },
  {
   "cell_type": "code",
   "execution_count": 109,
   "id": "7f512c75",
   "metadata": {},
   "outputs": [
    {
     "data": {
      "text/plain": [
       "(48, 57, 97, 102)"
      ]
     },
     "execution_count": 109,
     "metadata": {},
     "output_type": "execute_result"
    }
   ],
   "source": [
    "ord(str(0)), ord(str(9)), ord('a'), ord('f')"
   ]
  },
  {
   "cell_type": "code",
   "execution_count": 108,
   "id": "1358090f",
   "metadata": {},
   "outputs": [
    {
     "data": {
      "text/plain": [
       "(65, 70)"
      ]
     },
     "execution_count": 108,
     "metadata": {},
     "output_type": "execute_result"
    }
   ],
   "source": [
    "ord('A'), ord('F')"
   ]
  },
  {
   "cell_type": "code",
   "execution_count": 114,
   "id": "caeffe27",
   "metadata": {},
   "outputs": [
    {
     "name": "stdout",
     "output_type": "stream",
     "text": [
      "[0, 1, 0, 1, 0, 1, 0, 1]\n",
      "[1, 0, 1, 0, 1, 0, 1, 0]\n",
      "[0, 1, 0, 1, 0, 1, 0, 1]\n",
      "[1, 0, 1, 0, 1, 0, 1, 0]\n",
      "[0, 1, 0, 1, 0, 1, 0, 1]\n",
      "[1, 0, 1, 0, 1, 0, 1, 0]\n",
      "[0, 1, 0, 1, 0, 1, 0, 1]\n",
      "[1, 0, 1, 0, 1, 0, 1, 0]\n"
     ]
    }
   ],
   "source": [
    "\n",
    "for i in range(8):\n",
    "    a=[]\n",
    "    for j in range(8):\n",
    "        a.append((i+j)%2)\n",
    "    print(a)"
   ]
  },
  {
   "cell_type": "code",
   "execution_count": 116,
   "id": "f4fa9693",
   "metadata": {},
   "outputs": [],
   "source": [
    "def maxa(n1: int, n2:int)->int:\n",
    "    if n1>n2: return n1\n",
    "    else:\n",
    "        return n2"
   ]
  },
  {
   "cell_type": "code",
   "execution_count": 118,
   "id": "2a60620e",
   "metadata": {},
   "outputs": [
    {
     "data": {
      "text/plain": [
       "(3, 3)"
      ]
     },
     "execution_count": 118,
     "metadata": {},
     "output_type": "execute_result"
    }
   ],
   "source": [
    "maxa(1,3),maxa(3,1)"
   ]
  },
  {
   "cell_type": "code",
   "execution_count": 120,
   "id": "309fa1da",
   "metadata": {},
   "outputs": [],
   "source": [
    "def isOdd(n: int) -> bool:\n",
    "    return n%2==1"
   ]
  },
  {
   "cell_type": "code",
   "execution_count": 123,
   "id": "307d5750",
   "metadata": {},
   "outputs": [
    {
     "data": {
      "text/plain": [
       "(True, False)"
      ]
     },
     "execution_count": 123,
     "metadata": {},
     "output_type": "execute_result"
    }
   ],
   "source": [
    "isOdd(3),isOdd(4)"
   ]
  },
  {
   "cell_type": "code",
   "execution_count": null,
   "id": "25baef93",
   "metadata": {},
   "outputs": [],
   "source": [
    "def f(n:int)->int:\n",
    "    res = 1\n",
    "    if n<=1:\n",
    "        return 1  \n",
    "    for i in range(n):\n",
    "        res *=i\n",
    "    return res "
   ]
  },
  {
   "cell_type": "code",
   "execution_count": 136,
   "id": "4b8fecd5",
   "metadata": {},
   "outputs": [
    {
     "name": "stdout",
     "output_type": "stream",
     "text": [
      "0 6\n",
      "1 5\n",
      "2 4\n"
     ]
    }
   ],
   "source": [
    "s='helloo'\n",
    "for i in range(len(s)//2):\n",
    "    print(i, len(s)-i)"
   ]
  },
  {
   "cell_type": "code",
   "execution_count": 2,
   "id": "a6916bd7",
   "metadata": {},
   "outputs": [
    {
     "name": "stdout",
     "output_type": "stream",
     "text": [
      "found\n"
     ]
    }
   ],
   "source": [
    "a = [i for i in range(10)]\n",
    "l,r=0,len(a)\n",
    "while l<r:\n",
    "    mid=(l+r)//2\n",
    "    if a[mid] ==6:\n",
    "        print('found')\n",
    "        break\n",
    "    elif a[mid]<6:\n",
    "        l=mid+1\n",
    "    else:\n",
    "        r=mid-1\n",
    "\n",
    "        "
   ]
  },
  {
   "cell_type": "code",
   "execution_count": 13,
   "id": "04afa291",
   "metadata": {},
   "outputs": [
    {
     "name": "stdout",
     "output_type": "stream",
     "text": [
      "x (\n",
      "y ['(']\n",
      "x )\n",
      "y []\n"
     ]
    }
   ],
   "source": [
    "stack=[]\n",
    "mapper={\")\":\"(\", \"]\":\"[\", \"}\":\"{\"}\n",
    "s1=\"()\"\n",
    "for p in s1:\n",
    "    print(\"x\", p)\n",
    "    if p in \")]}\":\n",
    "        if stack and stack[-1] == mapper[p]:\n",
    "            stack.pop()\n",
    "        else:\n",
    "            print(False)\n",
    "    else:\n",
    "        stack.append(p)\n",
    "\n",
    "    print(\"y\", stack)"
   ]
  },
  {
   "cell_type": "code",
   "execution_count": 6,
   "id": "0401a7a2",
   "metadata": {},
   "outputs": [
    {
     "data": {
      "text/plain": [
       "([], {')': '(', ']': '[', '}': '{'})"
      ]
     },
     "execution_count": 6,
     "metadata": {},
     "output_type": "execute_result"
    }
   ],
   "source": [
    "stack, mapper"
   ]
  },
  {
   "cell_type": "code",
   "execution_count": 17,
   "id": "0829988a",
   "metadata": {},
   "outputs": [
    {
     "data": {
      "text/plain": [
       "'/home'"
      ]
     },
     "execution_count": 17,
     "metadata": {},
     "output_type": "execute_result"
    }
   ],
   "source": [
    "stack={'home'}\n",
    "\"/\"+\"/\".join(stack)"
   ]
  },
  {
   "cell_type": "code",
   "execution_count": 23,
   "id": "d2ef9a29",
   "metadata": {},
   "outputs": [
    {
     "data": {
      "text/plain": [
       "'/a/b/c'"
      ]
     },
     "execution_count": 23,
     "metadata": {},
     "output_type": "execute_result"
    }
   ],
   "source": [
    "\"/\"+\"/\".join('abc')"
   ]
  },
  {
   "cell_type": "code",
   "execution_count": 21,
   "id": "052bd768",
   "metadata": {},
   "outputs": [
    {
     "data": {
      "text/plain": [
       "'a/b/c'"
      ]
     },
     "execution_count": 21,
     "metadata": {},
     "output_type": "execute_result"
    }
   ],
   "source": [
    "\"/\".join('abc')"
   ]
  },
  {
   "cell_type": "code",
   "execution_count": 24,
   "id": "fb9f1733",
   "metadata": {},
   "outputs": [
    {
     "data": {
      "text/plain": [
       "'abc'"
      ]
     },
     "execution_count": 24,
     "metadata": {},
     "output_type": "execute_result"
    }
   ],
   "source": [
    "\"\".join('abc')"
   ]
  },
  {
   "cell_type": "code",
   "execution_count": 28,
   "id": "40d9bab5",
   "metadata": {},
   "outputs": [
    {
     "data": {
      "text/plain": [
       "'/a/b/c'"
      ]
     },
     "execution_count": 28,
     "metadata": {},
     "output_type": "execute_result"
    }
   ],
   "source": [
    "\"/\"+\"/\".join(\"abc\")"
   ]
  },
  {
   "cell_type": "code",
   "execution_count": 29,
   "id": "8f4f2782",
   "metadata": {},
   "outputs": [],
   "source": [
    "nums = [1,1,1,2,2,3]"
   ]
  },
  {
   "cell_type": "code",
   "execution_count": 36,
   "id": "ea3c8cdf",
   "metadata": {},
   "outputs": [
    {
     "data": {
      "text/plain": [
       "1"
      ]
     },
     "execution_count": 36,
     "metadata": {},
     "output_type": "execute_result"
    }
   ],
   "source": [
    "from collections import Counter\n",
    "c = Counter(nums)\n",
    "c.most_common(1)[0][0]"
   ]
  },
  {
   "cell_type": "code",
   "execution_count": 37,
   "id": "02e8ca58",
   "metadata": {},
   "outputs": [
    {
     "data": {
      "text/plain": [
       "Counter({1: 3, 2: 2, 3: 1})"
      ]
     },
     "execution_count": 37,
     "metadata": {},
     "output_type": "execute_result"
    }
   ],
   "source": [
    "import heapq\n",
    "c "
   ]
  },
  {
   "cell_type": "code",
   "execution_count": 40,
   "id": "451bfe10",
   "metadata": {},
   "outputs": [],
   "source": [
    "c = [(-v,k) for k,v in c.items()]"
   ]
  },
  {
   "cell_type": "code",
   "execution_count": 45,
   "id": "8a4bd8f4",
   "metadata": {},
   "outputs": [
    {
     "ename": "IndexError",
     "evalue": "index out of range",
     "output_type": "error",
     "traceback": [
      "\u001b[0;31m---------------------------------------------------------------------------\u001b[0m",
      "\u001b[0;31mIndexError\u001b[0m                                Traceback (most recent call last)",
      "Cell \u001b[0;32mIn[45], line 4\u001b[0m\n\u001b[1;32m      2\u001b[0m output \u001b[38;5;241m=\u001b[39m []\n\u001b[1;32m      3\u001b[0m \u001b[38;5;28;01mfor\u001b[39;00m i \u001b[38;5;129;01min\u001b[39;00m \u001b[38;5;28mrange\u001b[39m(\u001b[38;5;241m2\u001b[39m):\n\u001b[0;32m----> 4\u001b[0m     item \u001b[38;5;241m=\u001b[39m \u001b[43mheapq\u001b[49m\u001b[38;5;241;43m.\u001b[39;49m\u001b[43mheappop\u001b[49m\u001b[43m(\u001b[49m\u001b[43mc\u001b[49m\u001b[43m)\u001b[49m\n\u001b[1;32m      5\u001b[0m     output\u001b[38;5;241m.\u001b[39mappend(item[i])\n\u001b[1;32m      6\u001b[0m \u001b[38;5;28mprint\u001b[39m(output)\n",
      "\u001b[0;31mIndexError\u001b[0m: index out of range"
     ]
    }
   ],
   "source": [
    "heapq.heapify(c)\n",
    "output = []\n",
    "for i in range(2):\n",
    "    item = heapq.heappop(c)\n",
    "    output.append(item[i])\n",
    "print(output)"
   ]
  },
  {
   "cell_type": "code",
   "execution_count": null,
   "id": "92132685",
   "metadata": {},
   "outputs": [],
   "source": []
  }
 ],
 "metadata": {
  "kernelspec": {
   "display_name": "Python 3 (ipykernel)",
   "language": "python",
   "name": "python3"
  },
  "language_info": {
   "codemirror_mode": {
    "name": "ipython",
    "version": 3
   },
   "file_extension": ".py",
   "mimetype": "text/x-python",
   "name": "python",
   "nbconvert_exporter": "python",
   "pygments_lexer": "ipython3",
   "version": "3.9.7"
  }
 },
 "nbformat": 4,
 "nbformat_minor": 5
}
