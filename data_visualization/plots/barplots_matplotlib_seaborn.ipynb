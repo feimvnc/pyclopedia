{
 "cells": [
  {
   "cell_type": "markdown",
   "id": "a35cee68",
   "metadata": {},
   "source": [
    "### create high quality figures"
   ]
  },
  {
   "cell_type": "code",
   "execution_count": 17,
   "id": "062f2bff",
   "metadata": {},
   "outputs": [],
   "source": [
    "import matplotlib.pyplot as plt \n",
    "import seaborn as sns \n",
    "import numpy as np"
   ]
  },
  {
   "cell_type": "code",
   "execution_count": 84,
   "id": "aac20b9d",
   "metadata": {},
   "outputs": [],
   "source": [
    "# create sample data \n",
    "a = list(np.linspace(50,80, 5))\n",
    "b = list(np.linspace(42,80, 5))"
   ]
  },
  {
   "cell_type": "code",
   "execution_count": 85,
   "id": "5e784d6d",
   "metadata": {},
   "outputs": [
    {
     "data": {
      "text/plain": [
       "([50.0, 57.5, 65.0, 72.5, 80.0], [42.0, 51.5, 61.0, 70.5, 80.0])"
      ]
     },
     "execution_count": 85,
     "metadata": {},
     "output_type": "execute_result"
    }
   ],
   "source": [
    "a,b"
   ]
  },
  {
   "cell_type": "code",
   "execution_count": 86,
   "id": "6d1addbe",
   "metadata": {},
   "outputs": [],
   "source": [
    "vals = a+b\n",
    "groups = ['Gene_a']*5 + ['Control']*5"
   ]
  },
  {
   "cell_type": "code",
   "execution_count": 87,
   "id": "63d24dd6",
   "metadata": {},
   "outputs": [
    {
     "data": {
      "text/plain": [
       "MannwhitneyuResult(statistic=14.5, pvalue=0.7532980334628383)"
      ]
     },
     "execution_count": 87,
     "metadata": {},
     "output_type": "execute_result"
    }
   ],
   "source": [
    "# testing for statistical significance, pvalue\n",
    "\n",
    "from scipy import stats \n",
    "stats.mannwhitneyu(a,b)"
   ]
  },
  {
   "cell_type": "code",
   "execution_count": 88,
   "id": "4bb5dbd1",
   "metadata": {},
   "outputs": [
    {
     "data": {
      "text/plain": [
       "['Gene_a',\n",
       " 'Gene_a',\n",
       " 'Gene_a',\n",
       " 'Gene_a',\n",
       " 'Gene_a',\n",
       " 'Control',\n",
       " 'Control',\n",
       " 'Control',\n",
       " 'Control',\n",
       " 'Control']"
      ]
     },
     "execution_count": 88,
     "metadata": {},
     "output_type": "execute_result"
    }
   ],
   "source": [
    "groups"
   ]
  },
  {
   "cell_type": "code",
   "execution_count": 89,
   "id": "bf42cff1",
   "metadata": {},
   "outputs": [
    {
     "name": "stderr",
     "output_type": "stream",
     "text": [
      "/var/folders/l1/dzcw8wr90wxdt447b9wlfw3r0000gn/T/ipykernel_19573/1080882348.py:3: FutureWarning: \n",
      "\n",
      "Passing `palette` without assigning `hue` is deprecated and will be removed in v0.14.0. Assign the `x` variable to `hue` and set `legend=False` for the same effect.\n",
      "\n",
      "  ax = sns.barplot(x = groups, y = vals, capsize = 0.5,\n"
     ]
    },
    {
     "data": {
      "text/plain": [
       "(0.0, 84.0)"
      ]
     },
     "execution_count": 89,
     "metadata": {},
     "output_type": "execute_result"
    },
    {
     "data": {
      "image/png": "[encoded data removed]",
      "text/plain": [
       "<Figure size 200x400 with 1 Axes>"
      ]
     },
     "metadata": {},
     "output_type": "display_data"
    }
   ],
   "source": [
    "# show single graph together, plot and data points \n",
    "plt.figure(figsize = (2, 4))  # change graph size\n",
    "ax = sns.barplot(x = groups, y = vals, capsize = 0.5, \n",
    "                 edgecolor = '0.2',\n",
    "                 lw = 2.5,\n",
    "                 err_kws={'linewidth': 2.5, 'color': '0.2'},\n",
    "#                  palette = ['brown', 'mistyrose']\n",
    "                 palette = ['brown', '#7bc5d0'],    # value from eyedropper\n",
    "#                  hue = 0.9\n",
    "#                  errcolor = '0.2'\n",
    "                )\n",
    "\n",
    "# add *kwargs to pass additinal parameters, e.g. marker line\n",
    "# fc : face color\n",
    "kwargs = {'edgecolor': '0.2', 'linewidth': 2.5, 'fc': 'none'}\n",
    "\n",
    "ax = sns.swarmplot(x = groups, y = vals,\n",
    "                 marker = 's',  # square\n",
    "                 s = 10,   #  marker size \n",
    "                 **kwargs\n",
    "                  )\n",
    "\n",
    "# get y max val \n",
    "prev_lim = ax.get_ylim()[1]\n",
    "\n",
    "# add p* significance value \n",
    "max_val = max(vals)\n",
    "plt.plot([0,0,1,1], [max_val+5, max_val+8, max_val+8, max_val+5],\n",
    "        lw = 2.5, color = '0.2',\n",
    "        clip_on = False)   # keep fig content \n",
    "plt.text(x = 0.5, y = max_val+8, s = '*', ha = 'center', size = 20,\n",
    "        weight = 'bold', color = '0.2')   # show '*'\n",
    "\n",
    "# adjust figure \n",
    "for axis in ['bottom', 'left']:\n",
    "    ax.spines[axis].set_linewidth(2.5)\n",
    "    ax.spines[axis].set_color('0.2')\n",
    "    \n",
    "# hide top and right line\n",
    "ax.spines['top'].set_visible(False)\n",
    "ax.spines['right'].set_visible(False)\n",
    "\n",
    "# add labels \n",
    "plt.xticks(size = 14, rotation = 35, \n",
    "           rotation_mode = \"anchor\", ha = 'right', weight = 'bold')\n",
    "plt.yticks(size = 14, weight = 'bold', color = '0.2')\n",
    "\n",
    "ax.tick_params(width = 2.5, color = '0.2')\n",
    "\n",
    "plt.ylim(top = prev_lim)"
   ]
  },
  {
   "cell_type": "code",
   "execution_count": 75,
   "id": "9a367bb0",
   "metadata": {},
   "outputs": [
    {
     "data": {
      "text/plain": [
       "<Figure size 640x480 with 0 Axes>"
      ]
     },
     "metadata": {},
     "output_type": "display_data"
    }
   ],
   "source": [
    "plt.savefig('bar_test.png', bbox_inches = 'tight', \n",
    "           dpi = 250, \n",
    "           facecolor = ax.get_facecolor())"
   ]
  },
  {
   "cell_type": "code",
   "execution_count": 67,
   "id": "84507fb7",
   "metadata": {},
   "outputs": [
    {
     "name": "stdout",
     "output_type": "stream",
     "text": [
      "bar_test.png\r\n"
     ]
    }
   ],
   "source": [
    "!ls bar_test.png"
   ]
  },
  {
   "cell_type": "code",
   "execution_count": 90,
   "id": "372d7d89",
   "metadata": {},
   "outputs": [
    {
     "data": {
      "text/plain": [
       "<Figure size 640x480 with 0 Axes>"
      ]
     },
     "metadata": {},
     "output_type": "display_data"
    }
   ],
   "source": [
    "# for publication, save as svg \n",
    "plt.savefig('bar_test.svg', bbox_inches = 'tight')"
   ]
  },
  {
   "cell_type": "markdown",
   "id": "3f349832",
   "metadata": {},
   "source": [
    "### subplot"
   ]
  },
  {
   "cell_type": "code",
   "execution_count": 95,
   "id": "c943c1f1",
   "metadata": {},
   "outputs": [],
   "source": [
    "import pandas as pd \n",
    "\n",
    "# create sample data \n",
    "a = list(np.linspace(50,80, 10))\n",
    "b = list(np.linspace(42,80, 10))\n",
    "\n",
    "# create 3 lists of sample values\n",
    "vals = a+b \n",
    "gene = ['Gene_a']*10 + ['Control']*10\n",
    "groups = ['Treated']*5 + ['Untreated']*5 + ['Treated']*5 + ['Untreated']*5\n",
    "\n",
    "# zip 3 lists and add column headers\n",
    "df = pd.DataFrame(zip(vals, gene, groups), columns = ['Value', 'Gene', 'Treatment', ])"
   ]
  },
  {
   "cell_type": "code",
   "execution_count": 96,
   "id": "8a187ce2",
   "metadata": {},
   "outputs": [
    {
     "data": {
      "text/html": [
       "<div>\n",
       "<style scoped>\n",
       "    .dataframe tbody tr th:only-of-type {\n",
       "        vertical-align: middle;\n",
       "    }\n",
       "\n",
       "    .dataframe tbody tr th {\n",
       "        vertical-align: top;\n",
       "    }\n",
       "\n",
       "    .dataframe thead th {\n",
       "        text-align: right;\n",
       "    }\n",
       "</style>\n",
       "<table border=\"1\" class=\"dataframe\">\n",
       "  <thead>\n",
       "    <tr style=\"text-align: right;\">\n",
       "      <th></th>\n",
       "      <th>Value</th>\n",
       "      <th>Gene</th>\n",
       "      <th>Treatment</th>\n",
       "    </tr>\n",
       "  </thead>\n",
       "  <tbody>\n",
       "    <tr>\n",
       "      <th>0</th>\n",
       "      <td>50.000000</td>\n",
       "      <td>Gene_a</td>\n",
       "      <td>Treated</td>\n",
       "    </tr>\n",
       "    <tr>\n",
       "      <th>1</th>\n",
       "      <td>53.333333</td>\n",
       "      <td>Gene_a</td>\n",
       "      <td>Treated</td>\n",
       "    </tr>\n",
       "    <tr>\n",
       "      <th>2</th>\n",
       "      <td>56.666667</td>\n",
       "      <td>Gene_a</td>\n",
       "      <td>Treated</td>\n",
       "    </tr>\n",
       "    <tr>\n",
       "      <th>3</th>\n",
       "      <td>60.000000</td>\n",
       "      <td>Gene_a</td>\n",
       "      <td>Treated</td>\n",
       "    </tr>\n",
       "    <tr>\n",
       "      <th>4</th>\n",
       "      <td>63.333333</td>\n",
       "      <td>Gene_a</td>\n",
       "      <td>Treated</td>\n",
       "    </tr>\n",
       "  </tbody>\n",
       "</table>\n",
       "</div>"
      ],
      "text/plain": [
       "       Value    Gene Treatment\n",
       "0  50.000000  Gene_a   Treated\n",
       "1  53.333333  Gene_a   Treated\n",
       "2  56.666667  Gene_a   Treated\n",
       "3  60.000000  Gene_a   Treated\n",
       "4  63.333333  Gene_a   Treated"
      ]
     },
     "execution_count": 96,
     "metadata": {},
     "output_type": "execute_result"
    }
   ],
   "source": [
    "df.head()"
   ]
  },
  {
   "cell_type": "code",
   "execution_count": 134,
   "id": "df364e7a",
   "metadata": {},
   "outputs": [
    {
     "name": "stderr",
     "output_type": "stream",
     "text": [
      "/var/folders/l1/dzcw8wr90wxdt447b9wlfw3r0000gn/T/ipykernel_19573/2093379123.py:5: FutureWarning: \n",
      "\n",
      "The `errcolor` parameter is deprecated. And will be removed in v0.15.0. Pass `err_kws={'color': '0.2'}` instead.\n",
      "\n",
      "  ax = sns.barplot(data = df, x = 'Gene', y = 'Value',\n"
     ]
    },
    {
     "data": {
      "text/plain": [
       "Text(16.97222222222222, 0.5, 'Values')"
      ]
     },
     "execution_count": 134,
     "metadata": {},
     "output_type": "execute_result"
    },
    {
     "data": {
      "image/png": "[encoded data removed]",
      "text/plain": [
       "<Figure size 400x400 with 1 Axes>"
      ]
     },
     "metadata": {},
     "output_type": "display_data"
    }
   ],
   "source": [
    "# subplot\n",
    "plt.figure(figsize = (4, 4))  \n",
    "\n",
    "# send to dataframe here\n",
    "ax = sns.barplot(data = df, x = 'Gene', y = 'Value', \n",
    "                 capsize = 0.25, \n",
    "                 edgecolor = '0.2',\n",
    "                 lw = 2.5,\n",
    "#                  err_kws={'linewidth': 2.5, 'color': '0.2'},\n",
    "                 errcolor = '0.2',\n",
    "                 palette = ['brown', 'mistyrose'],   \n",
    "                 hue = 'Treatment'\n",
    "                )\n",
    "\n",
    "# add *kwargs to pass additinal parameters, e.g. marker line\n",
    "# fc : face color\n",
    "kwargs = {'edgecolor': '0.2', 'linewidth': 2.5, 'fc': 'none'}\n",
    "\n",
    "ax = sns.swarmplot(data = df, \n",
    "                 x = 'Gene', y = 'Value',\n",
    "                 hue = 'Treatment',\n",
    "                 dodge = True,\n",
    "                 marker = 's',  # square\n",
    "                 s = 10,   #  marker size \n",
    "                 **kwargs\n",
    "                  )\n",
    "\n",
    "# get y max val \n",
    "prev_lim = ax.get_ylim()[1]\n",
    "\n",
    "# add p* significance value \n",
    "max_val = max(vals)\n",
    "\n",
    "handles, labels = ax.get_legend_handles_labels()\n",
    "\n",
    "# show labels of \"Treated\", \"Untreated\" at bottom\n",
    "plt.legend(handles[0:2], labels[0:2], \n",
    "           loc = 10, bbox_to_anchor = (0.5, -0.15),\n",
    "           ncol = 2, frameon = False, fontsize = 14, \n",
    "           labelcolor = '0.2', prop = {'weight': 'bold'}\n",
    "          )   # hide labels \n",
    "\n",
    "# adjust figure \n",
    "for axis in ['bottom', 'left']:\n",
    "    ax.spines[axis].set_linewidth(2.5)\n",
    "    ax.spines[axis].set_color('0.2')\n",
    "    \n",
    "# hide top and right line\n",
    "ax.spines['top'].set_visible(False)\n",
    "ax.spines['right'].set_visible(False)\n",
    "\n",
    "# add labels \n",
    "plt.xticks(size = 14, ha = 'center', weight = 'bold', color = '0.2')\n",
    "plt.yticks(size = 14, weight = 'bold', color = '0.2')\n",
    "\n",
    "ax.tick_params(width = 2.5, color = '0.2')\n",
    "\n",
    "plt.xlabel('')\n",
    "plt.ylabel('Values', size = 14, weight = 'bold', color = '0.2')\n",
    "# plt.ylim(top = prev_lim)"
   ]
  },
  {
   "cell_type": "code",
   "execution_count": null,
   "id": "af136803",
   "metadata": {},
   "outputs": [],
   "source": []
  }
 ],
 "metadata": {
  "kernelspec": {
   "display_name": "Python 3 (ipykernel)",
   "language": "python",
   "name": "python3"
  },
  "language_info": {
   "codemirror_mode": {
    "name": "ipython",
    "version": 3
   },
   "file_extension": ".py",
   "mimetype": "text/x-python",
   "name": "python",
   "nbconvert_exporter": "python",
   "pygments_lexer": "ipython3",
   "version": "3.11.4"
  }
 },
 "nbformat": 4,
 "nbformat_minor": 5
}
