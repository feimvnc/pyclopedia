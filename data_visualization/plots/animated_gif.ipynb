{
 "cells": [
  {
   "cell_type": "code",
   "execution_count": 3,
   "id": "2bbdd0aa",
   "metadata": {},
   "outputs": [],
   "source": [
    "import matplotlib.pyplot as plt"
   ]
  },
  {
   "cell_type": "code",
   "execution_count": 4,
   "id": "bb2714de",
   "metadata": {},
   "outputs": [
    {
     "data": {
      "text/plain": [
       "(range(0, 50), range(0, 50))"
      ]
     },
     "execution_count": 4,
     "metadata": {},
     "output_type": "execute_result"
    }
   ],
   "source": [
    "x = range(50)\n",
    "y = range(50)\n",
    "x, y"
   ]
  },
  {
   "cell_type": "code",
   "execution_count": 5,
   "id": "0fcf3fd0",
   "metadata": {
    "scrolled": false
   },
   "outputs": [
    {
     "data": {
      "image/png": "[encoded data removed]",
      "text/plain": [
       "<Figure size 640x480 with 1 Axes>"
      ]
     },
     "metadata": {},
     "output_type": "display_data"
    }
   ],
   "source": [
    "ax = plt.plot(x,y)"
   ]
  },
  {
   "cell_type": "code",
   "execution_count": 6,
   "id": "bba822e2",
   "metadata": {},
   "outputs": [],
   "source": [
    "import math\n",
    "x = range(1, 20)\n",
    "y = [math.log2(y) for y in x]\n",
    "# x, y"
   ]
  },
  {
   "cell_type": "code",
   "execution_count": 6,
   "id": "2bd181ec",
   "metadata": {
    "scrolled": true
   },
   "outputs": [],
   "source": [
    "ax = plt.plot(x,y)"
   ]
  },
  {
   "cell_type": "code",
   "execution_count": null,
   "id": "d5da3c9c",
   "metadata": {},
   "outputs": [],
   "source": [
    "for i in x:\n",
    "    ax = plt.plot(x[:i],y[:i])\n",
    "    plt.xlim((1,50))\n",
    "    plt.ylim((min(y),max(y)+0.5))\n",
    "    plt.show()"
   ]
  },
  {
   "cell_type": "code",
   "execution_count": 9,
   "id": "cd446129",
   "metadata": {},
   "outputs": [
    {
     "name": "stdout",
     "output_type": "stream",
     "text": [
      "mkdir: images: File exists\r\n"
     ]
    }
   ],
   "source": [
    "# save images \n",
    "!mkdir images"
   ]
  },
  {
   "cell_type": "code",
   "execution_count": 15,
   "id": "3e7f0293",
   "metadata": {},
   "outputs": [],
   "source": [
    "for i in x:\n",
    "    ax = plt.plot(x[:i],y[:i], lw=5)\n",
    "    plt.xlim((1,50))\n",
    "    plt.ylim((min(y),max(y)+.05))\n",
    "    \n",
    "    plt.savefig(f'images/{i-i:003}', dpi=100, facecolor='white')\n",
    "    plt.savefig(f'images/{100-i:003}', dpi=100, facecolor='white')\n",
    "#     plt.show()\n",
    "    plt.close()"
   ]
  },
  {
   "cell_type": "code",
   "execution_count": 16,
   "id": "2b776390",
   "metadata": {},
   "outputs": [
    {
     "name": "stdout",
     "output_type": "stream",
     "text": [
      "3d_scatter_surface_plot.ipynb   line_data_plot.py\r\n",
      "animated_gif.ipynb              linear_regression_seaborn.ipynb\r\n",
      "bar_plot.py                     regression_plot.py\r\n",
      "car-sales.csv                   scatter_plot.py\r\n",
      "\u001b[34mimages\u001b[m\u001b[m                          test.gif\r\n"
     ]
    }
   ],
   "source": [
    "!ls"
   ]
  },
  {
   "cell_type": "code",
   "execution_count": 1,
   "id": "b2697544",
   "metadata": {
    "scrolled": true
   },
   "outputs": [],
   "source": [
    "!convert -delay 5 images/*.png test.gif"
   ]
  },
  {
   "cell_type": "code",
   "execution_count": null,
   "id": "e1beb651",
   "metadata": {},
   "outputs": [],
   "source": [
    "# on Mac, open Finder, folder, click test.gif, you can see animated gif"
   ]
  }
 ],
 "metadata": {
  "kernelspec": {
   "display_name": "Python 3 (ipykernel)",
   "language": "python",
   "name": "python3"
  },
  "language_info": {
   "codemirror_mode": {
    "name": "ipython",
    "version": 3
   },
   "file_extension": ".py",
   "mimetype": "text/x-python",
   "name": "python",
   "nbconvert_exporter": "python",
   "pygments_lexer": "ipython3",
   "version": "3.11.4"
  }
 },
 "nbformat": 4,
 "nbformat_minor": 5
}
