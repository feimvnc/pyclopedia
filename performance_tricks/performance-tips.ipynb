{
 "cells": [
  {
   "cell_type": "markdown",
   "id": "3228be45",
   "metadata": {},
   "source": [
    "#### Some tips and ideas to make python code run faster\n",
    "\n",
    "Use built-in functions and libraries, they are tested and optimzied  \n",
    "min, max, all, map\n",
    "math.factorial, math.comb, math.fsum\n",
    "\n",
    "\n"
   ]
  },
  {
   "cell_type": "markdown",
   "id": "fa4c6805",
   "metadata": {},
   "source": [
    "https://medium.com/codex/say-goodbye-to-loops-in-python-and-welcome-vectorization-e4df66615a52   \n",
    "https://www.kdnuggets.com/2021/06/make-python-code-run-incredibly-fast.html   \n",
    "https://yanick-andrade.medium.com/enhancing-performance-in-python-a29bd06b7ad0  "
   ]
  },
  {
   "cell_type": "code",
   "execution_count": 1,
   "id": "30f4ffe1",
   "metadata": {},
   "outputs": [],
   "source": [
    "# Use built-in functions and libraries, they are tested and optimzied\n",
    "import string \n",
    "def upper_basic(n):\n",
    "    newList = []\n",
    "    for w in string.ascii_lowercase*n:\n",
    "        newList.append(w.upper())        "
   ]
  },
  {
   "cell_type": "code",
   "execution_count": 2,
   "id": "1042d216",
   "metadata": {},
   "outputs": [
    {
     "name": "stdout",
     "output_type": "stream",
     "text": [
      "4.12 ms ± 23.1 µs per loop (mean ± std. dev. of 7 runs, 100 loops each)\n"
     ]
    }
   ],
   "source": [
    "%timeit upper_basic(1000)"
   ]
  },
  {
   "cell_type": "code",
   "execution_count": 3,
   "id": "f1e2e233",
   "metadata": {},
   "outputs": [],
   "source": [
    "def upper_o2(n):\n",
    "    newList = map(str.upper, string.ascii_lowercase*n)"
   ]
  },
  {
   "cell_type": "code",
   "execution_count": 72,
   "id": "4974a349",
   "metadata": {},
   "outputs": [
    {
     "name": "stdout",
     "output_type": "stream",
     "text": [
      "1.22 µs ± 18.6 ns per loop (mean ± std. dev. of 7 runs, 1,000,000 loops each)\n"
     ]
    }
   ],
   "source": [
    "%timeit upper_o2(1000)"
   ]
  },
  {
   "cell_type": "code",
   "execution_count": null,
   "id": "23b92ece",
   "metadata": {},
   "outputs": [],
   "source": [
    "# performance difference: 2.95 ms vs 1.21 us"
   ]
  },
  {
   "cell_type": "markdown",
   "id": "f7e00ed6",
   "metadata": {},
   "source": [
    "#### prefer comprehension list over loop"
   ]
  },
  {
   "cell_type": "code",
   "execution_count": 4,
   "id": "2710d67c",
   "metadata": {},
   "outputs": [],
   "source": [
    "def list_loop(n):\n",
    "    new_list = []\n",
    "    for i in range(1, n):\n",
    "        if i % 2 == 0:\n",
    "            new_list.append(i**2)\n",
    "            "
   ]
  },
  {
   "cell_type": "code",
   "execution_count": 5,
   "id": "c1e03db4",
   "metadata": {},
   "outputs": [
    {
     "name": "stdout",
     "output_type": "stream",
     "text": [
      "304 µs ± 7.03 µs per loop (mean ± std. dev. of 7 runs, 1,000 loops each)\n"
     ]
    }
   ],
   "source": [
    "%timeit list_loop(1001)"
   ]
  },
  {
   "cell_type": "code",
   "execution_count": 6,
   "id": "0bf1ea28",
   "metadata": {},
   "outputs": [],
   "source": [
    "def list_comp(n):\n",
    "    new_list = [i**2 for i in range(1, n) if i%2 == 0]\n",
    "    "
   ]
  },
  {
   "cell_type": "code",
   "execution_count": 76,
   "id": "ea69c1d3",
   "metadata": {},
   "outputs": [
    {
     "name": "stdout",
     "output_type": "stream",
     "text": [
      "256 µs ± 350 ns per loop (mean ± std. dev. of 7 runs, 1,000 loops each)\n"
     ]
    }
   ],
   "source": [
    "%timeit list_comp(1001)"
   ]
  },
  {
   "cell_type": "markdown",
   "id": "85910e5d",
   "metadata": {},
   "source": [
    "#### use prop import"
   ]
  },
  {
   "cell_type": "code",
   "execution_count": 10,
   "id": "330b51a4",
   "metadata": {},
   "outputs": [],
   "source": [
    "import math \n",
    "def import_module(n):\n",
    "    for i in range(n):\n",
    "        value = math.sqrt(n)"
   ]
  },
  {
   "cell_type": "code",
   "execution_count": 11,
   "id": "5600bd43",
   "metadata": {},
   "outputs": [
    {
     "name": "stdout",
     "output_type": "stream",
     "text": [
      "137 µs ± 2.21 µs per loop (mean ± std. dev. of 7 runs, 10,000 loops each)\n"
     ]
    }
   ],
   "source": [
    "%timeit import_module(1001)"
   ]
  },
  {
   "cell_type": "code",
   "execution_count": 12,
   "id": "a2d42df7",
   "metadata": {},
   "outputs": [],
   "source": [
    "del math"
   ]
  },
  {
   "cell_type": "code",
   "execution_count": 13,
   "id": "f661fd13",
   "metadata": {},
   "outputs": [],
   "source": [
    "from math import sqrt \n",
    "def import_module_name(n):\n",
    "    for i in range(n):\n",
    "        value = sqrt(n)"
   ]
  },
  {
   "cell_type": "code",
   "execution_count": 14,
   "id": "4ca4219a",
   "metadata": {},
   "outputs": [
    {
     "name": "stdout",
     "output_type": "stream",
     "text": [
      "89.8 µs ± 773 ns per loop (mean ± std. dev. of 7 runs, 10,000 loops each)\n"
     ]
    }
   ],
   "source": [
    "%timeit import_module_name(1001)"
   ]
  },
  {
   "cell_type": "code",
   "execution_count": 15,
   "id": "53e8e591",
   "metadata": {},
   "outputs": [],
   "source": [
    "# preformance difference: 121 us vs 86 us"
   ]
  },
  {
   "cell_type": "markdown",
   "id": "8a7f6eb8",
   "metadata": {},
   "source": [
    "#### string concateation\n",
    "+= operator creates new string\n",
    "\"\".join is different and faster"
   ]
  },
  {
   "cell_type": "code",
   "execution_count": 16,
   "id": "7059bc67",
   "metadata": {},
   "outputs": [],
   "source": [
    "def string_cat_1(n):\n",
    "    s = \"\"\n",
    "    for i in range(1, 101):\n",
    "        s += string.ascii_letters\n",
    "        "
   ]
  },
  {
   "cell_type": "code",
   "execution_count": 17,
   "id": "6521752c",
   "metadata": {},
   "outputs": [],
   "source": [
    "def string_cat_2(n):\n",
    "    s = \"\"\n",
    "    for i in range(1, 101):\n",
    "        s.join(string.ascii_letters)"
   ]
  },
  {
   "cell_type": "code",
   "execution_count": 18,
   "id": "9b80de65",
   "metadata": {},
   "outputs": [
    {
     "name": "stdout",
     "output_type": "stream",
     "text": [
      "18.8 µs ± 106 ns per loop (mean ± std. dev. of 7 runs, 100,000 loops each)\n"
     ]
    }
   ],
   "source": [
    "%timeit string_cat_1(101)\n"
   ]
  },
  {
   "cell_type": "code",
   "execution_count": 19,
   "id": "196ac0e7",
   "metadata": {},
   "outputs": [
    {
     "name": "stdout",
     "output_type": "stream",
     "text": [
      "129 µs ± 499 ns per loop (mean ± std. dev. of 7 runs, 10,000 loops each)\n"
     ]
    }
   ],
   "source": [
    "%timeit string_cat_2(101)"
   ]
  },
  {
   "cell_type": "markdown",
   "id": "bde92b59",
   "metadata": {},
   "source": [
    "#### Use vectorization  \n",
    "apply operations to all elements of an array in one go  \n",
    "\"for\" loop manipulates one row at a time\n"
   ]
  },
  {
   "cell_type": "code",
   "execution_count": 20,
   "id": "ac6e8bd9",
   "metadata": {},
   "outputs": [],
   "source": [
    "def find_sum(n):\n",
    "    total = 0\n",
    "    for i in range(n):\n",
    "        total += i"
   ]
  },
  {
   "cell_type": "code",
   "execution_count": 21,
   "id": "7a706a7f",
   "metadata": {
    "scrolled": true
   },
   "outputs": [
    {
     "name": "stdout",
     "output_type": "stream",
     "text": [
      "74.9 ms ± 1.22 ms per loop (mean ± std. dev. of 7 runs, 10 loops each)\n"
     ]
    }
   ],
   "source": [
    "%timeit find_sum(1_000_000)"
   ]
  },
  {
   "cell_type": "code",
   "execution_count": 22,
   "id": "aece92cc",
   "metadata": {},
   "outputs": [],
   "source": [
    "import numpy as np\n",
    "def find_sum_vector(n):\n",
    "    total = 0\n",
    "    total = np.sum(np.arange(n))"
   ]
  },
  {
   "cell_type": "code",
   "execution_count": 23,
   "id": "78907a63",
   "metadata": {},
   "outputs": [
    {
     "name": "stdout",
     "output_type": "stream",
     "text": [
      "2.08 ms ± 78.9 µs per loop (mean ± std. dev. of 7 runs, 100 loops each)\n"
     ]
    }
   ],
   "source": [
    "%timeit find_sum_vector(1_000_000)"
   ]
  },
  {
   "cell_type": "code",
   "execution_count": 24,
   "id": "fe4b4744",
   "metadata": {},
   "outputs": [
    {
     "data": {
      "text/plain": [
       "0.9728613569321534"
      ]
     },
     "execution_count": 24,
     "metadata": {},
     "output_type": "execute_result"
    }
   ],
   "source": [
    "(67.8-1.84)/67.8"
   ]
  },
  {
   "cell_type": "markdown",
   "id": "a80420ae",
   "metadata": {},
   "source": [
    "#### create dataframe  \n",
    "create a 5 million row x 4 columns filled with random values\n"
   ]
  },
  {
   "cell_type": "code",
   "execution_count": 25,
   "id": "c3edf581",
   "metadata": {},
   "outputs": [
    {
     "data": {
      "text/plain": [
       "(5000, 4)"
      ]
     },
     "execution_count": 25,
     "metadata": {},
     "output_type": "execute_result"
    }
   ],
   "source": [
    "import numpy as np \n",
    "import pandas as pd\n",
    "df = pd.DataFrame(np.random.randint(0, 50, size=(5_000, 4)), columns=('a','b','c','d'))\n",
    "df.shape"
   ]
  },
  {
   "cell_type": "code",
   "execution_count": 26,
   "id": "351e5422",
   "metadata": {},
   "outputs": [
    {
     "data": {
      "text/html": [
       "<div>\n",
       "<style scoped>\n",
       "    .dataframe tbody tr th:only-of-type {\n",
       "        vertical-align: middle;\n",
       "    }\n",
       "\n",
       "    .dataframe tbody tr th {\n",
       "        vertical-align: top;\n",
       "    }\n",
       "\n",
       "    .dataframe thead th {\n",
       "        text-align: right;\n",
       "    }\n",
       "</style>\n",
       "<table border=\"1\" class=\"dataframe\">\n",
       "  <thead>\n",
       "    <tr style=\"text-align: right;\">\n",
       "      <th></th>\n",
       "      <th>a</th>\n",
       "      <th>b</th>\n",
       "      <th>c</th>\n",
       "      <th>d</th>\n",
       "    </tr>\n",
       "  </thead>\n",
       "  <tbody>\n",
       "    <tr>\n",
       "      <th>0</th>\n",
       "      <td>6</td>\n",
       "      <td>31</td>\n",
       "      <td>13</td>\n",
       "      <td>46</td>\n",
       "    </tr>\n",
       "    <tr>\n",
       "      <th>1</th>\n",
       "      <td>30</td>\n",
       "      <td>11</td>\n",
       "      <td>5</td>\n",
       "      <td>31</td>\n",
       "    </tr>\n",
       "    <tr>\n",
       "      <th>2</th>\n",
       "      <td>39</td>\n",
       "      <td>29</td>\n",
       "      <td>15</td>\n",
       "      <td>17</td>\n",
       "    </tr>\n",
       "    <tr>\n",
       "      <th>3</th>\n",
       "      <td>14</td>\n",
       "      <td>43</td>\n",
       "      <td>24</td>\n",
       "      <td>27</td>\n",
       "    </tr>\n",
       "    <tr>\n",
       "      <th>4</th>\n",
       "      <td>30</td>\n",
       "      <td>39</td>\n",
       "      <td>8</td>\n",
       "      <td>13</td>\n",
       "    </tr>\n",
       "  </tbody>\n",
       "</table>\n",
       "</div>"
      ],
      "text/plain": [
       "    a   b   c   d\n",
       "0   6  31  13  46\n",
       "1  30  11   5  31\n",
       "2  39  29  15  17\n",
       "3  14  43  24  27\n",
       "4  30  39   8  13"
      ]
     },
     "execution_count": 26,
     "metadata": {},
     "output_type": "execute_result"
    }
   ],
   "source": [
    "df.head()"
   ]
  },
  {
   "cell_type": "code",
   "execution_count": 27,
   "id": "9bd182b1",
   "metadata": {},
   "outputs": [],
   "source": [
    "def create_new_col(df):\n",
    "    for idx, row in df.iterrows():\n",
    "        df.at[idx, 'ratio'] = 100 *  (row['d'] / (1+(row['c'])))"
   ]
  },
  {
   "cell_type": "code",
   "execution_count": 28,
   "id": "65bf5c38",
   "metadata": {
    "scrolled": true
   },
   "outputs": [
    {
     "name": "stdout",
     "output_type": "stream",
     "text": [
      "482 ms ± 16.9 ms per loop (mean ± std. dev. of 7 runs, 1 loop each)\n"
     ]
    }
   ],
   "source": [
    "%timeit create_new_col(df)"
   ]
  },
  {
   "cell_type": "code",
   "execution_count": 29,
   "id": "5afdeea3",
   "metadata": {},
   "outputs": [],
   "source": [
    "def create_new_vec(df):\n",
    "    df['ratio'] = 100 *  (df['d'] / (1+(df['c'])))"
   ]
  },
  {
   "cell_type": "code",
   "execution_count": 30,
   "id": "073d7874",
   "metadata": {},
   "outputs": [
    {
     "name": "stdout",
     "output_type": "stream",
     "text": [
      "513 µs ± 43.5 µs per loop (mean ± std. dev. of 7 runs, 1,000 loops each)\n"
     ]
    }
   ],
   "source": [
    "%timeit create_new_vec(df)"
   ]
  },
  {
   "cell_type": "code",
   "execution_count": 31,
   "id": "ef6216cb",
   "metadata": {},
   "outputs": [],
   "source": [
    "# preformance difference: 439 ms vs 501 ms"
   ]
  },
  {
   "cell_type": "code",
   "execution_count": 32,
   "id": "0aee0196",
   "metadata": {},
   "outputs": [
    {
     "data": {
      "text/plain": [
       "998.8587699316629"
      ]
     },
     "execution_count": 32,
     "metadata": {},
     "output_type": "execute_result"
    }
   ],
   "source": [
    "(439*1000 - 501) / 439"
   ]
  },
  {
   "cell_type": "markdown",
   "id": "3df463d5",
   "metadata": {},
   "source": [
    "#### Dataframe if - else statement, create new column based on conditions"
   ]
  },
  {
   "cell_type": "code",
   "execution_count": 33,
   "id": "514ae6bc",
   "metadata": {},
   "outputs": [],
   "source": [
    "# use basic if / else statements\n",
    "def df_if_new(df):\n",
    "    for idx, row in df.iterrows():\n",
    "        if row.a == 0:\n",
    "            df.at[idx, 'e'] = row.d\n",
    "        elif (row.a <= 25) & (row.a > 0):\n",
    "            df.at[idx, 'e'] = (row.b) - (row.c)\n",
    "        else:\n",
    "            df.at[idx, 'e'] = row.b + row.c"
   ]
  },
  {
   "cell_type": "code",
   "execution_count": 34,
   "id": "fd100199",
   "metadata": {},
   "outputs": [
    {
     "name": "stdout",
     "output_type": "stream",
     "text": [
      "656 ms ± 28.4 ms per loop (mean ± std. dev. of 7 runs, 1 loop each)\n"
     ]
    }
   ],
   "source": [
    "%timeit df_if_new(df)"
   ]
  },
  {
   "cell_type": "code",
   "execution_count": 35,
   "id": "86c5e16e",
   "metadata": {},
   "outputs": [],
   "source": [
    "# use vectorization\n",
    "def df_if_vec(df):\n",
    "    df['e'] = df['b'] + df['c']\n",
    "    df.loc[df['a'] < 25, 'e'] = df['b'] - df['c']\n",
    "    df.loc[df['a'] == 0, 'e'] = df['d']\n",
    "    "
   ]
  },
  {
   "cell_type": "code",
   "execution_count": 36,
   "id": "182cd37d",
   "metadata": {},
   "outputs": [
    {
     "name": "stdout",
     "output_type": "stream",
     "text": [
      "2.03 ms ± 34.4 µs per loop (mean ± std. dev. of 7 runs, 100 loops each)\n"
     ]
    }
   ],
   "source": [
    "%timeit df_if_vec(df)"
   ]
  },
  {
   "cell_type": "code",
   "execution_count": 37,
   "id": "58391fa2",
   "metadata": {},
   "outputs": [
    {
     "data": {
      "text/plain": [
       "0.9966220735785953"
      ]
     },
     "execution_count": 37,
     "metadata": {},
     "output_type": "execute_result"
    }
   ],
   "source": [
    "(598 - 2.02)/598"
   ]
  },
  {
   "cell_type": "markdown",
   "id": "9abe83af",
   "metadata": {},
   "source": [
    "#### Deep learning multi-linear regression calculations  \n",
    "$$ y = m{_1}x{_1} + m{_2}x{_2} +m{_3}x{_3} +m{_4}x{_4} +m{_5}x{_1} + c $$\n",
    "\n",
    "Use loop for million of rows of calculations is slow  \n",
    "Vectorization is the  optimal solution"
   ]
  },
  {
   "cell_type": "code",
   "execution_count": 38,
   "id": "f5f684ef",
   "metadata": {},
   "outputs": [
    {
     "data": {
      "text/plain": [
       "((1, 5), (100000, 5))"
      ]
     },
     "execution_count": 38,
     "metadata": {},
     "output_type": "execute_result"
    }
   ],
   "source": [
    "# create random data \n",
    "import numpy as np\n",
    "m = np.random.rand(1,5)\n",
    "n = np.random.rand(100000,5)\n",
    "m.shape, n.shape\n"
   ]
  },
  {
   "cell_type": "code",
   "execution_count": 39,
   "id": "2de19177",
   "metadata": {},
   "outputs": [],
   "source": [
    "# use loop for calculations\n",
    "import numpy as np\n",
    "\n",
    "def loop_reg_sum(col, row):\n",
    "    m = np.random.rand(1,col)\n",
    "    n = np.random.rand(row,col)\n",
    "    result = []\n",
    "    for i in range(row):\n",
    "        total = 0 \n",
    "        for j in range(col):\n",
    "            total += n[j][j]*m[0][j]\n",
    "#         print(i, total)\n",
    "        result.append(total)\n"
   ]
  },
  {
   "cell_type": "code",
   "execution_count": 40,
   "id": "e118d62b",
   "metadata": {},
   "outputs": [
    {
     "name": "stdout",
     "output_type": "stream",
     "text": [
      "407 ms ± 7.12 ms per loop (mean ± std. dev. of 7 runs, 1 loop each)\n"
     ]
    }
   ],
   "source": [
    "%timeit loop_reg_sum(5, 100_000)"
   ]
  },
  {
   "cell_type": "code",
   "execution_count": 41,
   "id": "4e8d05a7",
   "metadata": {},
   "outputs": [],
   "source": [
    "# use vectorization \n",
    "def vec_reg_sum(col, row):\n",
    "    m = np.random.rand(1,col)\n",
    "    n = np.random.rand(row,col)    \n",
    "    result = np.dot(n, m.T)\n",
    "    "
   ]
  },
  {
   "cell_type": "code",
   "execution_count": 42,
   "id": "db5eeea4",
   "metadata": {},
   "outputs": [
    {
     "name": "stdout",
     "output_type": "stream",
     "text": [
      "6.45 ms ± 270 µs per loop (mean ± std. dev. of 7 runs, 100 loops each)\n"
     ]
    }
   ],
   "source": [
    "%timeit vec_reg_sum(5, 100_000)"
   ]
  },
  {
   "cell_type": "code",
   "execution_count": 43,
   "id": "98538221",
   "metadata": {},
   "outputs": [],
   "source": [
    "## the fastest way to loop in python\n",
    "## sum the numbers from 0 to n-1 in different ways"
   ]
  },
  {
   "cell_type": "code",
   "execution_count": 44,
   "id": "a55dad94",
   "metadata": {},
   "outputs": [],
   "source": [
    "# use while (this is slow)\n",
    "def while_loop(n = 1_000_000):\n",
    "    i = 0\n",
    "    s = 0\n",
    "    while i < n:    # python implementation\n",
    "        s += i\n",
    "        i +=  1 \n",
    "    return s\n"
   ]
  },
  {
   "cell_type": "code",
   "execution_count": 45,
   "id": "f1e56acc",
   "metadata": {},
   "outputs": [],
   "source": [
    "# use for (better than  while)\n",
    "def for_loop(n = 1_000_000):\n",
    "    s = 0\n",
    "    for i in range(n):     # c implementation\n",
    "        s += i\n",
    "        return s"
   ]
  },
  {
   "cell_type": "code",
   "execution_count": 46,
   "id": "28931c1c",
   "metadata": {},
   "outputs": [],
   "source": [
    "# add unimpacted python operation to simulate python operation \n",
    "def for_loop_with_increment(n=1_000_000):\n",
    "    s = 0\n",
    "    for i in range(n):   # i increments in range\n",
    "        s += i\n",
    "        i += 1    # redundant python operation \n",
    "    return s "
   ]
  },
  {
   "cell_type": "code",
   "execution_count": 47,
   "id": "800f3b3f",
   "metadata": {},
   "outputs": [],
   "source": [
    "# loop with test operation\n",
    "def for_loop_with_test(n=1_000_000):\n",
    "    s = 0\n",
    "    for i in range(n):\n",
    "        if i < n: pass   # redundant check, make it slow\n",
    "        s += i\n",
    "    return s"
   ]
  },
  {
   "cell_type": "code",
   "execution_count": 48,
   "id": "26b21298",
   "metadata": {},
   "outputs": [],
   "source": [
    "# with both redundant += and < operations\n",
    "def for_loop_with_increment_and_test(n=1_000_000):\n",
    "    s = 0\n",
    "    for i in range(n):\n",
    "        if i < n: pass    # make it slow\n",
    "        i += 1    # make it slow\n",
    "        s += i\n",
    "    return s"
   ]
  },
  {
   "cell_type": "code",
   "execution_count": 49,
   "id": "3b210d03",
   "metadata": {},
   "outputs": [],
   "source": [
    "# use built-in sum\n",
    "def sum_range(n=1_000_000):\n",
    "    return sum(range(n))"
   ]
  },
  {
   "cell_type": "code",
   "execution_count": 50,
   "id": "d49d5820",
   "metadata": {},
   "outputs": [],
   "source": [
    "# use numpy (implemented in c, faster)\n",
    "import numpy \n",
    "def sum_numpy(n=1_000_000):\n",
    "    return numpy.sum(numpy.arange(n))    # this is a one c call, but a whole array is created in memory\n"
   ]
  },
  {
   "cell_type": "code",
   "execution_count": 51,
   "id": "12bcc677",
   "metadata": {},
   "outputs": [],
   "source": [
    "# use math knowledge\n",
    "def sum_math(n=1_000_000):\n",
    "    return (n * (n-1)) // 2"
   ]
  },
  {
   "cell_type": "code",
   "execution_count": 52,
   "id": "45f3b6a9",
   "metadata": {},
   "outputs": [
    {
     "name": "stdout",
     "output_type": "stream",
     "text": [
      "while loop\t\t 0.1154504309999993\n",
      "for loop\t\t 3.713000069183181e-06\n",
      "for_loop_with_increment\t\t 0.11514549399998941\n",
      "for_loop_with_test\t\t 0.0975002409999206\n",
      "for_loop_with_increment_and_test\t\t 0.1432448260000001\n",
      "sum_range\t\t 0.022303372999999738\n",
      "sum_numpy\t\t 0.005475752999927863\n",
      "sum_math\t\t 2.3169999394667684e-06\n"
     ]
    }
   ],
   "source": [
    "import timeit\n",
    "\n",
    "print('while loop\\t\\t', timeit.timeit(while_loop, number = 1))\n",
    "print('for loop\\t\\t', timeit.timeit(for_loop, number = 1))\n",
    "print('for_loop_with_increment\\t\\t', timeit.timeit(for_loop_with_increment, number = 1))\n",
    "print('for_loop_with_test\\t\\t', timeit.timeit(for_loop_with_test, number = 1))\n",
    "print('for_loop_with_increment_and_test\\t\\t', timeit.timeit(for_loop_with_increment_and_test, number = 1))\n",
    "print('sum_range\\t\\t', timeit.timeit(sum_range, number = 1))\n",
    "print('sum_numpy\\t\\t', timeit.timeit(sum_numpy, number = 1))\n",
    "print('sum_math\\t\\t', timeit.timeit(sum_math, number = 1))\n",
    "\n",
    "# python programming consideration\n",
    "# use math formula\n",
    "# use c implementation\n",
    "# use built-in function, sum, map ... which loops for you\n",
    "# for or while loop\n",
    "\n"
   ]
  },
  {
   "cell_type": "code",
   "execution_count": 53,
   "id": "65f43303",
   "metadata": {},
   "outputs": [],
   "source": [
    "## memoization or cache to optimize\n",
    "# useful for recursive functions, or operations used over and over again\n",
    "# you don't want to repeat to calculate values again"
   ]
  },
  {
   "cell_type": "code",
   "execution_count": 54,
   "id": "8b3541c8",
   "metadata": {},
   "outputs": [],
   "source": [
    "# use cache dict\n",
    "from time import perf_counter\n",
    "from functools import wraps\n",
    "\n",
    "def memoize(func):\n",
    "    cache = {}\n",
    "    \n",
    "    @wraps(func)\n",
    "    def wrapper(*args, **kwargs):\n",
    "        key = str(args) + str(kwargs)\n",
    "        if key not in cache:\n",
    "            cache[key] = func(*args, **kwargs)\n",
    "        return cache[key]\n",
    "    return wrapper\n"
   ]
  },
  {
   "cell_type": "code",
   "execution_count": 55,
   "id": "c4f51318",
   "metadata": {
    "scrolled": true
   },
   "outputs": [],
   "source": [
    "# fibonacci using memoize \n",
    "def fibonacci_plain(n=100) -> int:\n",
    "    if n < 2:\n",
    "        return n\n",
    "    return fibonacci_plain(n-1) + fibonacci_plain(n-2)"
   ]
  },
  {
   "cell_type": "code",
   "execution_count": 56,
   "id": "96c46795",
   "metadata": {},
   "outputs": [
    {
     "ename": "KeyboardInterrupt",
     "evalue": "",
     "output_type": "error",
     "traceback": [
      "\u001b[0;31m---------------------------------------------------------------------------\u001b[0m",
      "\u001b[0;31mKeyboardInterrupt\u001b[0m                         Traceback (most recent call last)",
      "Cell \u001b[0;32mIn[56], line 3\u001b[0m\n\u001b[1;32m      1\u001b[0m \u001b[38;5;66;03m# no memoization call, very slow, \u001b[39;00m\n\u001b[1;32m      2\u001b[0m start \u001b[38;5;241m=\u001b[39m perf_counter()\n\u001b[0;32m----> 3\u001b[0m \u001b[43mfibonacci_plain\u001b[49m\u001b[43m(\u001b[49m\u001b[43m)\u001b[49m\n\u001b[1;32m      4\u001b[0m end \u001b[38;5;241m=\u001b[39m perf_counter()\n\u001b[1;32m      5\u001b[0m \u001b[38;5;28mprint\u001b[39m(end\u001b[38;5;241m-\u001b[39mstart)\n",
      "Cell \u001b[0;32mIn[55], line 5\u001b[0m, in \u001b[0;36mfibonacci_plain\u001b[0;34m(n)\u001b[0m\n\u001b[1;32m      3\u001b[0m \u001b[38;5;28;01mif\u001b[39;00m n \u001b[38;5;241m<\u001b[39m \u001b[38;5;241m2\u001b[39m:\n\u001b[1;32m      4\u001b[0m     \u001b[38;5;28;01mreturn\u001b[39;00m n\n\u001b[0;32m----> 5\u001b[0m \u001b[38;5;28;01mreturn\u001b[39;00m \u001b[43mfibonacci_plain\u001b[49m\u001b[43m(\u001b[49m\u001b[43mn\u001b[49m\u001b[38;5;241;43m-\u001b[39;49m\u001b[38;5;241;43m1\u001b[39;49m\u001b[43m)\u001b[49m \u001b[38;5;241m+\u001b[39m fibonacci_plain(n\u001b[38;5;241m-\u001b[39m\u001b[38;5;241m2\u001b[39m)\n",
      "Cell \u001b[0;32mIn[55], line 5\u001b[0m, in \u001b[0;36mfibonacci_plain\u001b[0;34m(n)\u001b[0m\n\u001b[1;32m      3\u001b[0m \u001b[38;5;28;01mif\u001b[39;00m n \u001b[38;5;241m<\u001b[39m \u001b[38;5;241m2\u001b[39m:\n\u001b[1;32m      4\u001b[0m     \u001b[38;5;28;01mreturn\u001b[39;00m n\n\u001b[0;32m----> 5\u001b[0m \u001b[38;5;28;01mreturn\u001b[39;00m \u001b[43mfibonacci_plain\u001b[49m\u001b[43m(\u001b[49m\u001b[43mn\u001b[49m\u001b[38;5;241;43m-\u001b[39;49m\u001b[38;5;241;43m1\u001b[39;49m\u001b[43m)\u001b[49m \u001b[38;5;241m+\u001b[39m fibonacci_plain(n\u001b[38;5;241m-\u001b[39m\u001b[38;5;241m2\u001b[39m)\n",
      "    \u001b[0;31m[... skipping similar frames: fibonacci_plain at line 5 (82 times)]\u001b[0m\n",
      "Cell \u001b[0;32mIn[55], line 5\u001b[0m, in \u001b[0;36mfibonacci_plain\u001b[0;34m(n)\u001b[0m\n\u001b[1;32m      3\u001b[0m \u001b[38;5;28;01mif\u001b[39;00m n \u001b[38;5;241m<\u001b[39m \u001b[38;5;241m2\u001b[39m:\n\u001b[1;32m      4\u001b[0m     \u001b[38;5;28;01mreturn\u001b[39;00m n\n\u001b[0;32m----> 5\u001b[0m \u001b[38;5;28;01mreturn\u001b[39;00m fibonacci_plain(n\u001b[38;5;241m-\u001b[39m\u001b[38;5;241m1\u001b[39m) \u001b[38;5;241m+\u001b[39m \u001b[43mfibonacci_plain\u001b[49m\u001b[43m(\u001b[49m\u001b[43mn\u001b[49m\u001b[38;5;241;43m-\u001b[39;49m\u001b[38;5;241;43m2\u001b[39;49m\u001b[43m)\u001b[49m\n",
      "\u001b[0;31mKeyboardInterrupt\u001b[0m: "
     ]
    }
   ],
   "source": [
    "# no memoization call, very slow, cpu humming, 20 mins still running, killed this cell\n",
    "start = perf_counter()\n",
    "fibonacci_plain()\n",
    "end = perf_counter()\n",
    "print(end-start)"
   ]
  },
  {
   "cell_type": "code",
   "execution_count": 57,
   "id": "96e569b6",
   "metadata": {},
   "outputs": [],
   "source": [
    "# fibonacci using memoize \n",
    "@memoize\n",
    "def fibonacci(n=1000) -> int:\n",
    "    if n < 2:\n",
    "        return n\n",
    "    return fibonacci(n-1) + fibonacci(n-2)"
   ]
  },
  {
   "cell_type": "code",
   "execution_count": 58,
   "id": "18a1d871",
   "metadata": {},
   "outputs": [
    {
     "name": "stdout",
     "output_type": "stream",
     "text": [
      "fibonacci with memorize\t\t 0.0036856550000265997\n"
     ]
    }
   ],
   "source": [
    "# get result instantly\n",
    "print('fibonacci with memorize\\t\\t', timeit.timeit(fibonacci, number = 1))"
   ]
  },
  {
   "cell_type": "code",
   "execution_count": 59,
   "id": "0d2720cc",
   "metadata": {},
   "outputs": [
    {
     "name": "stdout",
     "output_type": "stream",
     "text": [
      "7.581699992442736e-05\n"
     ]
    }
   ],
   "source": [
    "# use memoize fib function\n",
    "start = perf_counter()\n",
    "fibonacci(1000)\n",
    "end = perf_counter()\n",
    "print(end-start)"
   ]
  },
  {
   "cell_type": "code",
   "execution_count": 60,
   "id": "c3327e23",
   "metadata": {},
   "outputs": [
    {
     "name": "stdout",
     "output_type": "stream",
     "text": [
      "https://google.com\n",
      "https://yahoo.com\n",
      "https://microsoft.com\n",
      "https://google.com\n",
      "https://apple.com\n",
      "https://ibm.com\n",
      "https://amazon.com\n",
      "https://twitter.com\n",
      "https://tiktok.com\n",
      "https://oracle.com\n",
      "https://intel.com\n",
      "https://tesla.com\n",
      "https://nasa.com\n",
      "https://ebay.com\n",
      "https://wikipedia.com\n",
      "3071 732\n",
      "10.50 seconds\n"
     ]
    }
   ],
   "source": [
    "## httpx \n",
    "## asyncio\n",
    "import requests \n",
    "import re\n",
    "import time \n",
    "\n",
    "urls = {\n",
    "    \"1\": \"https://google.com\",\n",
    "    \"2\": \"https://yahoo.com\",\n",
    "    \"3\": \"https://microsoft.com\",\n",
    "    \"4\": \"https://google.com\",\n",
    "    \"5\": \"https://apple.com\",\n",
    "    \"6\": \"https://ibm.com\",\n",
    "    \"7\": \"https://amazon.com\",\n",
    "    \"8\": \"https://twitter.com\",\n",
    "    \"9\": \"https://tiktok.com\",\n",
    "    \"10\": \"https://oracle.com\",\n",
    "    \"11\": \"https://intel.com\",\n",
    "    \"12\": \"https://tesla.com\",\n",
    "    \"13\": \"https://nasa.com\",\n",
    "    \"14\": \"https://ebay.com\",\n",
    "    \"15\": \"https://wikipedia.com\"\n",
    "}\n",
    "\n",
    "\n",
    "def count_words_in_web_page():\n",
    "    outputs = []\n",
    "    for url in urls.values():\n",
    "        print(url)\n",
    "        outputs = outputs + [requests.get(url).text]    # get text, did not use append, synchronous call\n",
    "        #print(outputs)\n",
    "\n",
    "    count_https = []\n",
    "    count_http = []        \n",
    "    for output in outputs:\n",
    "        count_https += re.findall(\"https://\", output)    # text processing, not use pre-compiled re\n",
    "        count_http += re.findall(\"http://\", output)\n",
    "    \n",
    "    print(len(count_https), len(count_http))\n",
    "    \n",
    "# index = 0\n",
    "# while count_https[index]:\n",
    "#     if index >= len(count_https):\n",
    "#         break\n",
    "#     index +=  1\n",
    "\n",
    "start = time.perf_counter()\n",
    "count_words_in_web_page()  \n",
    "elapsed = time.perf_counter() - start\n",
    "print(f'{elapsed:.2f} seconds')\n"
   ]
  },
  {
   "cell_type": "code",
   "execution_count": 72,
   "id": "33deca95",
   "metadata": {},
   "outputs": [],
   "source": [
    "# while loop is slow \n",
    "a = [1,2,3]\n",
    "l = 0 \n",
    "while a:\n",
    "    if l >= len(a)-2:\n",
    "        break\n",
    "    a[l]\n",
    "    l+=1"
   ]
  },
  {
   "cell_type": "code",
   "execution_count": null,
   "id": "6ed902ee",
   "metadata": {
    "scrolled": false
   },
   "outputs": [],
   "source": [
    "# let's do some profiling\n",
    "import cProfile\n",
    "import pstats \n",
    "\n",
    "with cProfile.Profile() as pr:\n",
    "    count_words_in_web_page()\n",
    "    \n",
    "stats = pstats.Stats(pr)\n",
    "stats.sort_stats(pstats.SortKey.TIME)    # which call takes most of the time, tottime\n",
    "stats.print_stats()\n",
    "stats.dump_stats(filename='output.prof')"
   ]
  },
  {
   "cell_type": "code",
   "execution_count": null,
   "id": "0b751ecd",
   "metadata": {
    "scrolled": true
   },
   "outputs": [],
   "source": [
    "!pip install snakeviz"
   ]
  },
  {
   "cell_type": "code",
   "execution_count": 76,
   "id": "12441801",
   "metadata": {},
   "outputs": [
    {
     "name": "stdout",
     "output_type": "stream",
     "text": [
      "/Users/user/opt/anaconda3/bin/snakeviz\r\n"
     ]
    }
   ],
   "source": [
    "!which snakeviz"
   ]
  },
  {
   "cell_type": "code",
   "execution_count": 77,
   "id": "1ecd1812",
   "metadata": {
    "scrolled": true
   },
   "outputs": [
    {
     "name": "stdout",
     "output_type": "stream",
     "text": [
      "snakeviz web server started on 127.0.0.1:8080; enter Ctrl-C to exit\n",
      "http://127.0.0.1:8080/snakeviz/%2FUsers%2Fuser%2FDocuments%2Frepo%2Fpyclopedia%2Fperformance_tricks%2Foutput.prof\n",
      "^C\n",
      "\n",
      "Bye!\n"
     ]
    }
   ],
   "source": [
    "!snakeviz ./output.prof"
   ]
  },
  {
   "cell_type": "code",
   "execution_count": 78,
   "id": "e274d3e8",
   "metadata": {},
   "outputs": [
    {
     "name": "stdout",
     "output_type": "stream",
     "text": [
      "1.03 seconds\n"
     ]
    }
   ],
   "source": [
    "## a improved version \n",
    "## using httpx and asyncio\n",
    "\n",
    "# import requests \n",
    "import re\n",
    "import time \n",
    "\n",
    "import httpx  # drop-in replacement for request, including asynchronous calls\n",
    "import asyncio \n",
    "\n",
    "\n",
    "urls = {\n",
    "    \"1\": \"https://google.com\",\n",
    "    \"2\": \"https://yahoo.com\",\n",
    "    \"3\": \"https://microsoft.com\",\n",
    "    \"4\": \"https://google.com\",\n",
    "    \"5\": \"https://apple.com\",\n",
    "    \"6\": \"https://ibm.com\",\n",
    "    \"7\": \"https://amazon.com\",\n",
    "    \"8\": \"https://twitter.com\",\n",
    "    \"9\": \"https://tiktok.com\",\n",
    "    \"10\": \"https://oracle.com\",\n",
    "    \"11\": \"https://intel.com\",\n",
    "    \"12\": \"https://tesla.com\",\n",
    "    \"13\": \"https://nasa.com\",\n",
    "    \"14\": \"https://ebay.com\",\n",
    "    \"15\": \"https://wikipedia.com\"\n",
    "}\n",
    "\n",
    "# mark as async\n",
    "async def count_words_in_web_page_async():\n",
    "    outputs = []\n",
    "    \n",
    "    async with httpx.AsyncClient() as client:\n",
    "        tasks = (client.get(url) for url in urls.values())\n",
    "        reqs = await asyncio.gather(*tasks)    # waits for task, but await till all donee\n",
    "        \n",
    "        outputs = [req.text for req in reqs]\n",
    "        #print(outputs)\n",
    "        \n",
    "    count_https, count_http =[], []\n",
    "    for output in outputs:\n",
    "        count_https += re.findall(\"https://\", output)    # text processing, not use pre-compiled re\n",
    "        count_http += re.findall(\"http://\", output)\n",
    "#     print(count_https)\n",
    "#     print(count_http)\n",
    "\n",
    "\n",
    "start = time.perf_counter()\n",
    "await (count_words_in_web_page_async())   # schedule func to run\n",
    "# asyncio.run(count_words_in_web_page_async())   # for python>3.7 and ipython < 7.0\n",
    "elapsed = time.perf_counter() - start\n",
    "print(f'{elapsed:.2f} seconds')\n",
    "\n"
   ]
  },
  {
   "cell_type": "code",
   "execution_count": null,
   "id": "07ede79a",
   "metadata": {},
   "outputs": [],
   "source": [
    "# let's do some profiling\n",
    "import cProfile\n",
    "import pstats \n",
    "\n",
    "with cProfile.Profile() as pr:\n",
    "    await count_words_in_web_page_async()\n",
    "    \n",
    "stats = pstats.Stats(pr)\n",
    "stats.sort_stats(pstats.SortKey.TIME)    # which call takes most of the time, tottime\n",
    "stats.print_stats()\n",
    "stats.dump_stats(filename='output_async.prof')"
   ]
  },
  {
   "cell_type": "code",
   "execution_count": 80,
   "id": "fdebc00d",
   "metadata": {
    "scrolled": true
   },
   "outputs": [
    {
     "name": "stdout",
     "output_type": "stream",
     "text": [
      "snakeviz web server started on 127.0.0.1:8080; enter Ctrl-C to exit\n",
      "http://127.0.0.1:8080/snakeviz/%2FUsers%2Fuser%2FDocuments%2Frepo%2Fpyclopedia%2Fperformance_tricks%2Foutput_async.prof\n",
      "^C\n",
      "\n",
      "Bye!\n"
     ]
    }
   ],
   "source": [
    "# start a web page \n",
    "!snakeviz ./output_async.prof"
   ]
  },
  {
   "cell_type": "code",
   "execution_count": 81,
   "id": "76568c38",
   "metadata": {},
   "outputs": [],
   "source": [
    "## HTTP requests with async and await"
   ]
  },
  {
   "cell_type": "code",
   "execution_count": null,
   "id": "a1d46e48",
   "metadata": {},
   "outputs": [],
   "source": [
    "# conda install -c conda-forge unicorn\n",
    "# somehow not working, keep it as reference\n",
    "'''\n",
    "pip install \"fastapi[all]\"\n",
    "pip install \"unicorn[standard]\"\n",
    "\n",
    "from fastapi import FastAPI\n",
    "import string \n",
    "import random \n",
    "\n",
    "app = FastAPI()\n",
    "\n",
    "@app.get('/')\n",
    "async def index():\n",
    "    num = ''.join(random.choices(string.ascii_lowercase, k=5))\n",
    "    return {'data': num}\n",
    "\n",
    "@app.get('/items/{item_id}')\n",
    "async def read(item_id: int):\n",
    "    return {'item_id': item_id}\n",
    "'''"
   ]
  },
  {
   "cell_type": "code",
   "execution_count": null,
   "id": "3fd292c8",
   "metadata": {
    "scrolled": true
   },
   "outputs": [],
   "source": [
    "## copy / paste below to run a web sever \n",
    "## python main.py \n",
    "## vim main.py\n",
    "## !curl http://127.0.0.1:5000/item\n",
    "\n",
    "'''\n",
    "(base) user-2:performance_tricks user$ cat main.py \n",
    "import random \n",
    "import string\n",
    "\n",
    "from flask import Flask, json, request\n",
    "\n",
    "api = Flask(__name__)\n",
    "\n",
    "@api.route('/item')\n",
    "def get_items():\n",
    "    name = request.args.get('num')\n",
    "    print(name)\n",
    "    num = ''.join(random.choices(string.ascii_lowercase, k=5))\n",
    "    return {'data': num, 'num': name}\n",
    "\n",
    "if __name__ == '__main__':\n",
    "    api.run(debug=True)\n",
    "(base) user-2:performance_tricks user$ python main.py \n",
    "\n",
    "'''\n",
    "    "
   ]
  },
  {
   "cell_type": "code",
   "execution_count": null,
   "id": "f450902d",
   "metadata": {},
   "outputs": [],
   "source": [
    "# 1, basic http requests\n",
    "def simple_request(nums):\n",
    "    for num in nums:\n",
    "        r = requests.get(f'http://127.0.0.1:5000/item?num={num}')\n",
    "        #print(r.json())\n",
    "        \n",
    "start = perf_counter()\n",
    "simple_request(range(1, 10000))\n",
    "stop = perf_counter()\n",
    "print(\"time taken:\", stop-start)"
   ]
  },
  {
   "cell_type": "code",
   "execution_count": null,
   "id": "eef33a98",
   "metadata": {},
   "outputs": [],
   "source": [
    "#1a, use concurrent.future.ThreadPoolExecutor\n",
    "\n",
    "import concurrent.futures\n",
    "\n",
    "start = perf_counter()\n",
    "def async_request(num):\n",
    "#     r = requests.get(f'http://127.0.0.1:60000/item')\n",
    "    r = requests.get(f'http://127.0.0.1:5000/item?num={num}')\n",
    "\n",
    "#     print(r.json())\n",
    "\n",
    "nums = range(1, 10000)\n",
    "with concurrent.futures.ThreadPoolExecutor() as executor:\n",
    "    executor.map(async_request, nums)\n",
    "stop = perf_counter()\n",
    "print(\"time taken:\", stop - start)"
   ]
  },
  {
   "cell_type": "code",
   "execution_count": null,
   "id": "3728c222",
   "metadata": {},
   "outputs": [],
   "source": [
    "## make async http server\n",
    "## use fastapi and httpx\n",
    "\n",
    "'''\n",
    "pip install fastapi  \n",
    "pip install uvicorn\n",
    "\n",
    "\n",
    "(base) user-2:performance_tricks user$ cat main-httpx.py \n",
    "from typing import Union\n",
    "import random, string\n",
    "\n",
    "from fastapi import FastAPI\n",
    "\n",
    "app = FastAPI()\n",
    "\n",
    "\n",
    "@app.get(\"/\")\n",
    "async def read_root():\n",
    "    return {\"Hello\": \"World\"}\n",
    "\n",
    "\n",
    "@app.get(\"/items/{item_id}\")\n",
    "async def read_item(item_id: int, q: Union[str, None] = None):\n",
    "    #return {\"item_id\": item_id, \"q\": q}\n",
    "    print(item_id)\n",
    "    num = ''.join(random.choices(string.ascii_lowercase, k=5))\n",
    "    return {'data': num, 'num': item_id}\n",
    "(base) user-2:performance_tricks user$ uvicorn main-httpx:app --reload --port 60000\n",
    "\n",
    "'''"
   ]
  },
  {
   "cell_type": "code",
   "execution_count": null,
   "id": "1ace88e6",
   "metadata": {},
   "outputs": [],
   "source": [
    "# 2, use concurrent.future.ThreadPoolExecutor\n",
    "\n",
    "import concurrent.futures\n",
    "\n",
    "start = perf_counter()\n",
    "def async_request(num):\n",
    "    r = requests.get(f'http://127.0.0.1:60000/items/{num}')\n",
    "    #print(r.json())\n",
    "\n",
    "nums = range(1, 10000)\n",
    "with concurrent.futures.ThreadPoolExecutor() as executor:\n",
    "    executor.map(async_request, nums)\n",
    "stop = perf_counter()\n",
    "print(\"time taken:\", stop - start)"
   ]
  },
  {
   "cell_type": "code",
   "execution_count": null,
   "id": "8725025a",
   "metadata": {
    "scrolled": true
   },
   "outputs": [],
   "source": [
    "!pip install aiohttp"
   ]
  },
  {
   "cell_type": "code",
   "execution_count": null,
   "id": "7b08ced6",
   "metadata": {
    "scrolled": false
   },
   "outputs": [],
   "source": [
    "# 3, use asyncio, \n",
    "# run this program on terminal if jupyter notebook not work\n",
    "\n",
    "\"\"\"\n",
    "(base) user-2:performance_tricks user$ cat asyncio-server.py asyncio-client.py \n",
    "from typing import Union\n",
    "import random, string\n",
    "\n",
    "from fastapi import FastAPI\n",
    "\n",
    "app = FastAPI()\n",
    "\n",
    "\n",
    "@app.get(\"/\")\n",
    "async def read_root():\n",
    "    return {\"Hello\": \"World\"}\n",
    "\n",
    "\n",
    "@app.get(\"/items/{item_id}\")\n",
    "#def read_item(item_id: int, q: Union[str, None] = None):\n",
    "async def read_item(item_id: int, q: Union[str, None] = None):\n",
    "    #return {\"item_id\": item_id, \"q\": q}\n",
    "    #print(item_id)\n",
    "    num = ''.join(random.choices(string.ascii_lowercase, k=5))\n",
    "    return {'data': num, 'num': item_id}\n",
    "from time import perf_counter\n",
    "import asyncio\n",
    "import aiohttp\n",
    "\n",
    "async def fetch(s,  url):\n",
    "    async with s.get(f'http://127.0.0.1:60000/items/{url}') as r:\n",
    "        if r.status != 200:\n",
    "            r.raise_for_status()\n",
    "        return await r.text()\n",
    "\n",
    "\n",
    "async def fetch_all(s, urls):\n",
    "    tasks = []\n",
    "    for url in urls:\n",
    "        task = asyncio.create_task(fetch(s, url))\n",
    "        tasks.append(task)\n",
    "\n",
    "    res = await asyncio.gather(*tasks)\n",
    "    return res \n",
    "\n",
    "\n",
    "async def main():\n",
    "    urls = range(1, 10000)\n",
    "    async with aiohttp.ClientSession() as session:\n",
    "        htmls = await fetch_all(session, urls)\n",
    "       #         print(htmls)\n",
    "\n",
    "if __name__ == '__main__':\n",
    "    start = perf_counter()\n",
    "    asyncio.run(main())\n",
    "    stop = perf_counter()\n",
    "    print('time taken:', stop - start)\n",
    "\n",
    "(base) user-2:performance_tricks user$ \n",
    "\n",
    "\n",
    "(base) user-2:performance_tricks user$ uvicorn asyncio-server:app --reload --port 60000\n",
    "INFO:     Will watch for changes in these directories: ['/Users/user/Documents/repo/pyclopedia/performance_tricks']\n",
    "INFO:     Uvicorn running on http://127.0.0.1:60000 (Press CTRL+C to quit)\n",
    "INFO:     Started reloader process [58792] using WatchFiles\n",
    "INFO:     Started server process [58794]\n",
    "INFO:     Waiting for application startup.\n",
    "INFO:     Application startup complete.\n",
    "\n",
    "\n",
    "(base) user-2:performance_tricks user$ python asyncio-client.py \n",
    "time taken: 5.840775378\n",
    "(base) user-2:performance_tricks user$ \n",
    "\n",
    "\n",
    "\n",
    "(base) user-2:performance_tricks user$ python asyncio-client.py \n",
    "time taken: 5.799928292000001\n",
    "\n",
    "\n",
    "\"\"\""
   ]
  },
  {
   "cell_type": "code",
   "execution_count": null,
   "id": "5037058d",
   "metadata": {},
   "outputs": [],
   "source": [
    "## use aiohttp server and client \n",
    "''' \n",
    "\n",
    "(base) user-2:performance_tricks user$ cat aiohttp-server.py  aiohttp-client.py \n",
    "from aiohttp import web\n",
    "import random \n",
    "import string \n",
    "\n",
    "async def handle(request):\n",
    "    name = request.match_info.get('name', \"Anonymous\")\n",
    "    text = \"Hello, \" + name\n",
    "    return web.Response(text=text)\n",
    "\n",
    "\n",
    "#@app.get(\"/items/{item_id}\")\n",
    "#def read_item(item_id: int, q: Union[str, None] = None):\n",
    "async def read_item(request):\n",
    "    #return {\"item_id\": item_id, \"q\": q}\n",
    "    #print(item_id)\n",
    "    num = ''.join(random.choices(string.ascii_lowercase, k=5))\n",
    "    return {'data': num, 'num': num}\n",
    "\n",
    "app = web.Application()\n",
    "app.add_routes([web.get('/', handle),\n",
    "                web.get('/item', read_item),\n",
    "                web.get('/{name}', handle)])\n",
    "\n",
    "\n",
    "if __name__ == '__main__':\n",
    "    web.run_app(app)\n",
    "import aiohttp\n",
    "import asyncio\n",
    "\n",
    "\n",
    "from time import perf_counter\n",
    "import asyncio\n",
    "import aiohttp\n",
    "\n",
    "async def fetch(s,  url):\n",
    "    async with s.get(f'http://127.0.0.1:8080/') as r:\n",
    "        if r.status != 200:\n",
    "            r.raise_for_status()\n",
    "        return await r.text()\n",
    "\n",
    "\n",
    "async def fetch_all(s, urls):\n",
    "    tasks = []\n",
    "    for url in urls:\n",
    "        task = asyncio.create_task(fetch(s, url))\n",
    "        tasks.append(task)\n",
    "\n",
    "    res = await asyncio.gather(*tasks)\n",
    "    return res\n",
    "\n",
    "'''\n",
    "async def main():\n",
    "\n",
    "    async with aiohttp.ClientSession() as session:\n",
    "        async with session.get('http://127.0.0.1:8080/') as response:\n",
    "\n",
    "            print(\"Status:\", response.status)\n",
    "            print(\"Content-type:\", response.headers['content-type'])\n",
    "\n",
    "            html = await response.text()\n",
    "            print(\"Body:\", html[:15], \"...\")\n",
    "'''\n",
    "\n",
    "async def main():\n",
    "    urls = range(1, 10000)\n",
    "    async with aiohttp.ClientSession() as session:\n",
    "        htmls = await fetch_all(session, urls)\n",
    "       #         print(htmls)\n",
    "\n",
    "\n",
    "start = perf_counter()\n",
    "loop = asyncio.get_event_loop()\n",
    "loop.run_until_complete(main())\n",
    "stop = perf_counter()\n",
    "print('time taken:', stop - start)\n",
    "\n",
    "\n",
    "\n",
    "(base) user-2:performance_tricks user$ python aiohttp-server.py \n",
    "======== Running on http://0.0.0.0:8080 ========\n",
    "(Press CTRL+C to quit)\n",
    "\n",
    "\n",
    "(base) user-2:performance_tricks user$ python aiohttp-client.py \n",
    "time taken: 4.371056760999999\n",
    "    \n",
    "    \n",
    "'''    "
   ]
  },
  {
   "cell_type": "code",
   "execution_count": 86,
   "id": "f84d02b9",
   "metadata": {},
   "outputs": [
    {
     "data": {
      "text/plain": [
       "['A', 'B', 'C']"
      ]
     },
     "execution_count": 86,
     "metadata": {},
     "output_type": "execute_result"
    }
   ],
   "source": [
    "# use built-in function to speed up code\n",
    "# slow way\n",
    "words = ['a', 'b', 'c']\n",
    "mylist = []\n",
    "\n",
    "for word in words:\n",
    "    mylist.append(word.upper())\n",
    "\n",
    "mylist"
   ]
  },
  {
   "cell_type": "code",
   "execution_count": 87,
   "id": "bfbd6456",
   "metadata": {},
   "outputs": [
    {
     "data": {
      "text/plain": [
       "['A', 'B', 'C']"
      ]
     },
     "execution_count": 87,
     "metadata": {},
     "output_type": "execute_result"
    }
   ],
   "source": [
    "# same as above, better way, \n",
    "# map(func, *iterables) -> map\n",
    "# Return an iterator that applies a function to every item of iterable, yielding the results.\n",
    "# Make an iterator that computes the function using arguments obtained from the iterable. \n",
    "mylist = map(str.upper, words)\n",
    "list(mylist)"
   ]
  },
  {
   "cell_type": "code",
   "execution_count": 88,
   "id": "4d1fbad4",
   "metadata": {},
   "outputs": [
    {
     "name": "stdout",
     "output_type": "stream",
     "text": [
      "[2, 12, 30]\n"
     ]
    }
   ],
   "source": [
    "# starmap\n",
    "# Used instead of map() when argument parameters are already grouped in tuples from a single iterable (the data has been “pre-zipped”). \n",
    "from itertools import starmap\n",
    "nums = [(1,2), (3,4), (5,6)]\n",
    "\n",
    "def multiply(x, y):\n",
    "    return x * y \n",
    "\n",
    "m = starmap(multiply, nums)\n",
    "print(list(m))"
   ]
  },
  {
   "cell_type": "code",
   "execution_count": 89,
   "id": "d355f489",
   "metadata": {},
   "outputs": [
    {
     "name": "stdout",
     "output_type": "stream",
     "text": [
      "[3, 7, 11]\n"
     ]
    }
   ],
   "source": [
    "# starmap with lambda\n",
    "from itertools import starmap\n",
    "\n",
    "arr = [(1,2), (3,4), (5,6)]\n",
    "res = starmap(lambda x, y: x+y, arr)\n",
    "print(list(res))"
   ]
  },
  {
   "cell_type": "code",
   "execution_count": null,
   "id": "49a1cacf",
   "metadata": {},
   "outputs": [],
   "source": [
    "# string concatenation, \n",
    "# don't use \"+\" creates a new string, then copy the  old string\n",
    "# join() is faster than \"+\", \n",
    "#''.join(\"abc\")"
   ]
  },
  {
   "cell_type": "code",
   "execution_count": 92,
   "id": "87fafdbc",
   "metadata": {},
   "outputs": [
    {
     "name": "stdout",
     "output_type": "stream",
     "text": [
      "27.35930863199974\n"
     ]
    }
   ],
   "source": [
    "import time \n",
    "start = time.perf_counter()\n",
    "a = ''\n",
    "for i in range(100_000_000):\n",
    "    a.join('a')\n",
    "end = time.perf_counter()\n",
    "print(end-start)"
   ]
  },
  {
   "cell_type": "code",
   "execution_count": 93,
   "id": "3a8279cc",
   "metadata": {},
   "outputs": [
    {
     "name": "stdout",
     "output_type": "stream",
     "text": [
      "28.80989407099969\n"
     ]
    }
   ],
   "source": [
    "start = time.perf_counter()\n",
    "a = ''\n",
    "for i in range(100_000_000):\n",
    "    a += 'a'\n",
    "end = time.perf_counter()\n",
    "print(end-start)    "
   ]
  },
  {
   "cell_type": "code",
   "execution_count": 94,
   "id": "3c5b1ead",
   "metadata": {},
   "outputs": [
    {
     "name": "stdout",
     "output_type": "stream",
     "text": [
      "3 4 5 [3, 4, 5]\n"
     ]
    }
   ],
   "source": [
    "# write a function to find the intersection of 2 unsorted  arrays\n",
    "# https://www.youtube.com/watch?v=Bl47ETLB_8Y\n",
    "# Python programmer vs C programmer (speedrun)\n",
    "# use set functions \n",
    "a = [1,2,3,4,5]\n",
    "b = [5,4,3,6,8]\n",
    "c = list(set(a) & set(b))\n",
    "print(*c, c)\n",
    "\n",
    "\n"
   ]
  },
  {
   "cell_type": "code",
   "execution_count": 95,
   "id": "bf9b0ed3",
   "metadata": {},
   "outputs": [],
   "source": [
    "def intersect(a, b):\n",
    "    return  set(a) & set(b)"
   ]
  },
  {
   "cell_type": "code",
   "execution_count": 96,
   "id": "a214f74b",
   "metadata": {},
   "outputs": [
    {
     "name": "stdout",
     "output_type": "stream",
     "text": [
      "The intersection is: {3, 5}\n",
      "The intersection is: [3, 5]\n"
     ]
    }
   ],
   "source": [
    "def inter(a,b):\n",
    "    return set(a) & set(b)\n",
    "\n",
    "# Does not remove duplicates (you could create a remove duplicate function)  \n",
    "def interNaive(a,b):\n",
    "    result = []\n",
    "    for i in a:\n",
    "        for j in b:\n",
    "            if (i == j):\n",
    "                result.append(i)\n",
    "    return result\n",
    "    \n",
    "a = [ 8, 3, 1, 5]\n",
    "b = [ 5, 3, 4, 6, 9]\n",
    "print(f\"The intersection is: {inter(a,b)}\")\n",
    "print(f\"The intersection is: {interNaive(a,b)}\")"
   ]
  },
  {
   "cell_type": "code",
   "execution_count": 97,
   "id": "b7e5ba80",
   "metadata": {},
   "outputs": [
    {
     "name": "stdout",
     "output_type": "stream",
     "text": [
      "Account(account_id=100, account_name='Alice', notes=[])\n",
      "[('__delattr__',\n",
      "  <function __create_fn__.<locals>.__delattr__ at 0x7ff6092baa60>),\n",
      " ('__eq__', <function __create_fn__.<locals>.__eq__ at 0x7ff5e92e3dc0>),\n",
      " ('__ge__', <function __create_fn__.<locals>.__ge__ at 0x7ff6092ba820>),\n",
      " ('__gt__', <function __create_fn__.<locals>.__gt__ at 0x7ff6092bae50>),\n",
      " ('__hash__', <function __create_fn__.<locals>.__hash__ at 0x7ff6092bab80>),\n",
      " ('__init__', <function __create_fn__.<locals>.__init__ at 0x7ff5e92e3280>),\n",
      " ('__le__', <function __create_fn__.<locals>.__le__ at 0x7ff6092ba3a0>),\n",
      " ('__lt__', <function __create_fn__.<locals>.__lt__ at 0x7ff6092ba790>),\n",
      " ('__repr__', <function __create_fn__.<locals>.__repr__ at 0x7ff5e92e34c0>),\n",
      " ('__setattr__',\n",
      "  <function __create_fn__.<locals>.__setattr__ at 0x7ff6092bac10>)]\n"
     ]
    }
   ],
   "source": [
    "## use dataclass to save coding time and maintenance\n",
    "# frozen is immutable set for hashing, good for using key and dictionaries\n",
    "# order like totalordering\n",
    "\n",
    "import inspect \n",
    "from dataclasses import dataclass, field\n",
    "from pprint import pprint\n",
    "from typing import List\n",
    "\n",
    "# automatically includes mamy base methods\n",
    "@dataclass(frozen=True, order=True) \n",
    "class Account:\n",
    "    account_id: int\n",
    "    account_name: str = \"\"\n",
    "    notes: List[str] = field(default_factory=list)   # to have class values\n",
    "        \n",
    "a = Account(100, 'Alice')\n",
    "print(a)\n",
    "# check with functions are implemented in the class\n",
    "pprint(inspect.getmembers(Account, inspect.isfunction))"
   ]
  },
  {
   "cell_type": "code",
   "execution_count": 98,
   "id": "870935b0",
   "metadata": {},
   "outputs": [],
   "source": [
    "# don't boiler code youself from scratch like below, it has high coding and maintenance cost\n",
    "\n",
    "class BasicAccount:\n",
    "    # init \n",
    "    def __init__(self, account_id: int, account_name:  str):\n",
    "        self.__account_id: int = account_id\n",
    "        self.__account_name = account_name\n",
    "        \n",
    "\n",
    "    @property\n",
    "    def account_id(self):\n",
    "        return self.__account_id\n",
    "    \n",
    "    @property\n",
    "    def account_name(self):\n",
    "        return self.__account_name\n",
    "    # print out values \n",
    "    def __repr__(self):\n",
    "        return f\"{self.__class__.__name__}, {self.__account_id=}, {self.__account_name=}\"\n",
    "    \n",
    "    # for comparision \n",
    "    def __eq__(self, other):\n",
    "        if other.__class__ is self.__class__:\n",
    "            return (self.__account_id, self.__account_name) == (other.__account_id, other.__account_name)\n",
    "        else:\n",
    "            return NotImplemented\n",
    "        \n",
    "    # make this class nice to have it\n",
    "    def __ne__(self, other):\n",
    "        result = self.__eq__(other)\n",
    "        if result is NotImplemented:\n",
    "            return  NotImplemented\n",
    "        else:\n",
    "            return not result \n",
    "        \n",
    "    # need hash if we want to put this into dictionary\n",
    "    # to make class hashable, we should maek it immutable\n",
    "    def __hash__(self):\n",
    "        return hash((self.__class__, self.__account_id, self.__account_name))\n",
    "    \n",
    "    # to sort the class, we need le, gt, ge methods below\n",
    "    def __le__(self, other):\n",
    "        if other.__class__ is self.__class__:\n",
    "            return (self.account_id, self.account_name) <= (other.account_id, other, self.account_name)\n",
    "        else:\n",
    "            return NotImplemented\n",
    "        \n",
    "    def __gt__(self, other):\n",
    "        if other.__class__ is self.__class__:\n",
    "            return (self.account_id, self.account_name) > (other.account_id, other, self.account_name)\n",
    "        else:\n",
    "            return NotImplemented\n",
    "\n",
    "    def __ge__(self, other):\n",
    "        if other.__class__ is self.__class__:\n",
    "            return (self.account_id, self.account_name) >= (other.account_id, other, self.account_name)\n",
    "        else:\n",
    "            return NotImplemented\n",
    "\n",
    "        "
   ]
  },
  {
   "cell_type": "code",
   "execution_count": 99,
   "id": "4104843f",
   "metadata": {},
   "outputs": [
    {
     "name": "stdout",
     "output_type": "stream",
     "text": [
      "BasicAccount, self.__account_id=10, self.__account_name='Bob'\n"
     ]
    }
   ],
   "source": [
    "acct = BasicAccount(10, 'Bob')\n",
    "print(acct)\n"
   ]
  },
  {
   "cell_type": "code",
   "execution_count": null,
   "id": "715eeda2",
   "metadata": {},
   "outputs": [],
   "source": []
  }
 ],
 "metadata": {
  "kernelspec": {
   "display_name": "Python 3 (ipykernel)",
   "language": "python",
   "name": "python3"
  },
  "language_info": {
   "codemirror_mode": {
    "name": "ipython",
    "version": 3
   },
   "file_extension": ".py",
   "mimetype": "text/x-python",
   "name": "python",
   "nbconvert_exporter": "python",
   "pygments_lexer": "ipython3",
   "version": "3.9.7"
  }
 },
 "nbformat": 4,
 "nbformat_minor": 5
}
