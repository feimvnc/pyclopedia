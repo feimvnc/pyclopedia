{
 "cells": [
  {
   "cell_type": "markdown",
   "id": "3228be45",
   "metadata": {},
   "source": [
    "#### Some tips and ideas to make python code run faster\n",
    "\n",
    "Use built-in functions and libraries, they are tested and optimzied  \n",
    "min, max, all, map\n",
    "math.factorial, math.comb, math.fsum\n",
    "\n",
    "\n"
   ]
  },
  {
   "cell_type": "markdown",
   "id": "fa4c6805",
   "metadata": {},
   "source": [
    "https://medium.com/codex/say-goodbye-to-loops-in-python-and-welcome-vectorization-e4df66615a52   \n",
    "https://www.kdnuggets.com/2021/06/make-python-code-run-incredibly-fast.html   \n",
    "https://yanick-andrade.medium.com/enhancing-performance-in-python-a29bd06b7ad0  "
   ]
  },
  {
   "cell_type": "code",
   "execution_count": 12,
   "id": "30f4ffe1",
   "metadata": {},
   "outputs": [],
   "source": [
    "# Use built-in functions and libraries, they are tested and optimzied\n",
    "import string \n",
    "def upper_basic(n):\n",
    "    newList = []\n",
    "    for w in string.ascii_lowercase*n:\n",
    "        newList.append(w.upper())        "
   ]
  },
  {
   "cell_type": "code",
   "execution_count": 13,
   "id": "1042d216",
   "metadata": {},
   "outputs": [
    {
     "name": "stdout",
     "output_type": "stream",
     "text": [
      "2.94 ms ± 15.7 µs per loop (mean ± std. dev. of 7 runs, 100 loops each)\n"
     ]
    }
   ],
   "source": [
    "%timeit upper_basic(1000)"
   ]
  },
  {
   "cell_type": "code",
   "execution_count": 14,
   "id": "f1e2e233",
   "metadata": {},
   "outputs": [],
   "source": [
    "def upper_o2(n):\n",
    "    newList = map(str.upper, string.ascii_lowercase*n)"
   ]
  },
  {
   "cell_type": "code",
   "execution_count": 15,
   "id": "4974a349",
   "metadata": {},
   "outputs": [
    {
     "name": "stdout",
     "output_type": "stream",
     "text": [
      "1.21 µs ± 9.47 ns per loop (mean ± std. dev. of 7 runs, 1,000,000 loops each)\n"
     ]
    }
   ],
   "source": [
    "%timeit upper_o2(1000)"
   ]
  },
  {
   "cell_type": "code",
   "execution_count": 16,
   "id": "23b92ece",
   "metadata": {},
   "outputs": [],
   "source": [
    "# performance difference: 2.95 ms vs 1.21 us"
   ]
  },
  {
   "cell_type": "markdown",
   "id": "f7e00ed6",
   "metadata": {},
   "source": [
    "#### prefer comprehension list over loop"
   ]
  },
  {
   "cell_type": "code",
   "execution_count": 31,
   "id": "2710d67c",
   "metadata": {},
   "outputs": [],
   "source": [
    "def list_loop(n):\n",
    "    new_list = []\n",
    "    for i in range(1, n):\n",
    "        if i % 2 == 0:\n",
    "            new_list.append(i**2)\n",
    "            "
   ]
  },
  {
   "cell_type": "code",
   "execution_count": 32,
   "id": "c1e03db4",
   "metadata": {},
   "outputs": [
    {
     "name": "stdout",
     "output_type": "stream",
     "text": [
      "202 µs ± 711 ns per loop (mean ± std. dev. of 7 runs, 1,000 loops each)\n"
     ]
    }
   ],
   "source": [
    "%timeit list_loop(1001)"
   ]
  },
  {
   "cell_type": "code",
   "execution_count": 33,
   "id": "0bf1ea28",
   "metadata": {},
   "outputs": [],
   "source": [
    "def list_comp(n):\n",
    "    new_list = [i**2 for i in range(1, n) if i%2 == 0]\n",
    "    "
   ]
  },
  {
   "cell_type": "code",
   "execution_count": 34,
   "id": "ea69c1d3",
   "metadata": {},
   "outputs": [
    {
     "name": "stdout",
     "output_type": "stream",
     "text": [
      "187 µs ± 1.81 µs per loop (mean ± std. dev. of 7 runs, 10,000 loops each)\n"
     ]
    }
   ],
   "source": [
    "%timeit list_comp(1001)"
   ]
  },
  {
   "cell_type": "markdown",
   "id": "85910e5d",
   "metadata": {},
   "source": [
    "#### use prop import"
   ]
  },
  {
   "cell_type": "code",
   "execution_count": 43,
   "id": "330b51a4",
   "metadata": {},
   "outputs": [],
   "source": [
    "import math \n",
    "def import_module(n):\n",
    "    for i in range(n):\n",
    "        value = math.sqrt(n)"
   ]
  },
  {
   "cell_type": "code",
   "execution_count": 44,
   "id": "5600bd43",
   "metadata": {},
   "outputs": [
    {
     "name": "stdout",
     "output_type": "stream",
     "text": [
      "121 µs ± 3.04 µs per loop (mean ± std. dev. of 7 runs, 10,000 loops each)\n"
     ]
    }
   ],
   "source": [
    "%timeit import_module(1001)"
   ]
  },
  {
   "cell_type": "code",
   "execution_count": 45,
   "id": "a2d42df7",
   "metadata": {},
   "outputs": [],
   "source": [
    "del math"
   ]
  },
  {
   "cell_type": "code",
   "execution_count": 46,
   "id": "f661fd13",
   "metadata": {},
   "outputs": [],
   "source": [
    "from math import sqrt \n",
    "def import_module_name(n):\n",
    "    for i in range(n):\n",
    "        value = sqrt(n)"
   ]
  },
  {
   "cell_type": "code",
   "execution_count": 47,
   "id": "4ca4219a",
   "metadata": {},
   "outputs": [
    {
     "name": "stdout",
     "output_type": "stream",
     "text": [
      "86.2 µs ± 1.14 µs per loop (mean ± std. dev. of 7 runs, 10,000 loops each)\n"
     ]
    }
   ],
   "source": [
    "%timeit import_module_name(1001)"
   ]
  },
  {
   "cell_type": "code",
   "execution_count": null,
   "id": "53e8e591",
   "metadata": {},
   "outputs": [],
   "source": [
    "# preformance difference: 121 us vs 86 us"
   ]
  },
  {
   "cell_type": "markdown",
   "id": "8a7f6eb8",
   "metadata": {},
   "source": [
    "#### string concateation\n",
    "+= operator creates new string\n",
    "\"\".join is different and faster"
   ]
  },
  {
   "cell_type": "code",
   "execution_count": 49,
   "id": "7059bc67",
   "metadata": {},
   "outputs": [],
   "source": [
    "def string_cat_1(n):\n",
    "    s = \"\"\n",
    "    for i in range(1, 101):\n",
    "        s += string.ascii_letters\n",
    "        "
   ]
  },
  {
   "cell_type": "code",
   "execution_count": 50,
   "id": "6521752c",
   "metadata": {},
   "outputs": [],
   "source": [
    "def string_cat_2(n):\n",
    "    s = \"\"\n",
    "    for i in range(1, 101):\n",
    "        s.join(string.ascii_letters)"
   ]
  },
  {
   "cell_type": "code",
   "execution_count": 52,
   "id": "9b80de65",
   "metadata": {},
   "outputs": [
    {
     "name": "stdout",
     "output_type": "stream",
     "text": [
      "17.4 µs ± 327 ns per loop (mean ± std. dev. of 7 runs, 100,000 loops each)\n"
     ]
    }
   ],
   "source": [
    "%timeit string_cat_1(101)\n"
   ]
  },
  {
   "cell_type": "code",
   "execution_count": 53,
   "id": "196ac0e7",
   "metadata": {},
   "outputs": [
    {
     "name": "stdout",
     "output_type": "stream",
     "text": [
      "136 µs ± 935 ns per loop (mean ± std. dev. of 7 runs, 10,000 loops each)\n"
     ]
    }
   ],
   "source": [
    "%timeit string_cat_2(101)"
   ]
  },
  {
   "cell_type": "markdown",
   "id": "bde92b59",
   "metadata": {},
   "source": [
    "#### Use vectorization  \n",
    "apply operations to all elements of an array in one go  \n",
    "\"for\" loop manipulates one row at a time\n"
   ]
  },
  {
   "cell_type": "code",
   "execution_count": 73,
   "id": "ac6e8bd9",
   "metadata": {},
   "outputs": [],
   "source": [
    "def find_sum(n):\n",
    "    total = 0\n",
    "    for i in range(n):\n",
    "        total += i"
   ]
  },
  {
   "cell_type": "code",
   "execution_count": 74,
   "id": "7a706a7f",
   "metadata": {
    "scrolled": true
   },
   "outputs": [
    {
     "name": "stdout",
     "output_type": "stream",
     "text": [
      "67.8 ms ± 472 µs per loop (mean ± std. dev. of 7 runs, 10 loops each)\n"
     ]
    }
   ],
   "source": [
    "%timeit find_sum(1_000_000)"
   ]
  },
  {
   "cell_type": "code",
   "execution_count": 75,
   "id": "aece92cc",
   "metadata": {},
   "outputs": [],
   "source": [
    "import numpy as np\n",
    "def find_sum_vector(n):\n",
    "    total = 0\n",
    "    total = np.sum(np.arange(n))"
   ]
  },
  {
   "cell_type": "code",
   "execution_count": 76,
   "id": "78907a63",
   "metadata": {},
   "outputs": [
    {
     "name": "stdout",
     "output_type": "stream",
     "text": [
      "1.84 ms ± 25 µs per loop (mean ± std. dev. of 7 runs, 1,000 loops each)\n"
     ]
    }
   ],
   "source": [
    "%timeit find_sum_vector(1_000_000)"
   ]
  },
  {
   "cell_type": "code",
   "execution_count": 77,
   "id": "fe4b4744",
   "metadata": {},
   "outputs": [
    {
     "data": {
      "text/plain": [
       "0.9728613569321534"
      ]
     },
     "execution_count": 77,
     "metadata": {},
     "output_type": "execute_result"
    }
   ],
   "source": [
    "(67.8-1.84)/67.8"
   ]
  },
  {
   "cell_type": "markdown",
   "id": "a80420ae",
   "metadata": {},
   "source": [
    "#### create dataframe  \n",
    "create a 5 million row x 4 columns filled with random values\n"
   ]
  },
  {
   "cell_type": "code",
   "execution_count": 94,
   "id": "c3edf581",
   "metadata": {},
   "outputs": [
    {
     "data": {
      "text/plain": [
       "(5000, 4)"
      ]
     },
     "execution_count": 94,
     "metadata": {},
     "output_type": "execute_result"
    }
   ],
   "source": [
    "import numpy as np \n",
    "import pandas as pd\n",
    "df = pd.DataFrame(np.random.randint(0, 50, size=(5_000, 4)), columns=('a','b','c','d'))\n",
    "df.shape"
   ]
  },
  {
   "cell_type": "code",
   "execution_count": 95,
   "id": "351e5422",
   "metadata": {},
   "outputs": [
    {
     "data": {
      "text/html": [
       "<div>\n",
       "<style scoped>\n",
       "    .dataframe tbody tr th:only-of-type {\n",
       "        vertical-align: middle;\n",
       "    }\n",
       "\n",
       "    .dataframe tbody tr th {\n",
       "        vertical-align: top;\n",
       "    }\n",
       "\n",
       "    .dataframe thead th {\n",
       "        text-align: right;\n",
       "    }\n",
       "</style>\n",
       "<table border=\"1\" class=\"dataframe\">\n",
       "  <thead>\n",
       "    <tr style=\"text-align: right;\">\n",
       "      <th></th>\n",
       "      <th>a</th>\n",
       "      <th>b</th>\n",
       "      <th>c</th>\n",
       "      <th>d</th>\n",
       "    </tr>\n",
       "  </thead>\n",
       "  <tbody>\n",
       "    <tr>\n",
       "      <th>0</th>\n",
       "      <td>39</td>\n",
       "      <td>40</td>\n",
       "      <td>6</td>\n",
       "      <td>29</td>\n",
       "    </tr>\n",
       "    <tr>\n",
       "      <th>1</th>\n",
       "      <td>8</td>\n",
       "      <td>23</td>\n",
       "      <td>33</td>\n",
       "      <td>48</td>\n",
       "    </tr>\n",
       "    <tr>\n",
       "      <th>2</th>\n",
       "      <td>15</td>\n",
       "      <td>23</td>\n",
       "      <td>19</td>\n",
       "      <td>40</td>\n",
       "    </tr>\n",
       "    <tr>\n",
       "      <th>3</th>\n",
       "      <td>49</td>\n",
       "      <td>6</td>\n",
       "      <td>47</td>\n",
       "      <td>11</td>\n",
       "    </tr>\n",
       "    <tr>\n",
       "      <th>4</th>\n",
       "      <td>8</td>\n",
       "      <td>3</td>\n",
       "      <td>48</td>\n",
       "      <td>32</td>\n",
       "    </tr>\n",
       "  </tbody>\n",
       "</table>\n",
       "</div>"
      ],
      "text/plain": [
       "    a   b   c   d\n",
       "0  39  40   6  29\n",
       "1   8  23  33  48\n",
       "2  15  23  19  40\n",
       "3  49   6  47  11\n",
       "4   8   3  48  32"
      ]
     },
     "execution_count": 95,
     "metadata": {},
     "output_type": "execute_result"
    }
   ],
   "source": [
    "df.head()"
   ]
  },
  {
   "cell_type": "code",
   "execution_count": 96,
   "id": "9bd182b1",
   "metadata": {},
   "outputs": [],
   "source": [
    "def create_new_col(df):\n",
    "    for idx, row in df.iterrows():\n",
    "        df.at[idx, 'ratio'] = 100 *  (row['d'] / (1+(row['c'])))"
   ]
  },
  {
   "cell_type": "code",
   "execution_count": 97,
   "id": "65bf5c38",
   "metadata": {
    "scrolled": true
   },
   "outputs": [
    {
     "name": "stdout",
     "output_type": "stream",
     "text": [
      "439 ms ± 2.63 ms per loop (mean ± std. dev. of 7 runs, 1 loop each)\n"
     ]
    }
   ],
   "source": [
    "%timeit create_new_col(df)"
   ]
  },
  {
   "cell_type": "code",
   "execution_count": 100,
   "id": "5afdeea3",
   "metadata": {},
   "outputs": [],
   "source": [
    "def create_new_vec(df):\n",
    "    df['ratio'] = 100 *  (df['d'] / (1+(df['c'])))"
   ]
  },
  {
   "cell_type": "code",
   "execution_count": 101,
   "id": "073d7874",
   "metadata": {},
   "outputs": [
    {
     "name": "stdout",
     "output_type": "stream",
     "text": [
      "501 µs ± 3.79 µs per loop (mean ± std. dev. of 7 runs, 1,000 loops each)\n"
     ]
    }
   ],
   "source": [
    "%timeit create_new_vec(df)"
   ]
  },
  {
   "cell_type": "code",
   "execution_count": 102,
   "id": "ef6216cb",
   "metadata": {},
   "outputs": [],
   "source": [
    "# preformance difference: 439 ms vs 501 ms"
   ]
  },
  {
   "cell_type": "code",
   "execution_count": 104,
   "id": "0aee0196",
   "metadata": {},
   "outputs": [
    {
     "data": {
      "text/plain": [
       "998.8587699316629"
      ]
     },
     "execution_count": 104,
     "metadata": {},
     "output_type": "execute_result"
    }
   ],
   "source": [
    "(439*1000 - 501) / 439"
   ]
  },
  {
   "cell_type": "markdown",
   "id": "3df463d5",
   "metadata": {},
   "source": [
    "#### Dataframe if - else statement, create new column based on conditions"
   ]
  },
  {
   "cell_type": "code",
   "execution_count": 111,
   "id": "514ae6bc",
   "metadata": {},
   "outputs": [],
   "source": [
    "# use basic if / else statements\n",
    "def df_if_new(df):\n",
    "    for idx, row in df.iterrows():\n",
    "        if row.a == 0:\n",
    "            df.at[idx, 'e'] = row.d\n",
    "        elif (row.a <= 25) & (row.a > 0):\n",
    "            df.at[idx, 'e'] = (row.b) - (row.c)\n",
    "        else:\n",
    "            df.at[idx, 'e'] = row.b + row.c"
   ]
  },
  {
   "cell_type": "code",
   "execution_count": 110,
   "id": "fd100199",
   "metadata": {},
   "outputs": [
    {
     "name": "stdout",
     "output_type": "stream",
     "text": [
      "598 ms ± 5.5 ms per loop (mean ± std. dev. of 7 runs, 1 loop each)\n"
     ]
    }
   ],
   "source": [
    "%timeit df_if_new(df)"
   ]
  },
  {
   "cell_type": "code",
   "execution_count": 113,
   "id": "86c5e16e",
   "metadata": {},
   "outputs": [],
   "source": [
    "# use vectorization\n",
    "def df_if_vec(df):\n",
    "    df['e'] = df['b'] + df['c']\n",
    "    df.loc[df['a'] < 25, 'e'] = df['b'] - df['c']\n",
    "    df.loc[df['a'] == 0, 'e'] = df['d']\n",
    "    "
   ]
  },
  {
   "cell_type": "code",
   "execution_count": 114,
   "id": "182cd37d",
   "metadata": {},
   "outputs": [
    {
     "name": "stdout",
     "output_type": "stream",
     "text": [
      "2.02 ms ± 53.9 µs per loop (mean ± std. dev. of 7 runs, 100 loops each)\n"
     ]
    }
   ],
   "source": [
    "%timeit df_if_vec(df)"
   ]
  },
  {
   "cell_type": "code",
   "execution_count": 115,
   "id": "58391fa2",
   "metadata": {},
   "outputs": [
    {
     "data": {
      "text/plain": [
       "0.9966220735785953"
      ]
     },
     "execution_count": 115,
     "metadata": {},
     "output_type": "execute_result"
    }
   ],
   "source": [
    "(598 - 2.02)/598"
   ]
  },
  {
   "cell_type": "markdown",
   "id": "9abe83af",
   "metadata": {},
   "source": [
    "#### Deep learning multi-linear regression calculations  \n",
    "$$ y = m{_1}x{_1} + m{_2}x{_2} +m{_3}x{_3} +m{_4}x{_4} +m{_5}x{_1} + c $$\n",
    "\n",
    "Use loop for million of rows of calculations is slow  \n",
    "Vectorization is the  optimal solution"
   ]
  },
  {
   "cell_type": "code",
   "execution_count": 130,
   "id": "f5f684ef",
   "metadata": {},
   "outputs": [
    {
     "data": {
      "text/plain": [
       "((1, 5), (100000, 5))"
      ]
     },
     "execution_count": 130,
     "metadata": {},
     "output_type": "execute_result"
    }
   ],
   "source": [
    "# create random data \n",
    "import numpy as np\n",
    "m = np.random.rand(1,5)\n",
    "n = np.random.rand(100000,5)\n",
    "m.shape, n.shape\n"
   ]
  },
  {
   "cell_type": "code",
   "execution_count": 172,
   "id": "2de19177",
   "metadata": {},
   "outputs": [],
   "source": [
    "# use loop for calculations\n",
    "import numpy as np\n",
    "\n",
    "def loop_reg_sum(col, row):\n",
    "    m = np.random.rand(1,col)\n",
    "    n = np.random.rand(row,col)\n",
    "    result = []\n",
    "    for i in range(row):\n",
    "        total = 0 \n",
    "        for j in range(col):\n",
    "            total += n[j][j]*m[0][j]\n",
    "#         print(i, total)\n",
    "        result.append(total)\n"
   ]
  },
  {
   "cell_type": "code",
   "execution_count": 173,
   "id": "e118d62b",
   "metadata": {},
   "outputs": [
    {
     "name": "stdout",
     "output_type": "stream",
     "text": [
      "396 ms ± 651 µs per loop (mean ± std. dev. of 7 runs, 1 loop each)\n"
     ]
    }
   ],
   "source": [
    "%timeit loop_reg_sum(5, 100_000)"
   ]
  },
  {
   "cell_type": "code",
   "execution_count": 175,
   "id": "4e8d05a7",
   "metadata": {},
   "outputs": [],
   "source": [
    "# use vectorization \n",
    "def vec_reg_sum(col, row):\n",
    "    m = np.random.rand(1,col)\n",
    "    n = np.random.rand(row,col)    \n",
    "    result = np.dot(n, m.T)\n",
    "    "
   ]
  },
  {
   "cell_type": "code",
   "execution_count": 176,
   "id": "db5eeea4",
   "metadata": {},
   "outputs": [
    {
     "name": "stdout",
     "output_type": "stream",
     "text": [
      "7.34 ms ± 83 µs per loop (mean ± std. dev. of 7 runs, 100 loops each)\n"
     ]
    }
   ],
   "source": [
    "%timeit vec_reg_sum(5, 100_000)"
   ]
  },
  {
   "cell_type": "code",
   "execution_count": 178,
   "id": "46cc0652",
   "metadata": {},
   "outputs": [
    {
     "name": "stdout",
     "output_type": "stream",
     "text": [
      "/Users/user/Documents/repo/side-projects/pandas-basics\r\n"
     ]
    }
   ],
   "source": []
  },
  {
   "cell_type": "code",
   "execution_count": null,
   "id": "98538221",
   "metadata": {},
   "outputs": [],
   "source": []
  }
 ],
 "metadata": {
  "kernelspec": {
   "display_name": "Python 3 (ipykernel)",
   "language": "python",
   "name": "python3"
  },
  "language_info": {
   "codemirror_mode": {
    "name": "ipython",
    "version": 3
   },
   "file_extension": ".py",
   "mimetype": "text/x-python",
   "name": "python",
   "nbconvert_exporter": "python",
   "pygments_lexer": "ipython3",
   "version": "3.10.11"
  }
 },
 "nbformat": 4,
 "nbformat_minor": 5
}
