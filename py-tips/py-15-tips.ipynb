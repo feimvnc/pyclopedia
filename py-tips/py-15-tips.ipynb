{
 "cells": [
  {
   "cell_type": "markdown",
   "id": "3b012016",
   "metadata": {},
   "source": [
    "source: \n",
    "https://dev.to/scofieldidehen/advanced-python-tips-for-development-olo"
   ]
  },
  {
   "cell_type": "code",
   "execution_count": 7,
   "id": "6f7e0403",
   "metadata": {},
   "outputs": [
    {
     "name": "stdout",
     "output_type": "stream",
     "text": [
      "[1, 4, 9, 16, 25]\n",
      "[1, 4, 9, 16, 25]\n"
     ]
    }
   ],
   "source": [
    "#1  use list comprehension for conciise code\n",
    "\n",
    "# traditional approach \n",
    "numbers = [1,2,3,4,5]\n",
    "squared_numbers = []\n",
    "for num in numbers:\n",
    "    squared_numbers.append(num ** 2)\n",
    "\n",
    "print(squared_numbers)\n",
    "\n",
    "# use list comprehension\n",
    "squared_numbers = [num ** 2 for num in numbers]\n",
    "print(squared_numbers)"
   ]
  },
  {
   "cell_type": "code",
   "execution_count": 19,
   "id": "7cd700a9",
   "metadata": {},
   "outputs": [
    {
     "name": "stdout",
     "output_type": "stream",
     "text": [
      "[1, 4, 9, 16, 25]\n",
      "[1, 4, 9, 16, 25]\n"
     ]
    }
   ],
   "source": [
    "#2 leverage generator expressions for memory efficieny\n",
    "\n",
    "# list comprehension (creation a list)\n",
    "numbers = [1,2,3,4,5]\n",
    "squared_numbers = [num ** 2 for num in numbers]\n",
    "print(squared_numbers)\n",
    "\n",
    "# generator expression (create an iterator)\n",
    "squared_numbers = (num ** 2 for num in numbers)\n",
    "print(list(squared_numbers))"
   ]
  },
  {
   "cell_type": "code",
   "execution_count": 20,
   "id": "cb621775",
   "metadata": {},
   "outputs": [
    {
     "name": "stdout",
     "output_type": "stream",
     "text": [
      "i=0, v='a'\n",
      "i=1, v='b'\n",
      "i=2, v='c'\n",
      "i=3, v='d'\n"
     ]
    }
   ],
   "source": [
    "#3 take advantage of the enumerate() function \n",
    "a = [\"a\", \"b\", \"c\", \"d\"]\n",
    "for i, v in enumerate(a):\n",
    "    print(f\"{i=}, {v=}\")"
   ]
  },
  {
   "cell_type": "code",
   "execution_count": 22,
   "id": "dbe5c468",
   "metadata": {},
   "outputs": [
    {
     "name": "stdout",
     "output_type": "stream",
     "text": [
      "a, b, c, d\n"
     ]
    }
   ],
   "source": [
    "#4 smplify string concatenation with join()\n",
    "a = [\"a\", \"b\", \"c\", \"d\"]\n",
    "combined_char = ', '.join(a)\n",
    "print(combined_char)"
   ]
  },
  {
   "cell_type": "code",
   "execution_count": 23,
   "id": "c9f3d8ff",
   "metadata": {},
   "outputs": [
    {
     "name": "stdout",
     "output_type": "stream",
     "text": [
      "x='a', y=1\n",
      "x='b', y=2\n",
      "x='c', y=3\n",
      "x='d', y=4\n"
     ]
    }
   ],
   "source": [
    "#5 use zip() for parallel iteration\n",
    "a = [\"a\", \"b\", \"c\", \"d\"]\n",
    "n = [1,2,3,4]\n",
    "for x,y in zip(a,n):\n",
    "    print(f\"{x=}, {y=}\")"
   ]
  },
  {
   "cell_type": "code",
   "execution_count": 26,
   "id": "421afebc",
   "metadata": {},
   "outputs": [
    {
     "name": "stdout",
     "output_type": "stream",
     "text": [
      "defaultdict(<class 'int'>, {'a': 1, 'b': 1, 'c': 1, 'd': 1})\n"
     ]
    }
   ],
   "source": [
    "#6 use collections.defaultdict for default values \n",
    "from collections import defaultdict \n",
    "ch_counts = defaultdict(int)\n",
    "a = [\"a\", \"b\", \"c\", \"d\"]\n",
    "for i in a:\n",
    "    ch_counts[i] +=1\n",
    "print(ch_counts)\n"
   ]
  },
  {
   "cell_type": "code",
   "execution_count": 29,
   "id": "042aba3d",
   "metadata": {},
   "outputs": [
    {
     "name": "stdout",
     "output_type": "stream",
     "text": [
      "True\n",
      "False\n"
     ]
    }
   ],
   "source": [
    "#7 take advantage of the any() and all() functions\n",
    "a = [\"a\", \"b\", \"c\", \"d\"]\n",
    "print(any(ch > \"b\" for ch in a))\n",
    "print(all(ch > \"b\" for ch in a))"
   ]
  },
  {
   "cell_type": "code",
   "execution_count": 30,
   "id": "b900d702",
   "metadata": {},
   "outputs": [
    {
     "name": "stdout",
     "output_type": "stream",
     "text": [
      "Counter({'a': 2, 'b': 2, 'c': 1, 'd': 1})\n"
     ]
    }
   ],
   "source": [
    "#8 Use collection.Counter for Counting Elements\n",
    "from collections import Counter\n",
    "a = [\"a\", \"b\", \"c\", \"d\", \"a\", \"b\"]\n",
    "a_counter = Counter(a)\n",
    "print(a_counter)"
   ]
  },
  {
   "cell_type": "code",
   "execution_count": 31,
   "id": "24b733ec",
   "metadata": {},
   "outputs": [],
   "source": [
    "#9 Employ context managers with statements \n",
    "with open(\"hello.txt\", \"w\") as f:\n",
    "    f.writelines(\"hello world\")\n",
    "    \n",
    "with open(\"hello.txt\", \"r\") as file:\n",
    "    contents = file.read()"
   ]
  },
  {
   "cell_type": "code",
   "execution_count": 33,
   "id": "2f95aeb2",
   "metadata": {},
   "outputs": [
    {
     "name": "stdout",
     "output_type": "stream",
     "text": [
      "hello\n",
      "world\n",
      "name: alice\n",
      "age: 20\n"
     ]
    }
   ],
   "source": [
    "#10 Take advantage of *args and **kwargs for function arguments\n",
    "def print_args(*args, **kwargs):\n",
    "    for arg in args:\n",
    "        print(arg)\n",
    "    for k, v in kwargs.items():\n",
    "        print(f\"{k}: {v}\")\n",
    "print_args('hello', 'world', name='alice', age=20)"
   ]
  },
  {
   "cell_type": "code",
   "execution_count": 35,
   "id": "d0db7687",
   "metadata": {},
   "outputs": [
    {
     "name": "stdout",
     "output_type": "stream",
     "text": [
      "4\n",
      "27\n"
     ]
    }
   ],
   "source": [
    "#11 Deorate functions with @staticmethod and @classmethod\n",
    "\n",
    "\"\"\" \n",
    "The @staticmethod decorator allows you to define static methods within a class.  \n",
    "These methods don't have access to the instance or class itself but an be called \n",
    "without instantiating an object. Simimarly, the @classmethod decorator defines \n",
    "methods that receive the class itself as the first argument instead of \n",
    "of the instance.\n",
    "\"\"\"\n",
    "class MyUtils:\n",
    "    @staticmethod\n",
    "    def square(x):     # no instance parameter 'self'\n",
    "        return x**2 \n",
    "    \n",
    "    @classmethod\n",
    "    def cube(cls, x):    # cls as first parameter\n",
    "        return x ** 3 \n",
    "\n",
    "print(MyUtils.square(2))    # no () after MyUtils\n",
    "print(MyUtils.cube(3))    # no () after MyUtils\n"
   ]
  },
  {
   "cell_type": "code",
   "execution_count": 45,
   "id": "3e59de69",
   "metadata": {},
   "outputs": [
    {
     "name": "stdout",
     "output_type": "stream",
     "text": [
      "<__main__.Point object at 0x1106f9060> <class '__main__.Point'>\n",
      "<__main__.Point object at 0x1105da770> <class '__main__.Point'>\n",
      "<__main__.Point object at 0x1105da770> <class '__main__.Point'>\n",
      "<__main__.Point object at 0x1105da770> <class '__main__.Point'>\n",
      "<__main__.Point object at 0x1105da770> <class '__main__.Point'>\n"
     ]
    }
   ],
   "source": [
    "#12 Utilize slot to reduce memory usage\n",
    "\"\"\" \n",
    "Python stores instance attributes in a dictionary by default, which an consume\n",
    "a significant amount of memory, especially when creating many instances.\n",
    "However, you can us the slots attributes to tell Python to allocate \n",
    "memory for a fixed set of instance variables, reducing memory usage.\n",
    "\"\"\"\n",
    "class Point:\n",
    "    __slots__ = ['x', 'y']\n",
    "    def __init__(self, x, y):\n",
    "        self.x = x \n",
    "        self.y = y \n",
    "\n",
    "for x in range(5):\n",
    "    x = Point(x, x)\n",
    "    print(x, type(x))"
   ]
  },
  {
   "cell_type": "code",
   "execution_count": 50,
   "id": "55d2d4da",
   "metadata": {},
   "outputs": [],
   "source": [
    "#13 Employ contextlib.suppress to Ignore Exceptions\n",
    "\"\"\" \n",
    "The contextlib.suppress context manager is a convenient way to ignore \n",
    "specific exceptions raised within a code block.  It helps to prevent \n",
    "unneccessary try-except blocks and keeps your code clean.  \n",
    "\"\"\"\n",
    "from contextlib import suppress \n",
    "with suppress(FileNotFoundError):\n",
    "    with open('hello_x.txt', 'r') as file:\n",
    "        contents = file.read()\n",
    "\n",
    "# with open('hello_x.txt', 'r') as file:\n",
    "#     contents = file.read()\n",
    "\n"
   ]
  },
  {
   "cell_type": "markdown",
   "id": "0f118af0",
   "metadata": {},
   "source": [
    "Top Libraries for Python\n",
    "\n",
    "Let us dive into some top Python libraries, they include:\n",
    "\n",
    "NumPy: A fundamental library for numerical computing in Python, providing support for arrays and matrices operations.\n",
    "\n",
    "Pandas: A powerful library for data manipulation and analysis, offering data structures like DataFrames and Series.\n",
    "\n",
    "Matplotlib: A popular plotting library for creating static, interactive, and animated visualizations in Python.\n",
    "\n",
    "scikit-learn: A machine learning library that provides efficient tools for data mining and data analysis.\n",
    "\n",
    "TensorFlow: An open-source machine learning framework developed by Google, widely used for deep learning tasks.\n",
    "\n",
    "PyTorch: Another popular deep learning framework, especially favored by researchers, known for its dynamic computation graphs.\n",
    "\n",
    "SciPy: An extension of NumPy that offers additional functionality for scientific and technical computing.\n",
    "\n",
    "NLTK (Natural Language Toolkit): A comprehensive library for natural language processing tasks.\n",
    "\n",
    "OpenCV: A computer vision library that provides a wide range of image and video processing capabilities.\n",
    "\n",
    "Requests: A simple and elegant HTTP library for making API requests in Python.\n",
    "\n",
    "BeautifulSoup: A library for web scraping, helping extract data from HTML and XML files.\n",
    "\n",
    "Django: A high-level web framework for building robust and scalable web applications.\n",
    "\n",
    "Flask: A lightweight web framework that is simple and easy to use for developing web applications.\n",
    "\n",
    "SQLAlchemy: A SQL toolkit and Object-Relational Mapping (ORM) library for working with databases."
   ]
  },
  {
   "cell_type": "code",
   "execution_count": null,
   "id": "7724cb72",
   "metadata": {},
   "outputs": [],
   "source": []
  }
 ],
 "metadata": {
  "kernelspec": {
   "display_name": "Python 3 (ipykernel)",
   "language": "python",
   "name": "python3"
  },
  "language_info": {
   "codemirror_mode": {
    "name": "ipython",
    "version": 3
   },
   "file_extension": ".py",
   "mimetype": "text/x-python",
   "name": "python",
   "nbconvert_exporter": "python",
   "pygments_lexer": "ipython3",
   "version": "3.11.4"
  }
 },
 "nbformat": 4,
 "nbformat_minor": 5
}
