{
 "cells": [
  {
   "cell_type": "code",
   "execution_count": 1,
   "id": "3cf154e8",
   "metadata": {},
   "outputs": [],
   "source": [
    "import requests\n",
    "from bs4 import BeautifulSoup"
   ]
  },
  {
   "cell_type": "code",
   "execution_count": 4,
   "id": "6925eda6",
   "metadata": {},
   "outputs": [
    {
     "name": "stdout",
     "output_type": "stream",
     "text": [
      "200\n"
     ]
    }
   ],
   "source": [
    "url = \"https://blog.learnhub.africa/\"\n",
    "response = requests.get(url)\n",
    "print(response.status_code)\n"
   ]
  },
  {
   "cell_type": "code",
   "execution_count": 15,
   "id": "3d0e6c94",
   "metadata": {},
   "outputs": [
    {
     "name": "stdout",
     "output_type": "stream",
     "text": [
      "\n",
      "Object-Oriented Programming in Python\n",
      "\n",
      "https://blog.learnhub.africa/2023/07/27/object-oriented-programming-in-python/\n",
      "\n",
      "API and Web Development: The Ying to the Yang\n",
      "\n",
      "https://blog.learnhub.africa/2023/07/26/api-and-web-development-the-ying-to-the-yang/\n",
      "\n",
      "Road Map To Become a Web Developer\n",
      "\n",
      "https://blog.learnhub.africa/2023/07/25/road-map-to-become-a-web-developer/\n",
      "\n",
      "How I Learned To Code In 6 Months & Got a Job Offer (self-taught)\n",
      "\n",
      "https://blog.learnhub.africa/2023/07/24/how-i-learned-to-code-in-6-months-got-a-job-offer-self-taught/\n",
      "\n",
      "What is Asynchronous JavaScript?\n",
      "\n",
      "https://blog.learnhub.africa/2023/07/24/what-is-asynchronous-javascript/\n",
      "\n",
      "Unlocking the Power of PyScript: A Guide to Running Python Code in Your HTML\n",
      "\n",
      "https://blog.learnhub.africa/2023/07/23/unlocking-the-power-of-pyscript-a-guide-to-running-python-code-in-your-html/\n",
      "\n",
      "Deepfakes: Good or Bad?\n",
      "\n",
      "https://blog.learnhub.africa/2023/07/21/deepfakes-good-or-bad/\n",
      "\n",
      "Scraping Using Python in Step by step approach\n",
      "\n",
      "https://blog.learnhub.africa/2023/07/21/scraping-using-python-in-step-by-step-approach/\n",
      "\n",
      "The Power of React Dom For Front-End Development\n",
      "\n",
      "https://blog.learnhub.africa/2023/07/21/the-power-of-react-dom-for-front-end-development/\n",
      "\n",
      "Mastering Django Templates: A Guide to Advanced Features and Best Practices\n",
      "\n",
      "https://blog.learnhub.africa/2023/07/20/mastering-django-templates-a-guide-to-advanced-features-and-best-practices/\n"
     ]
    }
   ],
   "source": [
    "soup = BeautifulSoup(response.content, 'html.parser')\n",
    "# print(soup)\n",
    "# CSS selector for post titles\n",
    "title_selector = \".wppsac-post-title\"\n",
    " \n",
    "# CSS selector for post URLs\n",
    "url_selector = \".wppsac-post-title a\"\n",
    "\n",
    "# Find all post titles\n",
    "titles = soup.select(title_selector)\n",
    " \n",
    "# Find all post URLs\n",
    "urls = soup.select(url_selector)\n",
    " \n",
    "# Extract the text and href attributes of each title and URL\n",
    "for title, url in zip(titles, urls):\n",
    "    print(title.text)\n",
    "    print(url['href'])"
   ]
  },
  {
   "cell_type": "code",
   "execution_count": null,
   "id": "4aca1642",
   "metadata": {},
   "outputs": [],
   "source": []
  }
 ],
 "metadata": {
  "kernelspec": {
   "display_name": "Python 3 (ipykernel)",
   "language": "python",
   "name": "python3"
  },
  "language_info": {
   "codemirror_mode": {
    "name": "ipython",
    "version": 3
   },
   "file_extension": ".py",
   "mimetype": "text/x-python",
   "name": "python",
   "nbconvert_exporter": "python",
   "pygments_lexer": "ipython3",
   "version": "3.11.4"
  }
 },
 "nbformat": 4,
 "nbformat_minor": 5
}
