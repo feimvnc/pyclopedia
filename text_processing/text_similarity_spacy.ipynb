{
 "cells": [
  {
   "cell_type": "code",
   "execution_count": 1,
   "id": "23f68af0",
   "metadata": {},
   "outputs": [
    {
     "name": "stderr",
     "output_type": "stream",
     "text": [
      "2024-01-13 15:32:19.424025: I tensorflow/core/platform/cpu_feature_guard.cc:182] This TensorFlow binary is optimized to use available CPU instructions in performance-critical operations.\n",
      "To enable the following instructions: AVX2 FMA, in other operations, rebuild TensorFlow with the appropriate compiler flags.\n"
     ]
    },
    {
     "data": {
      "text/plain": [
       "<spacy.lang.en.English at 0x17480a1d0>"
      ]
     },
     "execution_count": 1,
     "metadata": {},
     "output_type": "execute_result"
    }
   ],
   "source": [
    "# word similarity with spacy\n",
    "import spacy \n",
    "nlp = spacy.load(\"en_core_web_sm\")\n",
    "nlp"
   ]
  },
  {
   "cell_type": "code",
   "execution_count": 2,
   "id": "d6c2b0b2",
   "metadata": {},
   "outputs": [],
   "source": [
    "w1 = nlp(\"hello\")\n",
    "w2 = nlp(\"hi\")"
   ]
  },
  {
   "cell_type": "code",
   "execution_count": 3,
   "id": "b888dcc1",
   "metadata": {},
   "outputs": [
    {
     "data": {
      "text/plain": [
       "(hello, hi)"
      ]
     },
     "execution_count": 3,
     "metadata": {},
     "output_type": "execute_result"
    }
   ],
   "source": [
    "w1, w2"
   ]
  },
  {
   "cell_type": "code",
   "execution_count": 4,
   "id": "85b657a3",
   "metadata": {},
   "outputs": [
    {
     "name": "stderr",
     "output_type": "stream",
     "text": [
      "/var/folders/l1/dzcw8wr90wxdt447b9wlfw3r0000gn/T/ipykernel_15837/108627858.py:1: UserWarning: [W007] The model you're using has no word vectors loaded, so the result of the Doc.similarity method will be based on the tagger, parser and NER, which may not give useful similarity judgements. This may happen if you're using one of the small models, e.g. `en_core_web_sm`, which don't ship with word vectors and only use context-sensitive tensors. You can always add your own word vectors, or use one of the larger models instead if available.\n",
      "  w1.similarity(w2)\n"
     ]
    },
    {
     "data": {
      "text/plain": [
       "0.7161104995803708"
      ]
     },
     "execution_count": 4,
     "metadata": {},
     "output_type": "execute_result"
    }
   ],
   "source": [
    "w1.similarity(w2)"
   ]
  },
  {
   "cell_type": "code",
   "execution_count": 5,
   "id": "38471a1b",
   "metadata": {},
   "outputs": [
    {
     "name": "stderr",
     "output_type": "stream",
     "text": [
      "/var/folders/l1/dzcw8wr90wxdt447b9wlfw3r0000gn/T/ipykernel_15837/4151222397.py:2: UserWarning: [W007] The model you're using has no word vectors loaded, so the result of the Doc.similarity method will be based on the tagger, parser and NER, which may not give useful similarity judgements. This may happen if you're using one of the small models, e.g. `en_core_web_sm`, which don't ship with word vectors and only use context-sensitive tensors. You can always add your own word vectors, or use one of the larger models instead if available.\n",
      "  w3.similarity(w4)\n"
     ]
    },
    {
     "data": {
      "text/plain": [
       "0.4462176170666506"
      ]
     },
     "execution_count": 5,
     "metadata": {},
     "output_type": "execute_result"
    }
   ],
   "source": [
    "w3, w4 = nlp(\"hello\"), nlp(\"car\")\n",
    "w3.similarity(w4)"
   ]
  },
  {
   "cell_type": "code",
   "execution_count": 6,
   "id": "97688f25",
   "metadata": {},
   "outputs": [],
   "source": [
    "# sentence similarity \n",
    "s = [nlp(\"to be or not to be, this is a question\"),\n",
    "    nlp(\"all is well ends well\"),\n",
    "    nlp(\"what is the meaning of life\")]\n"
   ]
  },
  {
   "cell_type": "code",
   "execution_count": 7,
   "id": "59ee2978",
   "metadata": {},
   "outputs": [
    {
     "name": "stdout",
     "output_type": "stream",
     "text": [
      "0.19102018309761395\n",
      "0.11857833356174767\n",
      "0.6450773916638408\n"
     ]
    },
    {
     "name": "stderr",
     "output_type": "stream",
     "text": [
      "/var/folders/l1/dzcw8wr90wxdt447b9wlfw3r0000gn/T/ipykernel_15837/1489614377.py:3: UserWarning: [W007] The model you're using has no word vectors loaded, so the result of the Doc.similarity method will be based on the tagger, parser and NER, which may not give useful similarity judgements. This may happen if you're using one of the small models, e.g. `en_core_web_sm`, which don't ship with word vectors and only use context-sensitive tensors. You can always add your own word vectors, or use one of the larger models instead if available.\n",
      "  print(sample.similarity(s[i]))\n"
     ]
    }
   ],
   "source": [
    "sample = nlp(\"meaning of life\")\n",
    "for i in range(len(s)):\n",
    "    print(sample.similarity(s[i]))"
   ]
  },
  {
   "cell_type": "code",
   "execution_count": null,
   "id": "7057d969",
   "metadata": {},
   "outputs": [],
   "source": []
  }
 ],
 "metadata": {
  "kernelspec": {
   "display_name": "Python 3 (ipykernel)",
   "language": "python",
   "name": "python3"
  },
  "language_info": {
   "codemirror_mode": {
    "name": "ipython",
    "version": 3
   },
   "file_extension": ".py",
   "mimetype": "text/x-python",
   "name": "python",
   "nbconvert_exporter": "python",
   "pygments_lexer": "ipython3",
   "version": "3.11.4"
  }
 },
 "nbformat": 4,
 "nbformat_minor": 5
}
